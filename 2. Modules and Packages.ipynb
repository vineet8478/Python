{
 "cells": [
  {
   "cell_type": "markdown",
   "id": "c6b78c6f",
   "metadata": {},
   "source": [
    "## Modules\n",
    "\n",
    "#### System Defined (In-built) Modules"
   ]
  },
  {
   "cell_type": "code",
   "execution_count": 1,
   "id": "c07b1b89",
   "metadata": {},
   "outputs": [
    {
     "data": {
      "text/plain": [
       "['C:\\\\Users\\\\dbhabad\\\\FY23 P10 AA\\\\Week2',\n",
       " 'C:\\\\Users\\\\dbhabad\\\\Anaconda3\\\\python39.zip',\n",
       " 'C:\\\\Users\\\\dbhabad\\\\Anaconda3\\\\DLLs',\n",
       " 'C:\\\\Users\\\\dbhabad\\\\Anaconda3\\\\lib',\n",
       " 'C:\\\\Users\\\\dbhabad\\\\Anaconda3',\n",
       " '',\n",
       " 'C:\\\\Users\\\\dbhabad\\\\Anaconda3\\\\lib\\\\site-packages',\n",
       " 'C:\\\\Users\\\\dbhabad\\\\Anaconda3\\\\lib\\\\site-packages\\\\win32',\n",
       " 'C:\\\\Users\\\\dbhabad\\\\Anaconda3\\\\lib\\\\site-packages\\\\win32\\\\lib',\n",
       " 'C:\\\\Users\\\\dbhabad\\\\Anaconda3\\\\lib\\\\site-packages\\\\Pythonwin',\n",
       " 'C:\\\\Users\\\\dbhabad\\\\Anaconda3\\\\lib\\\\site-packages\\\\IPython\\\\extensions',\n",
       " 'C:\\\\Users\\\\dbhabad\\\\.ipython']"
      ]
     },
     "execution_count": 1,
     "metadata": {},
     "output_type": "execute_result"
    }
   ],
   "source": [
    "import sys\n",
    "sys.path"
   ]
  },
  {
   "cell_type": "code",
   "execution_count": 2,
   "id": "0f57c10d",
   "metadata": {},
   "outputs": [
    {
     "data": {
      "text/plain": [
       "'Windows'"
      ]
     },
     "execution_count": 2,
     "metadata": {},
     "output_type": "execute_result"
    }
   ],
   "source": [
    "import platform as pf\n",
    "pf.system() "
   ]
  },
  {
   "cell_type": "code",
   "execution_count": 5,
   "id": "de59b8a6",
   "metadata": {},
   "outputs": [
    {
     "data": {
      "text/plain": [
       "datetime.datetime(2023, 3, 6, 11, 31, 36, 307238)"
      ]
     },
     "execution_count": 5,
     "metadata": {},
     "output_type": "execute_result"
    }
   ],
   "source": [
    "import datetime as dt\n",
    "dt.datetime.utcnow()"
   ]
  },
  {
   "cell_type": "code",
   "execution_count": 6,
   "id": "f2351898",
   "metadata": {},
   "outputs": [
    {
     "data": {
      "text/plain": [
       "datetime.datetime(2023, 2, 13, 9, 44, 13, 519956)"
      ]
     },
     "execution_count": 6,
     "metadata": {},
     "output_type": "execute_result"
    }
   ],
   "source": [
    "import datetime as dt\n",
    "dt.datetime.utcnow()"
   ]
  },
  {
   "cell_type": "code",
   "execution_count": 6,
   "id": "042d7166",
   "metadata": {},
   "outputs": [
    {
     "data": {
      "text/plain": [
       "31.622776601683793"
      ]
     },
     "execution_count": 6,
     "metadata": {},
     "output_type": "execute_result"
    }
   ],
   "source": [
    "import math\n",
    "math.sqrt(1000)"
   ]
  },
  {
   "cell_type": "markdown",
   "id": "dd0d57e1",
   "metadata": {},
   "source": [
    "#### User Defined Modules"
   ]
  },
  {
   "cell_type": "code",
   "execution_count": null,
   "id": "d17fd4dd",
   "metadata": {},
   "outputs": [],
   "source": [
    "# # create one my_math.py file in currect working dir and copy below code and paste it in the file\n",
    "\n",
    "def add_two_nums(a, b):\n",
    "    c = a + b\n",
    "    print('Addition of 2 numbers is: ', c)\n",
    "    \n",
    "def add_three_nums(a, b, c):\n",
    "    c = a + b + c\n",
    "    print('Addition of 3 numbers is: ', c)"
   ]
  },
  {
   "cell_type": "code",
   "execution_count": 13,
   "id": "891b7329",
   "metadata": {},
   "outputs": [],
   "source": [
    "import my_module"
   ]
  },
  {
   "cell_type": "code",
   "execution_count": 14,
   "id": "b349c049",
   "metadata": {},
   "outputs": [
    {
     "name": "stdout",
     "output_type": "stream",
     "text": [
      "Addition of 2 numbers is:  300\n"
     ]
    }
   ],
   "source": [
    "my_module.add_two_nums(100, 200)"
   ]
  },
  {
   "cell_type": "code",
   "execution_count": 12,
   "id": "2f857198",
   "metadata": {},
   "outputs": [
    {
     "name": "stdout",
     "output_type": "stream",
     "text": [
      "Addition of 3 numbers is:  800\n"
     ]
    }
   ],
   "source": [
    "my_module.add_three_nums(100, 200, 500)"
   ]
  },
  {
   "cell_type": "markdown",
   "id": "2f2b536c",
   "metadata": {},
   "source": [
    "## Packages\n",
    "\n"
   ]
  },
  {
   "cell_type": "markdown",
   "id": "f6a61291",
   "metadata": {},
   "source": [
    "#### System Defined Modules \n",
    "\n",
    "As an example of system defined module detailed functionality of **pandas** and **numpy** packages is covered in the corresponding section. "
   ]
  },
  {
   "cell_type": "markdown",
   "id": "294ff466",
   "metadata": {},
   "source": [
    "#### User Defined Package\n",
    "\n",
    "create a new directory in current woking directory, and create __.____init__.py file in the newly created directory, now  it will be a user defined package for us.\n",
    "Name of the package will be same as name of a directory. Multiple modules and another sub-packages can be included in this package. "
   ]
  },
  {
   "cell_type": "code",
   "execution_count": null,
   "id": "5e38e640",
   "metadata": {},
   "outputs": [],
   "source": [
    "## import a module from package\n",
    "from all_math import add_sub"
   ]
  },
  {
   "cell_type": "code",
   "execution_count": null,
   "id": "a97d40f5",
   "metadata": {},
   "outputs": [],
   "source": [
    "# use the functionality from an imported module\n",
    "\n",
    "add_sub.add_two_nums(100, 200)\n",
    "add_sub.sub_two_nums(1000, 200)"
   ]
  },
  {
   "cell_type": "code",
   "execution_count": null,
   "id": "5bb7d93c",
   "metadata": {},
   "outputs": [],
   "source": [
    "# can not use the functionality from a module without importing \n",
    "mul_div.multi_two_nums(100, 200)"
   ]
  },
  {
   "cell_type": "code",
   "execution_count": null,
   "id": "0142024f",
   "metadata": {},
   "outputs": [],
   "source": [
    "# import\n",
    "from all_math import mul_div"
   ]
  },
  {
   "cell_type": "code",
   "execution_count": null,
   "id": "6380266f",
   "metadata": {},
   "outputs": [],
   "source": [
    "# use functionality\n",
    "mul_div.multiply_two_nums(100, 200)"
   ]
  },
  {
   "cell_type": "code",
   "execution_count": null,
   "id": "72e83466",
   "metadata": {},
   "outputs": [],
   "source": [
    "# use functionality\n",
    "mul_div.divide_two_nums(100, 200)"
   ]
  },
  {
   "cell_type": "code",
   "execution_count": null,
   "id": "f805f5a8",
   "metadata": {},
   "outputs": [],
   "source": [
    "# import everything from a module\n",
    "from all_math import *"
   ]
  },
  {
   "cell_type": "code",
   "execution_count": null,
   "id": "3fd3b048",
   "metadata": {},
   "outputs": [],
   "source": [
    "import all_math"
   ]
  },
  {
   "cell_type": "code",
   "execution_count": null,
   "id": "8f2f3c24",
   "metadata": {},
   "outputs": [],
   "source": []
  }
 ],
 "metadata": {
  "kernelspec": {
   "display_name": "Python 3 (ipykernel)",
   "language": "python",
   "name": "python3"
  },
  "language_info": {
   "codemirror_mode": {
    "name": "ipython",
    "version": 3
   },
   "file_extension": ".py",
   "mimetype": "text/x-python",
   "name": "python",
   "nbconvert_exporter": "python",
   "pygments_lexer": "ipython3",
   "version": "3.9.13"
  }
 },
 "nbformat": 4,
 "nbformat_minor": 5
}
