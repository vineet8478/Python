{
 "cells": [
  {
   "cell_type": "markdown",
   "id": "315e09fe",
   "metadata": {},
   "source": [
    "## Python and MySQL Database Connectivity"
   ]
  },
  {
   "cell_type": "code",
   "execution_count": 1,
   "id": "f5d19e00",
   "metadata": {},
   "outputs": [
    {
     "name": "stdout",
     "output_type": "stream",
     "text": [
      "Requirement already satisfied: mysql-connector-python in c:\\users\\dbhabad\\anaconda3\\lib\\site-packages (8.0.31)\n",
      "Requirement already satisfied: protobuf<=3.20.1,>=3.11.0 in c:\\users\\dbhabad\\anaconda3\\lib\\site-packages (from mysql-connector-python) (3.20.1)\n"
     ]
    }
   ],
   "source": [
    "# install library\n",
    "\n",
    "!pip install mysql-connector-python"
   ]
  },
  {
   "cell_type": "code",
   "execution_count": 2,
   "id": "d2b076c7",
   "metadata": {},
   "outputs": [],
   "source": [
    "# import the required package\n",
    "\n",
    "import mysql.connector"
   ]
  },
  {
   "cell_type": "code",
   "execution_count": 4,
   "id": "b88d3e6d",
   "metadata": {},
   "outputs": [],
   "source": [
    "connection = mysql.connector.connect(host='localhost', \n",
    "                                     database='sample_db', \n",
    "                                     user='dnyanesh', \n",
    "                                     password='Pass123#$')"
   ]
  },
  {
   "cell_type": "code",
   "execution_count": 5,
   "id": "1e9a82ab",
   "metadata": {},
   "outputs": [
    {
     "name": "stdout",
     "output_type": "stream",
     "text": [
      "You're connected to database:  ('sample_db',)\n"
     ]
    }
   ],
   "source": [
    "cursor = connection.cursor()\n",
    "cursor.execute(\"select database();\")\n",
    "record = cursor.fetchone()\n",
    "print(\"You're connected to database: \", record)\n"
   ]
  },
  {
   "cell_type": "code",
   "execution_count": 6,
   "id": "7a3d8fc5",
   "metadata": {},
   "outputs": [
    {
     "name": "stdout",
     "output_type": "stream",
     "text": [
      "Connected to MySQL Server version  8.0.31\n",
      "You're connected to database:  ('sample_db',)\n",
      "MySQL connection is closed\n"
     ]
    }
   ],
   "source": [
    "# creating connection and executing sample query\n",
    "\n",
    "try:\n",
    "    connection = mysql.connector.connect(host='localhost',\n",
    "                                         database='sample_db',\n",
    "                                         user='dnyanesh',\n",
    "                                         password='Pass123#$')\n",
    "    if connection.is_connected():\n",
    "        db_Info = connection.get_server_info()\n",
    "        print(\"Connected to MySQL Server version \", db_Info)\n",
    "        cursor = connection.cursor()\n",
    "        cursor.execute(\"select database();\")\n",
    "        record = cursor.fetchone()\n",
    "        print(\"You're connected to database: \", record)\n",
    "\n",
    "except Exception as e:\n",
    "    print(\"Error while connecting to MySQL\", e)\n",
    "finally:\n",
    "    if connection.is_connected():\n",
    "        cursor.close()\n",
    "        connection.close()\n",
    "        print(\"MySQL connection is closed\")"
   ]
  },
  {
   "cell_type": "code",
   "execution_count": 7,
   "id": "c942ecdc",
   "metadata": {},
   "outputs": [],
   "source": [
    "# creating database connection object and cursor object to operate on database  \n",
    "\n",
    "connection = mysql.connector.connect(host='127.0.0.1', database='sample_db',\n",
    "                                     user='dnyanesh', password='Pass123#$')\n",
    "cursor = connection.cursor()\n",
    "\n",
    "# connection.close()\n",
    "# cursor.close()"
   ]
  },
  {
   "cell_type": "code",
   "execution_count": 8,
   "id": "df50f069",
   "metadata": {},
   "outputs": [
    {
     "name": "stdout",
     "output_type": "stream",
     "text": [
      "Dept Table created successfully \n"
     ]
    }
   ],
   "source": [
    "# creating table on MySQL database server\n",
    "\n",
    "query_str = \"create table dept(dept_id int, dname varchar(25), \n",
    "mgr varchar(20));\"\n",
    "\n",
    "cursor = connection.cursor()\n",
    "cursor.execute(query_str)\n",
    "print(\"Dept Table created successfully \")"
   ]
  },
  {
   "cell_type": "code",
   "execution_count": 11,
   "id": "8ad1fbca",
   "metadata": {},
   "outputs": [
    {
     "name": "stdout",
     "output_type": "stream",
     "text": [
      "Records inserted successfully \n"
     ]
    }
   ],
   "source": [
    "# inserting data into MySQL table\n",
    "\n",
    "query_str1 = \"insert into dept values(10, 'IT', 'Anil');\"\n",
    "query_str2 = \"insert into dept values(20, 'Account', 'Ashwin');\"\n",
    "query_str3 = \"insert into dept values(30, 'Audit', 'Sanjiv');\"\n",
    "\n",
    "cursor = connection.cursor()\n",
    "cursor.execute(query_str1)\n",
    "cursor.execute(query_str2)\n",
    "# connection.commit()\n",
    "cursor.execute(query_str3)\n",
    "connection.commit()\n",
    "\n",
    "# cursor.close()\n",
    "# connection.close()\n",
    "print(\"Records inserted successfully \")"
   ]
  },
  {
   "cell_type": "code",
   "execution_count": 12,
   "id": "dc213155",
   "metadata": {
    "scrolled": true
   },
   "outputs": [
    {
     "name": "stdout",
     "output_type": "stream",
     "text": [
      "Number of rows fetched:  3\n",
      "<class 'list'>\n",
      "[(10, 'IT', 'Anil'), (20, 'Account', 'Ashwin'), (30, 'Audit', 'Sanjiv')]\n",
      "(10, 'IT', 'Anil')\n",
      "(20, 'Account', 'Ashwin')\n",
      "(30, 'Audit', 'Sanjiv')\n"
     ]
    }
   ],
   "source": [
    "# retrieve data from MySQL table\n",
    "\n",
    "query_str = \"select * from dept;\"\n",
    "\n",
    "cursor = connection.cursor()\n",
    "cursor.execute(query_str)\n",
    "data = cursor.fetchall()\n",
    "\n",
    "print(\"Number of rows fetched: \", cursor.rowcount)\n",
    "\n",
    "print(type(data))\n",
    "print(data)\n",
    "for row in data:\n",
    "    print(row)\n",
    "#     print(type(row))\n",
    "\n",
    "    \n",
    "# accessing individual data values\n",
    "\n"
   ]
  },
  {
   "cell_type": "code",
   "execution_count": 13,
   "id": "54156cf1",
   "metadata": {},
   "outputs": [
    {
     "data": {
      "text/html": [
       "<div>\n",
       "<style scoped>\n",
       "    .dataframe tbody tr th:only-of-type {\n",
       "        vertical-align: middle;\n",
       "    }\n",
       "\n",
       "    .dataframe tbody tr th {\n",
       "        vertical-align: top;\n",
       "    }\n",
       "\n",
       "    .dataframe thead th {\n",
       "        text-align: right;\n",
       "    }\n",
       "</style>\n",
       "<table border=\"1\" class=\"dataframe\">\n",
       "  <thead>\n",
       "    <tr style=\"text-align: right;\">\n",
       "      <th></th>\n",
       "      <th>dept_id</th>\n",
       "      <th>dname</th>\n",
       "      <th>mgr</th>\n",
       "    </tr>\n",
       "  </thead>\n",
       "  <tbody>\n",
       "    <tr>\n",
       "      <th>0</th>\n",
       "      <td>10</td>\n",
       "      <td>IT</td>\n",
       "      <td>Anil</td>\n",
       "    </tr>\n",
       "    <tr>\n",
       "      <th>1</th>\n",
       "      <td>20</td>\n",
       "      <td>Account</td>\n",
       "      <td>Ashwin</td>\n",
       "    </tr>\n",
       "    <tr>\n",
       "      <th>2</th>\n",
       "      <td>30</td>\n",
       "      <td>Audit</td>\n",
       "      <td>Sanjiv</td>\n",
       "    </tr>\n",
       "  </tbody>\n",
       "</table>\n",
       "</div>"
      ],
      "text/plain": [
       "   dept_id    dname     mgr\n",
       "0       10       IT    Anil\n",
       "1       20  Account  Ashwin\n",
       "2       30    Audit  Sanjiv"
      ]
     },
     "execution_count": 13,
     "metadata": {},
     "output_type": "execute_result"
    }
   ],
   "source": [
    "import pandas as pd\n",
    "df = pd.DataFrame(data, columns=['dept_id', 'dname', 'mgr'])\n",
    "df"
   ]
  },
  {
   "cell_type": "code",
   "execution_count": null,
   "id": "80fa0e0e",
   "metadata": {},
   "outputs": [],
   "source": [
    "tup1 = (20,)\n",
    "type(tup1)"
   ]
  },
  {
   "cell_type": "code",
   "execution_count": null,
   "id": "604bcbf7",
   "metadata": {},
   "outputs": [],
   "source": [
    "# parameterized query\n",
    "\n",
    "dno = input('Enter a dept number: ')\n",
    "\n",
    "query_str = \"select * from dept where dept_id = %s;\"\n",
    "\n",
    "cursor = connection.cursor()\n",
    "cursor.execute(query_str, (dno,))\n",
    "data = cursor.fetchall()\n",
    "\n",
    "for row in data:\n",
    "    print(row)"
   ]
  },
  {
   "cell_type": "code",
   "execution_count": null,
   "id": "d256f747",
   "metadata": {},
   "outputs": [],
   "source": [
    "# update value in MySQL table\n",
    "\n",
    "query_str = \"Update dept set mgr = 'Akshit' where dept_id = 10\"\n",
    "cursor = connection.cursor()\n",
    "\n",
    "cursor.execute(query_str)\n",
    "connection.commit()\n",
    "print(\"Record Updated successfully \")"
   ]
  },
  {
   "cell_type": "code",
   "execution_count": null,
   "id": "22ae3d9f",
   "metadata": {},
   "outputs": [],
   "source": [
    "# update value in MySQL table using python variable\n",
    "\n",
    "dept_id = input('Enter a dept no for updating manager info: ')\n",
    "new_mgr = input('Enter new Manager name: ')\n",
    "query_str = \"Update dept set mgr = %s where dept_id = %s\"\n",
    "\n",
    "cursor = connection.cursor()\n",
    "\n",
    "cursor.execute(query_str, (new_mgr, dept_id))\n",
    "connection.commit()\n",
    "print(\"Record Updated successfully \")"
   ]
  },
  {
   "cell_type": "code",
   "execution_count": null,
   "id": "1b7b94ad",
   "metadata": {},
   "outputs": [],
   "source": [
    "# update multiple entries\n",
    "\n",
    "query_str = \"Update dept set dname = %s where dname = %s;\"\n",
    "update_info = [('IT Dept', 'IT'), ( 'Account Dept', 'Account'), ('Audit Dept', 'Audit')]\n",
    "cursor = connection.cursor()\n",
    "\n",
    "cursor.executemany(query_str, update_info)\n",
    "connection.commit()\n",
    "print(\"Records Updated successfully \")"
   ]
  },
  {
   "cell_type": "code",
   "execution_count": null,
   "id": "7d3f12c3",
   "metadata": {},
   "outputs": [],
   "source": [
    "# delete record MySQL table\n",
    "\n",
    "query_str = \"delete from dept where dept_id = 10\"\n",
    "\n",
    "cursor = connection.cursor()\n",
    "\n",
    "cursor.execute(query_str)\n",
    "connection.commit()\n",
    "print(\"Record Deleted successfully \")"
   ]
  },
  {
   "cell_type": "code",
   "execution_count": null,
   "id": "78e577d9",
   "metadata": {},
   "outputs": [],
   "source": [
    "# delete record MySQL table using python variable\n",
    "\n",
    "dept_id = input('Enter a dept no to delete from a table: ')\n",
    "\n",
    "query_str = \"delete from dept where dept_id = %s\"\n",
    "\n",
    "cursor = connection.cursor()\n",
    "\n",
    "cursor.execute(query_str, (dept_id,))\n",
    "connection.commit()\n",
    "print(\"Record Deleted successfully \")"
   ]
  },
  {
   "cell_type": "code",
   "execution_count": null,
   "id": "66032e4e",
   "metadata": {},
   "outputs": [],
   "source": [
    "# at the end close the datbase connection and cursor\n",
    "\n",
    "cursor.close()\n",
    "print('Cursor closed successfully')\n",
    "\n",
    "connection.close()\n",
    "print('Database connection closed successfully')\n",
    "\n"
   ]
  },
  {
   "cell_type": "code",
   "execution_count": null,
   "id": "d082b7ff",
   "metadata": {},
   "outputs": [],
   "source": []
  }
 ],
 "metadata": {
  "kernelspec": {
   "display_name": "Python 3 (ipykernel)",
   "language": "python",
   "name": "python3"
  },
  "language_info": {
   "codemirror_mode": {
    "name": "ipython",
    "version": 3
   },
   "file_extension": ".py",
   "mimetype": "text/x-python",
   "name": "python",
   "nbconvert_exporter": "python",
   "pygments_lexer": "ipython3",
   "version": "3.9.13"
  }
 },
 "nbformat": 4,
 "nbformat_minor": 5
}
