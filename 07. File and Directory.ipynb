{
 "cells": [
  {
   "cell_type": "markdown",
   "id": "bedffc65",
   "metadata": {},
   "source": [
    "## Operations of System Directories"
   ]
  },
  {
   "cell_type": "code",
   "execution_count": null,
   "id": "c2d56055",
   "metadata": {},
   "outputs": [],
   "source": [
    "import os"
   ]
  },
  {
   "cell_type": "code",
   "execution_count": null,
   "id": "de0a3850",
   "metadata": {},
   "outputs": [],
   "source": [
    "# what is my currect working directory\n",
    "os.getcwd()"
   ]
  },
  {
   "cell_type": "code",
   "execution_count": null,
   "id": "479fe14d",
   "metadata": {},
   "outputs": [],
   "source": [
    "# list sub directories in CWD\n",
    "all_dirs = os.listdir()\n",
    "print(all_dirs)\n",
    "print(len(all_dirs))"
   ]
  },
  {
   "cell_type": "code",
   "execution_count": null,
   "id": "0cd292fd",
   "metadata": {},
   "outputs": [],
   "source": [
    "# list sub directories in specific dir\n",
    "os.listdir('C:/Users')"
   ]
  },
  {
   "cell_type": "code",
   "execution_count": null,
   "id": "3bdfe797",
   "metadata": {},
   "outputs": [],
   "source": [
    "# create new directory (in cwd)\n",
    "os.mkdir('test_dir')"
   ]
  },
  {
   "cell_type": "code",
   "execution_count": null,
   "id": "aa42917b",
   "metadata": {},
   "outputs": [],
   "source": [
    "os.mkdir('C:/test')"
   ]
  },
  {
   "cell_type": "code",
   "execution_count": null,
   "id": "21474a0a",
   "metadata": {},
   "outputs": [],
   "source": [
    "# dir exists or not\n",
    "if os.path.exists('c:/Users'):\n",
    "    print('Already exists')\n",
    "else:\n",
    "    print('Does not exists')"
   ]
  },
  {
   "cell_type": "code",
   "execution_count": null,
   "id": "1d84aa8e",
   "metadata": {},
   "outputs": [],
   "source": [
    "# file exists or not\n",
    "if os.path.exists('sample1.txt'):\n",
    "    print('Already exists')\n",
    "else:\n",
    "    print('Does not exists')"
   ]
  },
  {
   "cell_type": "code",
   "execution_count": null,
   "id": "2de1cf52",
   "metadata": {},
   "outputs": [],
   "source": [
    "# create new directory\n",
    "if not os.path.exists('test_dir'):\n",
    "    os.mkdir('test_dir')\n",
    "    print('Done')\n",
    "\n",
    "else:\n",
    "    print('Already exists')"
   ]
  },
  {
   "cell_type": "code",
   "execution_count": null,
   "id": "c8856b95",
   "metadata": {},
   "outputs": [],
   "source": [
    "# check if it is dir or not\n",
    "os.path.isdir('test_dir')"
   ]
  },
  {
   "cell_type": "code",
   "execution_count": null,
   "id": "406578b9",
   "metadata": {},
   "outputs": [],
   "source": [
    "# check if it is dir or not\n",
    "os.path.isdir('sample.txt')"
   ]
  },
  {
   "cell_type": "code",
   "execution_count": null,
   "id": "d01a1c0f",
   "metadata": {},
   "outputs": [],
   "source": [
    "# check if it is file or not\n",
    "os.path.isfile('test_dir')"
   ]
  },
  {
   "cell_type": "code",
   "execution_count": null,
   "id": "a5c995ca",
   "metadata": {},
   "outputs": [],
   "source": [
    "# check if it is file or not\n",
    "os.path.isfile('sample.txt')"
   ]
  },
  {
   "cell_type": "code",
   "execution_count": null,
   "id": "9f980fa3",
   "metadata": {},
   "outputs": [],
   "source": [
    "# change working directory\n",
    "print(os.getcwd())\n",
    "os.chdir('test_dir/abc')\n",
    "print(os.getcwd())"
   ]
  },
  {
   "cell_type": "code",
   "execution_count": null,
   "id": "fcb0c22f",
   "metadata": {},
   "outputs": [],
   "source": [
    "# prepare the files and directories structre from below dict object\n",
    "# name of dir => dept name\n",
    "# name of file => emp_name\n",
    "# contents of file => emp sal\n",
    "\n",
    "d1 = {'Tax': [('Ram', 10000), ('Shyam', 15000)],\n",
    "     'Audit': [('Geeta', 12000), ('Seeta', 13000)],\n",
    "     'IT': [('John', 18000), ('Bob', 18000)]}\n",
    "\n",
    "\n",
    "for dept, data in d1.items():\n",
    "    if not os.path.exists(dept):\n",
    "        os.mkdir(dept)\n",
    "    for emp in data:\n",
    "        ename = emp[0]\n",
    "        sal = emp[1]\n",
    "        f = open(dept + '/' + ename + '.txt')\n",
    "    \n",
    "\n"
   ]
  },
  {
   "cell_type": "code",
   "execution_count": null,
   "id": "95015260",
   "metadata": {},
   "outputs": [],
   "source": [
    "os.listdir()"
   ]
  },
  {
   "cell_type": "code",
   "execution_count": null,
   "id": "2b2a8039",
   "metadata": {},
   "outputs": [],
   "source": [
    "# remove any specific dir (cann't remove currect working dir)\n",
    "os.rmdir('C:/Users/dbhabad/Week-1/test_dir')"
   ]
  },
  {
   "cell_type": "code",
   "execution_count": null,
   "id": "faa05d81",
   "metadata": {},
   "outputs": [],
   "source": [
    "#change working dir\n",
    "os.chdir('C:/Users/dbhabad/Week-1')"
   ]
  },
  {
   "cell_type": "code",
   "execution_count": null,
   "id": "f93eaa54",
   "metadata": {},
   "outputs": [],
   "source": [
    "# remove any specific dir\n",
    "os.rmdir('C:/Users/dbhabad/Week-1')"
   ]
  },
  {
   "cell_type": "markdown",
   "id": "ae189d16",
   "metadata": {},
   "source": [
    "#### List of all directory related functions\n",
    "\n",
    "\n",
    "getcwd() \n",
    "\n",
    "listdir()\n",
    "\n",
    "chdir()\n",
    "\n",
    "mkdir()\n",
    "\n",
    "rmdir()\n",
    "\n",
    "os.path.exists()\n",
    "\n",
    "isfile()\n",
    "\n",
    "isdir()"
   ]
  },
  {
   "cell_type": "markdown",
   "id": "ea7b9cf8",
   "metadata": {},
   "source": [
    "### File Operations"
   ]
  },
  {
   "cell_type": "code",
   "execution_count": null,
   "id": "fc839c57",
   "metadata": {},
   "outputs": [],
   "source": [
    "## opening a file which is not present in read mode (not allowed)\n",
    "fo = open(\"abc.txt\", \"r\")\n",
    "fo.close()"
   ]
  },
  {
   "cell_type": "code",
   "execution_count": null,
   "id": "bbc6306b",
   "metadata": {},
   "outputs": [],
   "source": [
    "## opening a file which is present (or not) in write mode \n",
    "## (creates a file if not present opens for writing if it it present)\n",
    "\n",
    "f = open('abc.txt', 'w')\n",
    "f.write('This is sample text..!!')\n",
    "f.close()"
   ]
  },
  {
   "cell_type": "code",
   "execution_count": null,
   "id": "f7a1610e",
   "metadata": {},
   "outputs": [],
   "source": [
    "## opening a file which is not present in append mode (creates a file if not present )\n",
    "f = open('abc.txt', 'a')\n",
    "f.write('This is sample text..!!')\n",
    "f.close()"
   ]
  },
  {
   "cell_type": "code",
   "execution_count": null,
   "id": "81a6b0c1",
   "metadata": {},
   "outputs": [],
   "source": [
    "# file properties \n",
    "\n",
    "fo = open(\"abc.txt\", \"r\")\n",
    "print (\"Name of the file: \", fo.name)\n",
    "print (\"Closed or not : \", fo.closed)\n",
    "print (\"Opening mode : \", fo.mode)\n",
    "fo.close()\n",
    "print (\"Closed or not : \", fo.closed)"
   ]
  },
  {
   "cell_type": "code",
   "execution_count": null,
   "id": "667ccd54",
   "metadata": {},
   "outputs": [],
   "source": [
    "# open existing file in read mode and read data\n",
    "\n",
    "f = open('abc.txt', 'r')\n",
    "text = f.read()\n",
    "print(text)\n",
    "f.close()"
   ]
  },
  {
   "cell_type": "code",
   "execution_count": null,
   "id": "96553e8b",
   "metadata": {},
   "outputs": [],
   "source": [
    "# open existing file in append mode and add new data\n",
    "f = open('abc.txt', 'a')\n",
    "f.write('\\nThis is another attempt..!!')\n",
    "f.close()"
   ]
  },
  {
   "cell_type": "code",
   "execution_count": null,
   "id": "f805e7a7",
   "metadata": {},
   "outputs": [],
   "source": [
    "# read updated file\n",
    "f = open('abc.txt', 'r')\n",
    "text = f.read()\n",
    "print(text)\n",
    "f.close()"
   ]
  },
  {
   "cell_type": "code",
   "execution_count": null,
   "id": "90a24cd2",
   "metadata": {},
   "outputs": [],
   "source": [
    "# try writing test in binary file (not allowed)\n",
    "f = open('xyz', 'wb')\n",
    "f.write('This is sample text..!!')\n",
    "f.close()"
   ]
  },
  {
   "cell_type": "code",
   "execution_count": null,
   "id": "ca2c63c9",
   "metadata": {},
   "outputs": [],
   "source": [
    "a = 'This is sample text..!!'\n",
    "print(type(a))\n",
    "b = b'This is sample text..!!'\n",
    "print(type(b))"
   ]
  },
  {
   "cell_type": "code",
   "execution_count": null,
   "id": "55f4438c",
   "metadata": {},
   "outputs": [],
   "source": [
    "# write in binary file\n",
    "f = open('xyz', 'wb')\n",
    "f.write(b'This is sample text..!!')\n",
    "f.close()"
   ]
  },
  {
   "cell_type": "code",
   "execution_count": null,
   "id": "7f76a31e",
   "metadata": {},
   "outputs": [],
   "source": [
    "# read text from binary file\n",
    "f = open('xyz', 'r')\n",
    "text = f.read()\n",
    "print(text)\n",
    "f.close()"
   ]
  },
  {
   "cell_type": "code",
   "execution_count": null,
   "id": "2dcb8a1f",
   "metadata": {},
   "outputs": [],
   "source": [
    "# read bytes from binary file\n",
    "f = open('xyz', 'rb')\n",
    "text = f.read()\n",
    "print(text)\n",
    "f.close()"
   ]
  },
  {
   "cell_type": "code",
   "execution_count": null,
   "id": "1daf1a95",
   "metadata": {},
   "outputs": [],
   "source": [
    "from struct import pack, unpack\n",
    "s = pack('<iiif', 100, 200, 300, 400.0000)\n",
    "print(s)\n",
    "data = unpack('<iiif', s)\n",
    "print(data)"
   ]
  },
  {
   "cell_type": "code",
   "execution_count": null,
   "id": "5c2f1d52",
   "metadata": {},
   "outputs": [],
   "source": [
    "# writing contents in multiple lines\n",
    "\n",
    "fo = open(\"abc.txt\", \"w\")\n",
    "fo.write(\"Python is a great language.\\nYeah its great!!\\n\");\n",
    "fo.close()"
   ]
  },
  {
   "cell_type": "code",
   "execution_count": null,
   "id": "9a13ada3",
   "metadata": {},
   "outputs": [],
   "source": [
    "fo = open(\"abc.txt\", \"r\")\n",
    "str1 = fo.read(10)\n",
    "print (\"initial data is : \", str1)\n",
    "\n",
    "# Check current position\n",
    "position = fo.tell()\n",
    "\n",
    "print (\"Current file position : \", position)"
   ]
  },
  {
   "cell_type": "code",
   "execution_count": null,
   "id": "cfc0ba9d",
   "metadata": {},
   "outputs": [],
   "source": [
    "str = fo.read(5);\n",
    "print (\"further data is : \", str)"
   ]
  },
  {
   "cell_type": "code",
   "execution_count": null,
   "id": "7e32a7c4",
   "metadata": {},
   "outputs": [],
   "source": [
    "fo.tell()"
   ]
  },
  {
   "cell_type": "code",
   "execution_count": null,
   "id": "bad545f2",
   "metadata": {},
   "outputs": [],
   "source": [
    "# Reposition pointer at the beginning once again\n",
    "position = fo.seek(0)\n",
    "print(fo.tell())\n",
    "str = fo.read(10);\n",
    "print (\"further data is : \", str)\n",
    "# fo.close()"
   ]
  },
  {
   "cell_type": "code",
   "execution_count": null,
   "id": "b871347f",
   "metadata": {},
   "outputs": [],
   "source": [
    "fo.close()"
   ]
  },
  {
   "cell_type": "code",
   "execution_count": null,
   "id": "c4fabf3c",
   "metadata": {},
   "outputs": [],
   "source": [
    "## using with\n",
    "\n",
    "with open('abc.txt', 'r') as f:\n",
    "    txt = f.read()\n",
    "    print(txt)"
   ]
  },
  {
   "cell_type": "code",
   "execution_count": null,
   "id": "e4276425",
   "metadata": {},
   "outputs": [],
   "source": []
  }
 ],
 "metadata": {
  "kernelspec": {
   "display_name": "Python 3 (ipykernel)",
   "language": "python",
   "name": "python3"
  },
  "language_info": {
   "codemirror_mode": {
    "name": "ipython",
    "version": 3
   },
   "file_extension": ".py",
   "mimetype": "text/x-python",
   "name": "python",
   "nbconvert_exporter": "python",
   "pygments_lexer": "ipython3",
   "version": "3.9.13"
  }
 },
 "nbformat": 4,
 "nbformat_minor": 5
}
