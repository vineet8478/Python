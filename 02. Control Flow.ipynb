{
 "cells": [
  {
   "cell_type": "markdown",
   "id": "47602d91",
   "metadata": {},
   "source": [
    "## Conditional Statements"
   ]
  },
  {
   "cell_type": "code",
   "execution_count": 2,
   "id": "282410cc",
   "metadata": {},
   "outputs": [
    {
     "name": "stdout",
     "output_type": "stream",
     "text": [
      "Welcome\n",
      "Done\n"
     ]
    }
   ],
   "source": [
    "# If statement\n",
    "\n",
    "if 100 > 50:\n",
    "    print('Welcome')\n",
    "print('Done')"
   ]
  },
  {
   "cell_type": "code",
   "execution_count": 4,
   "id": "6b2661f4",
   "metadata": {},
   "outputs": [
    {
     "name": "stdout",
     "output_type": "stream",
     "text": [
      "Welcome\n"
     ]
    }
   ],
   "source": [
    "# using not with if\n",
    "\n",
    "if not 10 > 50:\n",
    "    print('Welcome')"
   ]
  },
  {
   "cell_type": "code",
   "execution_count": null,
   "id": "bada315f",
   "metadata": {},
   "outputs": [],
   "source": [
    "if not 10 > 50:\n",
    "    print('Welcome')"
   ]
  },
  {
   "cell_type": "code",
   "execution_count": null,
   "id": "b25784dc",
   "metadata": {},
   "outputs": [],
   "source": [
    "# multiple conditions in if\n",
    "\n",
    "if 10 > 0 and 10 % 2 == 0:\n",
    "    print('Positive Even number')"
   ]
  },
  {
   "cell_type": "code",
   "execution_count": 10,
   "id": "dad124b3",
   "metadata": {},
   "outputs": [
    {
     "name": "stdout",
     "output_type": "stream",
     "text": [
      "A is odd\n"
     ]
    }
   ],
   "source": [
    "# if-else\n",
    "\n",
    "a = 101\n",
    "if a  % 2 == 0:\n",
    "    print('A is Even..!!')\n",
    "else:\n",
    "    print('A is odd')"
   ]
  },
  {
   "cell_type": "code",
   "execution_count": null,
   "id": "f2afa834",
   "metadata": {},
   "outputs": [],
   "source": [
    "# if-elif-else\n",
    "\n",
    "grade = 'A'\n",
    "if grade == 'A+':\n",
    "    print('Excellent')\n",
    "elif grade == 'A':\n",
    "    print('Good')\n",
    "elif grade == 'B':\n",
    "    print('Average')\n",
    "else:\n",
    "    print('Incorrect Grade')"
   ]
  },
  {
   "cell_type": "code",
   "execution_count": null,
   "id": "bbefe04d",
   "metadata": {},
   "outputs": [],
   "source": [
    "# accept a number from user and find if it is even or odd and\n",
    "# positive or negative using nested if conditions"
   ]
  },
  {
   "cell_type": "code",
   "execution_count": null,
   "id": "2d0cde08",
   "metadata": {},
   "outputs": [],
   "source": [
    "# nested if\n",
    "\n",
    "num = int(input('Enter a number:'))\n",
    "if num >= 0:\n",
    "    print('number is positive')\n",
    "    if num % 2 == 0:\n",
    "        print('number is even')\n",
    "    else:\n",
    "        print('number is odd')\n",
    "else:\n",
    "    print('number is negative')\n",
    "    if num % 2 == 0:\n",
    "        print('number id even')\n",
    "    else:\n",
    "        print('number is odd')"
   ]
  },
  {
   "cell_type": "code",
   "execution_count": null,
   "id": "3c7012d4",
   "metadata": {},
   "outputs": [],
   "source": [
    "# greatest among 3 numbers\n",
    "\n",
    "a = 10\n",
    "b = 100\n",
    "c = 30\n",
    "\n",
    "if a > b and a > c:\n",
    "    print('a is greater')\n",
    "elif c > a and c > b:\n",
    "    print('c is greater')\n",
    "else:\n",
    "    print('b is greater')"
   ]
  },
  {
   "cell_type": "markdown",
   "id": "8f784828",
   "metadata": {},
   "source": [
    "# Loop Statements"
   ]
  },
  {
   "cell_type": "code",
   "execution_count": 2,
   "id": "adc2b192",
   "metadata": {},
   "outputs": [
    {
     "name": "stdout",
     "output_type": "stream",
     "text": [
      "0\n",
      "1\n",
      "2\n",
      "3\n",
      "4\n",
      "5\n",
      "6\n",
      "7\n",
      "8\n",
      "9\n",
      "10\n"
     ]
    }
   ],
   "source": [
    "# while loop\n",
    "\n",
    "a = 0\n",
    "while a <= 10:\n",
    "    print(a)\n",
    "    a = a+1"
   ]
  },
  {
   "cell_type": "code",
   "execution_count": 3,
   "id": "ba6425bd",
   "metadata": {},
   "outputs": [
    {
     "name": "stdout",
     "output_type": "stream",
     "text": [
      "W\n",
      "e\n",
      "l\n",
      "c\n",
      "o\n"
     ]
    }
   ],
   "source": [
    "# while loop on string \n",
    "\n",
    "str1 = 'Welcome to Deloitte..!!'\n",
    "counter = 0\n",
    "while counter < 5:\n",
    "    print(str1[counter])\n",
    "    counter += 1                  # counter = counter + 1"
   ]
  },
  {
   "cell_type": "code",
   "execution_count": 5,
   "id": "e4883fea",
   "metadata": {},
   "outputs": [
    {
     "name": "stdout",
     "output_type": "stream",
     "text": [
      "1\n",
      "3\n",
      "5\n",
      "7\n",
      "9\n"
     ]
    }
   ],
   "source": [
    "# while loop to print even/odd numbers\n",
    "\n",
    "i = 2\n",
    "while i <= 10:\n",
    "    print(i)\n",
    "    i = i + 2"
   ]
  },
  {
   "cell_type": "code",
   "execution_count": 7,
   "id": "97758d77",
   "metadata": {},
   "outputs": [
    {
     "name": "stdout",
     "output_type": "stream",
     "text": [
      "W\n",
      "e\n",
      "l\n",
      "c\n",
      "o\n",
      "m\n",
      "e\n",
      " \n",
      "t\n",
      "o\n",
      " \n",
      "D\n",
      "e\n",
      "l\n",
      "o\n",
      "i\n",
      "t\n",
      "t\n",
      "e\n",
      ".\n",
      ".\n",
      "!\n",
      "!\n"
     ]
    }
   ],
   "source": [
    "# for loop on string objects\n",
    "\n",
    "str1 = 'Welcome to Deloitte..!!'\n",
    "for c in str1:\n",
    "    print(c) # one char in one line\n",
    "#     print(c, end=' ') # everything in one line"
   ]
  },
  {
   "cell_type": "code",
   "execution_count": 8,
   "id": "509b1040",
   "metadata": {},
   "outputs": [
    {
     "name": "stdout",
     "output_type": "stream",
     "text": [
      "100\n",
      "400\n",
      "900\n",
      "1600\n",
      "2500\n"
     ]
    }
   ],
   "source": [
    "# for loop on list objects\n",
    "\n",
    "list1 = [10, 20, 30, 40, 50]\n",
    "for element in list1:\n",
    "    print(element*element)"
   ]
  },
  {
   "cell_type": "code",
   "execution_count": 9,
   "id": "35ef7dd8",
   "metadata": {},
   "outputs": [
    {
     "name": "stdout",
     "output_type": "stream",
     "text": [
      "D\n",
      "e\n",
      "l\n",
      "o\n",
      "i\n",
      "t\n",
      "t\n",
      "e\n"
     ]
    }
   ],
   "source": [
    "for i in 'Deloitte':\n",
    "    print(i)"
   ]
  },
  {
   "cell_type": "code",
   "execution_count": 12,
   "id": "67631539",
   "metadata": {},
   "outputs": [
    {
     "name": "stdout",
     "output_type": "stream",
     "text": [
      "1\n",
      "0\n",
      "0\n"
     ]
    }
   ],
   "source": [
    "a = '100'\n",
    "for i in a:\n",
    "    print(i)"
   ]
  },
  {
   "cell_type": "code",
   "execution_count": null,
   "id": "bf824cae",
   "metadata": {},
   "outputs": [],
   "source": [
    "# for loop using range function\n",
    "\n",
    "for i in range(100, 20,-1):\n",
    "    print(i)"
   ]
  },
  {
   "cell_type": "code",
   "execution_count": null,
   "id": "a55f3ebb",
   "metadata": {},
   "outputs": [],
   "source": [
    "# sample input\n",
    "list1 = [1, 2, 3, 4, 5]\n",
    "\n",
    "\n",
    "# sampe output:\n",
    "# list2 = [1, 4, 9, 16, 25]\n"
   ]
  },
  {
   "cell_type": "code",
   "execution_count": 13,
   "id": "f091b05a",
   "metadata": {},
   "outputs": [
    {
     "name": "stdout",
     "output_type": "stream",
     "text": [
      "0\n",
      "1\n",
      "2\n",
      "3\n",
      "4\n",
      "5\n",
      "6\n",
      "7\n",
      "8\n",
      "9\n"
     ]
    }
   ],
   "source": [
    "# range with one argument\n",
    "\n",
    "for i in range(10):\n",
    "    print(i)"
   ]
  },
  {
   "cell_type": "code",
   "execution_count": 14,
   "id": "4573e2fb",
   "metadata": {},
   "outputs": [
    {
     "name": "stdout",
     "output_type": "stream",
     "text": [
      "5 6 7 8 9 "
     ]
    }
   ],
   "source": [
    "# range with two argument\n",
    "\n",
    "for i in range(5, 10):\n",
    "    print(i, end = ' ')"
   ]
  },
  {
   "cell_type": "code",
   "execution_count": 15,
   "id": "58f2d2d6",
   "metadata": {},
   "outputs": [
    {
     "name": "stdout",
     "output_type": "stream",
     "text": [
      "2 4 6 8 10 "
     ]
    }
   ],
   "source": [
    "for i in range(2, 11, 2):\n",
    "    print(i, end = ' ')"
   ]
  },
  {
   "cell_type": "code",
   "execution_count": 16,
   "id": "bab8409f",
   "metadata": {},
   "outputs": [
    {
     "name": "stdout",
     "output_type": "stream",
     "text": [
      "5 10 15 20 25 30 35 40 45 50 55 60 65 70 75 80 85 90 95 "
     ]
    }
   ],
   "source": [
    "# range with three argument\n",
    "\n",
    "for i in range(5, 100, 5):\n",
    "    print(i, end = ' ')"
   ]
  },
  {
   "cell_type": "code",
   "execution_count": 20,
   "id": "743f5dee",
   "metadata": {},
   "outputs": [
    {
     "name": "stdout",
     "output_type": "stream",
     "text": [
      "20 19 18 17 16 15 14 13 12 11 "
     ]
    }
   ],
   "source": [
    "# range with revrese direction\n",
    "\n",
    "for i in range(20, 10, -1):\n",
    "    print(i, end = ' ')"
   ]
  },
  {
   "cell_type": "code",
   "execution_count": 21,
   "id": "4fcd225a",
   "metadata": {},
   "outputs": [
    {
     "name": "stdout",
     "output_type": "stream",
     "text": [
      "100 98 96 94 92 90 88 86 84 82 80 78 76 74 72 70 68 66 64 62 60 58 56 54 52 50 48 46 44 42 40 38 36 34 32 30 28 26 24 22 20 18 16 14 12 10 8 6 4 2 "
     ]
    }
   ],
   "source": [
    "for i in range(100, 0, -2):\n",
    "    print(i, end = ' ')"
   ]
  },
  {
   "cell_type": "code",
   "execution_count": 22,
   "id": "53ef7811",
   "metadata": {},
   "outputs": [
    {
     "name": "stdout",
     "output_type": "stream",
     "text": [
      "0\n",
      "1\n",
      "2\n",
      "3\n",
      "4\n",
      "6\n",
      "7\n",
      "8\n",
      "9\n"
     ]
    }
   ],
   "source": [
    "# continue\n",
    "\n",
    "for i in range(10):\n",
    "    if i == 5:\n",
    "        continue\n",
    "    print(i)"
   ]
  },
  {
   "cell_type": "code",
   "execution_count": 23,
   "id": "78734753",
   "metadata": {},
   "outputs": [
    {
     "name": "stdout",
     "output_type": "stream",
     "text": [
      "0\n",
      "1\n",
      "2\n",
      "3\n",
      "4\n"
     ]
    }
   ],
   "source": [
    "# break\n",
    "\n",
    "for i in range(10):\n",
    "    if i == 5:\n",
    "        break\n",
    "    print(i)"
   ]
  },
  {
   "cell_type": "code",
   "execution_count": 27,
   "id": "6309b609",
   "metadata": {},
   "outputs": [],
   "source": [
    "# pass\n",
    "\n",
    "for i  in range(5):\n",
    "    pass"
   ]
  },
  {
   "cell_type": "code",
   "execution_count": null,
   "id": "73433237",
   "metadata": {},
   "outputs": [],
   "source": [
    "# print all the prime numbers from 2 to 100\n",
    "\n",
    "for num in range(2, 100):\n",
    "    i = 2\n",
    "    while i <= num:\n",
    "        if num % i == 0:\n",
    "            if num == 2:\n",
    "                print(num)\n",
    "                break\n",
    "            else:\n",
    "                break\n",
    "        if i == num - 1:\n",
    "            print(num)\n",
    "            i = i + 1\n",
    "        i = i + 1"
   ]
  },
  {
   "cell_type": "code",
   "execution_count": null,
   "id": "0837ff7c",
   "metadata": {},
   "outputs": [],
   "source": [
    "# check if string is palindrome or not\n",
    "\n",
    "str1 = input('Enter a string: ')\n",
    "start = 0\n",
    "end = len(str1) - 1\n",
    "while i < len(str1):\n",
    "    if str1[start] != str1[end]:\n",
    "        print('Not a palindrome')\n",
    "        break\n",
    "    start += 1\n",
    "    end -= 1\n",
    "    if start > (len(str1) / 2):\n",
    "        print('Is a palindrome')\n",
    "        break"
   ]
  },
  {
   "cell_type": "code",
   "execution_count": null,
   "id": "931f2647",
   "metadata": {},
   "outputs": [],
   "source": []
  },
  {
   "cell_type": "code",
   "execution_count": null,
   "id": "fec24a28",
   "metadata": {},
   "outputs": [],
   "source": []
  }
 ],
 "metadata": {
  "kernelspec": {
   "display_name": "Python 3 (ipykernel)",
   "language": "python",
   "name": "python3"
  },
  "language_info": {
   "codemirror_mode": {
    "name": "ipython",
    "version": 3
   },
   "file_extension": ".py",
   "mimetype": "text/x-python",
   "name": "python",
   "nbconvert_exporter": "python",
   "pygments_lexer": "ipython3",
   "version": "3.9.13"
  }
 },
 "nbformat": 4,
 "nbformat_minor": 5
}
