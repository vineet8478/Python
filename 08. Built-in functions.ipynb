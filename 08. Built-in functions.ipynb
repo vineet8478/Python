{
 "cells": [
  {
   "cell_type": "markdown",
   "id": "c27a35ca",
   "metadata": {},
   "source": [
    "## Type conversion functions"
   ]
  },
  {
   "cell_type": "code",
   "execution_count": null,
   "id": "0ac7e7a0",
   "metadata": {},
   "outputs": [],
   "source": [
    "a = 10.5\n",
    "int(a)"
   ]
  },
  {
   "cell_type": "code",
   "execution_count": null,
   "id": "0fa75391",
   "metadata": {},
   "outputs": [],
   "source": [
    "a = 20\n",
    "float(a)"
   ]
  },
  {
   "cell_type": "code",
   "execution_count": null,
   "id": "b77b2543",
   "metadata": {},
   "outputs": [],
   "source": [
    "s = '10'\n",
    "float(s)"
   ]
  },
  {
   "cell_type": "code",
   "execution_count": null,
   "id": "513f2564",
   "metadata": {},
   "outputs": [],
   "source": [
    "a = 10\n",
    "str(a)"
   ]
  },
  {
   "cell_type": "code",
   "execution_count": null,
   "id": "51bb05c7",
   "metadata": {},
   "outputs": [],
   "source": [
    "bool('True')"
   ]
  },
  {
   "cell_type": "code",
   "execution_count": null,
   "id": "c2204dab",
   "metadata": {},
   "outputs": [],
   "source": [
    "bool(0)"
   ]
  },
  {
   "cell_type": "code",
   "execution_count": null,
   "id": "029e905c",
   "metadata": {},
   "outputs": [],
   "source": [
    "bool(1)"
   ]
  },
  {
   "cell_type": "code",
   "execution_count": null,
   "id": "5c2f462e",
   "metadata": {},
   "outputs": [],
   "source": [
    "bool(None)"
   ]
  },
  {
   "cell_type": "code",
   "execution_count": null,
   "id": "ae0b6ef7",
   "metadata": {},
   "outputs": [],
   "source": [
    "bool('abc')"
   ]
  },
  {
   "cell_type": "code",
   "execution_count": null,
   "id": "08a4258d",
   "metadata": {},
   "outputs": [],
   "source": [
    "bool(0.0)"
   ]
  },
  {
   "cell_type": "code",
   "execution_count": null,
   "id": "97e8049c",
   "metadata": {},
   "outputs": [],
   "source": [
    "bool('False')"
   ]
  },
  {
   "cell_type": "code",
   "execution_count": null,
   "id": "672da2bb",
   "metadata": {},
   "outputs": [],
   "source": [
    "bool('')"
   ]
  },
  {
   "cell_type": "code",
   "execution_count": null,
   "id": "58ce556c",
   "metadata": {},
   "outputs": [],
   "source": [
    "bool(' ')"
   ]
  },
  {
   "cell_type": "code",
   "execution_count": null,
   "id": "f9a2c725",
   "metadata": {},
   "outputs": [],
   "source": [
    "tuple([1,2,3])"
   ]
  },
  {
   "cell_type": "code",
   "execution_count": null,
   "id": "d3483193",
   "metadata": {},
   "outputs": [],
   "source": [
    "tuple({1,2,3})"
   ]
  },
  {
   "cell_type": "code",
   "execution_count": null,
   "id": "d89017e1",
   "metadata": {},
   "outputs": [],
   "source": [
    "list((1,2,3))"
   ]
  },
  {
   "cell_type": "code",
   "execution_count": null,
   "id": "a8d3f053",
   "metadata": {},
   "outputs": [],
   "source": [
    "list({1, 2, 3})"
   ]
  },
  {
   "cell_type": "code",
   "execution_count": null,
   "id": "dfaf52ba",
   "metadata": {},
   "outputs": [],
   "source": [
    "set([1,2,3,3,3])"
   ]
  },
  {
   "cell_type": "code",
   "execution_count": null,
   "id": "d6dab053",
   "metadata": {},
   "outputs": [],
   "source": [
    "set((1,2,3,3,3))"
   ]
  },
  {
   "cell_type": "markdown",
   "id": "c8f94693",
   "metadata": {},
   "source": [
    "## Input-output Functions"
   ]
  },
  {
   "cell_type": "code",
   "execution_count": null,
   "id": "b02b5cb0",
   "metadata": {},
   "outputs": [],
   "source": [
    "print('Hello')"
   ]
  },
  {
   "cell_type": "code",
   "execution_count": null,
   "id": "5c51e7c7",
   "metadata": {},
   "outputs": [],
   "source": [
    "name = input('Enter your name: ')"
   ]
  },
  {
   "cell_type": "markdown",
   "id": "c053eb83",
   "metadata": {},
   "source": [
    "## Object functions"
   ]
  },
  {
   "cell_type": "code",
   "execution_count": null,
   "id": "f649ae91",
   "metadata": {},
   "outputs": [],
   "source": [
    "# id()\n",
    "\n",
    "a = 10\n",
    "print(id(a))"
   ]
  },
  {
   "cell_type": "code",
   "execution_count": null,
   "id": "eacdc779",
   "metadata": {},
   "outputs": [],
   "source": [
    "b = 10\n",
    "c= 20\n",
    "print(id(b))\n",
    "print(id(c))"
   ]
  },
  {
   "cell_type": "code",
   "execution_count": null,
   "id": "77fb0d67",
   "metadata": {},
   "outputs": [],
   "source": [
    "# type()\n",
    "\n",
    "a = 10\n",
    "print('a is: ', type(a))\n",
    "\n",
    "b = 'ABC'\n",
    "print('b is: ', type(b))\n",
    "\n",
    "l1 = [1, 2, 3]\n",
    "print('l1 is: ', type(l1))\n",
    "\n",
    "d1 ={10:'ABC', 20:'XYZ'}\n",
    "print('d1 is: ', type(d1))"
   ]
  },
  {
   "cell_type": "code",
   "execution_count": null,
   "id": "7b0db616",
   "metadata": {},
   "outputs": [],
   "source": [
    "# isinstance()\n",
    "\n",
    "a = 10\n",
    "print(isinstance(a, int))"
   ]
  },
  {
   "cell_type": "code",
   "execution_count": null,
   "id": "52d40e64",
   "metadata": {},
   "outputs": [],
   "source": [
    "a = 10\n",
    "print(isinstance(a, float))"
   ]
  },
  {
   "cell_type": "code",
   "execution_count": null,
   "id": "49f5acbc",
   "metadata": {},
   "outputs": [],
   "source": [
    "l1 = [10, 10, 30]\n",
    "print(isinstance(l1, list))"
   ]
  },
  {
   "cell_type": "code",
   "execution_count": null,
   "id": "47c9cc30",
   "metadata": {},
   "outputs": [],
   "source": [
    "l1 = [10, 10, 30]\n",
    "print(isinstance(l1, tuple))"
   ]
  },
  {
   "cell_type": "code",
   "execution_count": null,
   "id": "5ae8883d",
   "metadata": {},
   "outputs": [],
   "source": [
    "s1 = (10, 10, 30)\n",
    "print(isinstance(s1, dict))"
   ]
  },
  {
   "cell_type": "code",
   "execution_count": null,
   "id": "68560f45",
   "metadata": {},
   "outputs": [],
   "source": [
    "s1 = (10, 10, 30)\n",
    "print(isinstance(s1, tuple))"
   ]
  },
  {
   "cell_type": "markdown",
   "id": "b576f75f",
   "metadata": {},
   "source": [
    "## Number Functions"
   ]
  },
  {
   "cell_type": "code",
   "execution_count": null,
   "id": "7f99878c",
   "metadata": {},
   "outputs": [],
   "source": [
    "abs(10)"
   ]
  },
  {
   "cell_type": "code",
   "execution_count": null,
   "id": "21048fa7",
   "metadata": {},
   "outputs": [],
   "source": [
    "abs(-10)"
   ]
  },
  {
   "cell_type": "code",
   "execution_count": null,
   "id": "bd350702",
   "metadata": {},
   "outputs": [],
   "source": [
    "round(10.9)"
   ]
  },
  {
   "cell_type": "code",
   "execution_count": null,
   "id": "6461e0b1",
   "metadata": {},
   "outputs": [],
   "source": [
    "round(10.4)"
   ]
  },
  {
   "cell_type": "code",
   "execution_count": null,
   "id": "92fb44c0",
   "metadata": {},
   "outputs": [],
   "source": [
    "round(11.5)"
   ]
  },
  {
   "cell_type": "code",
   "execution_count": null,
   "id": "a2509935",
   "metadata": {},
   "outputs": [],
   "source": [
    "round(10.5)"
   ]
  },
  {
   "cell_type": "code",
   "execution_count": null,
   "id": "8707f4a8",
   "metadata": {},
   "outputs": [],
   "source": [
    "round(10.5675, 1)"
   ]
  },
  {
   "cell_type": "code",
   "execution_count": null,
   "id": "b037264e",
   "metadata": {},
   "outputs": [],
   "source": [
    "pow(10, 2)"
   ]
  },
  {
   "cell_type": "code",
   "execution_count": null,
   "id": "bb93e200",
   "metadata": {},
   "outputs": [],
   "source": [
    "pow(5, 3)"
   ]
  },
  {
   "cell_type": "code",
   "execution_count": null,
   "id": "b89c15a0",
   "metadata": {},
   "outputs": [],
   "source": [
    "divmod(20, 10)"
   ]
  },
  {
   "cell_type": "code",
   "execution_count": null,
   "id": "54e7fda5",
   "metadata": {},
   "outputs": [],
   "source": [
    "divmod(100, 7)"
   ]
  },
  {
   "cell_type": "code",
   "execution_count": null,
   "id": "bd376498",
   "metadata": {},
   "outputs": [],
   "source": [
    "bin(20)"
   ]
  },
  {
   "cell_type": "code",
   "execution_count": null,
   "id": "bdb355bc",
   "metadata": {},
   "outputs": [],
   "source": [
    "bin(-10)"
   ]
  },
  {
   "cell_type": "code",
   "execution_count": null,
   "id": "c5a56671",
   "metadata": {},
   "outputs": [],
   "source": [
    "bin(10.5)"
   ]
  },
  {
   "cell_type": "code",
   "execution_count": null,
   "id": "df62587c",
   "metadata": {},
   "outputs": [],
   "source": [
    "sum([10, 20])"
   ]
  },
  {
   "cell_type": "code",
   "execution_count": null,
   "id": "6cbad09d",
   "metadata": {
    "scrolled": true
   },
   "outputs": [],
   "source": [
    "sum((10,20,30))"
   ]
  },
  {
   "cell_type": "code",
   "execution_count": null,
   "id": "c9bc2a75",
   "metadata": {},
   "outputs": [],
   "source": [
    "sum(10,20)"
   ]
  },
  {
   "cell_type": "code",
   "execution_count": null,
   "id": "cec18327",
   "metadata": {},
   "outputs": [],
   "source": [
    "sum({1,2,3})"
   ]
  },
  {
   "cell_type": "code",
   "execution_count": null,
   "id": "99bd0e5a",
   "metadata": {},
   "outputs": [],
   "source": [
    "range(9)"
   ]
  },
  {
   "cell_type": "code",
   "execution_count": null,
   "id": "01181fd7",
   "metadata": {},
   "outputs": [],
   "source": [
    "range(5, 20)"
   ]
  },
  {
   "cell_type": "code",
   "execution_count": null,
   "id": "e7f847a5",
   "metadata": {},
   "outputs": [],
   "source": [
    "range(10, 100, 5)"
   ]
  },
  {
   "cell_type": "markdown",
   "id": "4b5c3ccc",
   "metadata": {},
   "source": [
    "## Container Functions"
   ]
  },
  {
   "cell_type": "markdown",
   "id": "9661868c",
   "metadata": {},
   "source": [
    "### all"
   ]
  },
  {
   "cell_type": "code",
   "execution_count": null,
   "id": "af606174",
   "metadata": {},
   "outputs": [],
   "source": [
    "all([1, 2, 3, 4, 5])"
   ]
  },
  {
   "cell_type": "code",
   "execution_count": null,
   "id": "8624a027",
   "metadata": {},
   "outputs": [],
   "source": [
    "all((1, 2, 3, 4, 5, 0))"
   ]
  },
  {
   "cell_type": "code",
   "execution_count": null,
   "id": "51bfa104",
   "metadata": {},
   "outputs": [],
   "source": [
    "all(['True', 'False'])"
   ]
  },
  {
   "cell_type": "code",
   "execution_count": null,
   "id": "aae595e8",
   "metadata": {},
   "outputs": [],
   "source": [
    "all([True, False])"
   ]
  },
  {
   "cell_type": "markdown",
   "id": "d108de3f",
   "metadata": {},
   "source": [
    "### any"
   ]
  },
  {
   "cell_type": "code",
   "execution_count": null,
   "id": "79b2e044",
   "metadata": {},
   "outputs": [],
   "source": [
    "any([True, True])"
   ]
  },
  {
   "cell_type": "code",
   "execution_count": null,
   "id": "15dded2a",
   "metadata": {},
   "outputs": [],
   "source": [
    "any([True, True, False])"
   ]
  },
  {
   "cell_type": "code",
   "execution_count": null,
   "id": "ee545cf2",
   "metadata": {},
   "outputs": [],
   "source": [
    "any([False, False])"
   ]
  },
  {
   "cell_type": "code",
   "execution_count": null,
   "id": "20c1394f",
   "metadata": {},
   "outputs": [],
   "source": [
    "any((1,2,3,0))"
   ]
  },
  {
   "cell_type": "code",
   "execution_count": null,
   "id": "1282363f",
   "metadata": {},
   "outputs": [],
   "source": [
    "any((0,0,0,False, '0'))"
   ]
  },
  {
   "cell_type": "code",
   "execution_count": null,
   "id": "a5531784",
   "metadata": {},
   "outputs": [],
   "source": [
    "any((0,0,0, bool('False')))"
   ]
  },
  {
   "cell_type": "code",
   "execution_count": null,
   "id": "0020e646",
   "metadata": {},
   "outputs": [],
   "source": [
    "bool('False')"
   ]
  },
  {
   "cell_type": "code",
   "execution_count": null,
   "id": "d1f3bfb1",
   "metadata": {},
   "outputs": [],
   "source": [
    "bool(None)"
   ]
  },
  {
   "cell_type": "code",
   "execution_count": null,
   "id": "4175a897",
   "metadata": {},
   "outputs": [],
   "source": []
  },
  {
   "cell_type": "markdown",
   "id": "f3045602",
   "metadata": {},
   "source": [
    "### enumerate"
   ]
  },
  {
   "cell_type": "code",
   "execution_count": null,
   "id": "4b536ba3",
   "metadata": {},
   "outputs": [],
   "source": [
    "l1 = [10, 20, 30, 40, 50]\n",
    "enum = enumerate(l1)\n",
    "print(enum)\n",
    "print(type(enum))"
   ]
  },
  {
   "cell_type": "code",
   "execution_count": null,
   "id": "90aa5fad",
   "metadata": {},
   "outputs": [],
   "source": [
    "dict(enum)"
   ]
  },
  {
   "cell_type": "markdown",
   "id": "bc1e2258",
   "metadata": {},
   "source": [
    "### filter"
   ]
  },
  {
   "cell_type": "code",
   "execution_count": null,
   "id": "b634f423",
   "metadata": {},
   "outputs": [],
   "source": [
    "# iterator object\n",
    "numbers = [1, 2, 3, 4, 5, 6, 7, 8, 9, 10]"
   ]
  },
  {
   "cell_type": "code",
   "execution_count": null,
   "id": "4c2c34b5",
   "metadata": {},
   "outputs": [],
   "source": [
    "# define a function\n",
    "def check_even(number):\n",
    "    if number % 2 == 0:\n",
    "          return True  \n",
    "    return False"
   ]
  },
  {
   "cell_type": "code",
   "execution_count": null,
   "id": "5bc4febf",
   "metadata": {},
   "outputs": [],
   "source": [
    "# problem statement\n",
    "# Extract even elements from the numbers list\n",
    "\n",
    "even_numbers_iter = filter(check_even, numbers)\n",
    "print(type(even_numbers_iter))\n",
    "even_numbers_iter"
   ]
  },
  {
   "cell_type": "code",
   "execution_count": null,
   "id": "0e7e61b7",
   "metadata": {},
   "outputs": [],
   "source": [
    "# converting to list\n",
    "even_numbers = list(even_numbers_iter)\n",
    "\n",
    "print(even_numbers)"
   ]
  },
  {
   "cell_type": "code",
   "execution_count": null,
   "id": "e40f3a3c",
   "metadata": {},
   "outputs": [],
   "source": []
  },
  {
   "cell_type": "code",
   "execution_count": null,
   "id": "e3bc5d62",
   "metadata": {},
   "outputs": [],
   "source": [
    "# filter the words from a list that dont start with the letter 's' with and without lambda functions\n",
    "seq=['soup','salad','food','great']\n",
    "# list(filter(lambda x:x[0]!= 's', seq))\n",
    "def eval_start(str1):\n",
    "#     if str1[0] != 's':\n",
    "    if not str1.startswith('s'):\n",
    "        return True\n",
    "    return False\n",
    "\n",
    "str_iter = filter(eval_start, seq)\n",
    "\n",
    "list(str_iter)\n"
   ]
  },
  {
   "cell_type": "code",
   "execution_count": null,
   "id": "87621dea",
   "metadata": {},
   "outputs": [],
   "source": [
    "import math\n",
    "# sample input\n",
    "l1 = [100, 25, 16, 15, 4, 9, 20, 'ABC', 9.5, 200]\n",
    "# sample output\n",
    "# [10, 5, 4, 2, 3]\n"
   ]
  },
  {
   "cell_type": "markdown",
   "id": "a3f134ec",
   "metadata": {},
   "source": [
    "### map"
   ]
  },
  {
   "cell_type": "code",
   "execution_count": null,
   "id": "da7943e6",
   "metadata": {},
   "outputs": [],
   "source": [
    "def square(b):\n",
    "    return b ** 2\n",
    "\n",
    "b=[2, 3, 4]\n",
    "\n",
    "# map(fun,iterable)\n",
    "l1 = list(map(square, b))\n",
    "print(l1)"
   ]
  },
  {
   "cell_type": "markdown",
   "id": "f76c1fd1",
   "metadata": {},
   "source": [
    "### reversed"
   ]
  },
  {
   "cell_type": "code",
   "execution_count": null,
   "id": "2b0acac4",
   "metadata": {},
   "outputs": [],
   "source": [
    "str1 = 'python'\n",
    "print(list(reversed(str1)))"
   ]
  },
  {
   "cell_type": "code",
   "execution_count": null,
   "id": "ab1eab32",
   "metadata": {},
   "outputs": [],
   "source": [
    "l1 = [10, 20, 30, 40, 50]\n",
    "print(list(reversed(l1)))"
   ]
  },
  {
   "cell_type": "code",
   "execution_count": null,
   "id": "5f659c71",
   "metadata": {},
   "outputs": [],
   "source": [
    "t1 = (10, 20, 30, 40, 50)\n",
    "print(list(reversed(l1)))"
   ]
  },
  {
   "cell_type": "code",
   "execution_count": null,
   "id": "0b6b2eac",
   "metadata": {},
   "outputs": [],
   "source": [
    "s1 = {10, 20, 30, 40, 50}\n",
    "print(list(reversed(s1)))"
   ]
  },
  {
   "cell_type": "code",
   "execution_count": null,
   "id": "6f22b252",
   "metadata": {},
   "outputs": [],
   "source": [
    "d1 = {10:'ten', 20:'twenty', 30:'thirty', 40:'fourty', 50:'fifty'}\n",
    "print(list(reversed(d1)))"
   ]
  },
  {
   "cell_type": "markdown",
   "id": "204a7136",
   "metadata": {},
   "source": [
    "### sorted"
   ]
  },
  {
   "cell_type": "code",
   "execution_count": null,
   "id": "954157c4",
   "metadata": {},
   "outputs": [],
   "source": [
    "a = sorted([10, 2, 30, 4, 5])\n",
    "print(a)"
   ]
  },
  {
   "cell_type": "code",
   "execution_count": null,
   "id": "7ff2fdeb",
   "metadata": {},
   "outputs": [],
   "source": [
    "a = sorted((10, 2, 30, 4, 5))\n",
    "print(a)"
   ]
  },
  {
   "cell_type": "code",
   "execution_count": null,
   "id": "c2942e3c",
   "metadata": {},
   "outputs": [],
   "source": [
    "a = sorted({10, 2, 30, 4, 5})\n",
    "print(a)"
   ]
  },
  {
   "cell_type": "code",
   "execution_count": null,
   "id": "c6403a0a",
   "metadata": {},
   "outputs": [],
   "source": [
    "a = sorted('python')\n",
    "print(a)"
   ]
  },
  {
   "cell_type": "markdown",
   "id": "0a9728ef",
   "metadata": {},
   "source": [
    "### zip"
   ]
  },
  {
   "cell_type": "code",
   "execution_count": null,
   "id": "4f17345b",
   "metadata": {},
   "outputs": [],
   "source": [
    "languages = ['Java', 'Python', 'JavaScript']\n",
    "versions = [14, 3, 6]\n",
    "result = zip(languages, versions)\n",
    "print(type(result))\n",
    "\n",
    "print(list(result))\n",
    "print(dict(zip(languages, versions)))"
   ]
  },
  {
   "cell_type": "code",
   "execution_count": null,
   "id": "9c4c1028",
   "metadata": {},
   "outputs": [],
   "source": [
    "l1 = [1, 2, 3, 4, 5]\n",
    "l2 = ['A', 'B', 'C']\n",
    "\n",
    "l3 = l2 + [None] * (5 -(len(l2)))\n",
    "\n",
    "dict(zip(l1, l3))"
   ]
  },
  {
   "cell_type": "code",
   "execution_count": null,
   "id": "428ff891",
   "metadata": {},
   "outputs": [],
   "source": [
    "l2"
   ]
  },
  {
   "cell_type": "code",
   "execution_count": null,
   "id": "ce0efdb5",
   "metadata": {},
   "outputs": [],
   "source": [
    "[None] * 3"
   ]
  }
 ],
 "metadata": {
  "kernelspec": {
   "display_name": "Python 3 (ipykernel)",
   "language": "python",
   "name": "python3"
  },
  "language_info": {
   "codemirror_mode": {
    "name": "ipython",
    "version": 3
   },
   "file_extension": ".py",
   "mimetype": "text/x-python",
   "name": "python",
   "nbconvert_exporter": "python",
   "pygments_lexer": "ipython3",
   "version": "3.9.13"
  }
 },
 "nbformat": 4,
 "nbformat_minor": 5
}
