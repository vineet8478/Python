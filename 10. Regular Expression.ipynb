{
 "cells": [
  {
   "cell_type": "code",
   "execution_count": 2,
   "id": "93688f32",
   "metadata": {},
   "outputs": [],
   "source": [
    "import re\n",
    "\n",
    "str1 = '''Hi, welcome to python programming, \n",
    "python is object oriented programming language.'''"
   ]
  },
  {
   "cell_type": "markdown",
   "id": "3eb89a33",
   "metadata": {},
   "source": [
    "## match()"
   ]
  },
  {
   "cell_type": "code",
   "execution_count": 3,
   "id": "ea4c22b4",
   "metadata": {},
   "outputs": [
    {
     "name": "stdout",
     "output_type": "stream",
     "text": [
      "<re.Match object; span=(0, 4), match='Hi, '>\n"
     ]
    }
   ],
   "source": [
    "# finds the pattern in the beginning\n",
    "\n",
    "print(re.match('Hi, ', str1))"
   ]
  },
  {
   "cell_type": "code",
   "execution_count": 4,
   "id": "5a63e32e",
   "metadata": {},
   "outputs": [
    {
     "name": "stdout",
     "output_type": "stream",
     "text": [
      "None\n"
     ]
    }
   ],
   "source": [
    "# case sensitivity\n",
    "\n",
    "print(re.match('hi', str1))"
   ]
  },
  {
   "cell_type": "code",
   "execution_count": 5,
   "id": "49a52716",
   "metadata": {},
   "outputs": [
    {
     "name": "stdout",
     "output_type": "stream",
     "text": [
      "None\n"
     ]
    }
   ],
   "source": [
    "# can't not identify the pattern if it's not present in the beginning\n",
    "\n",
    "print(re.match('python', str1))"
   ]
  },
  {
   "cell_type": "markdown",
   "id": "5a85f9f3",
   "metadata": {},
   "source": [
    "## search()"
   ]
  },
  {
   "cell_type": "code",
   "execution_count": 6,
   "id": "1a115cb4",
   "metadata": {},
   "outputs": [
    {
     "name": "stdout",
     "output_type": "stream",
     "text": [
      "<re.Match object; span=(15, 21), match='python'>\n"
     ]
    }
   ],
   "source": [
    "# can find the pattern anywhere in the string, but finds only first instance\n",
    "\n",
    "print(re.search('python', str1))"
   ]
  },
  {
   "cell_type": "code",
   "execution_count": 7,
   "id": "93890e45",
   "metadata": {},
   "outputs": [
    {
     "name": "stdout",
     "output_type": "stream",
     "text": [
      "None\n"
     ]
    }
   ],
   "source": [
    "# case sensitive\n",
    "\n",
    "print(re.search('Python', str1))"
   ]
  },
  {
   "cell_type": "markdown",
   "id": "a34b7769",
   "metadata": {},
   "source": [
    "## findall()"
   ]
  },
  {
   "cell_type": "code",
   "execution_count": 8,
   "id": "4756f053",
   "metadata": {},
   "outputs": [
    {
     "name": "stdout",
     "output_type": "stream",
     "text": [
      "['python', 'python']\n"
     ]
    }
   ],
   "source": [
    "# case sensitive\n",
    "\n",
    "print(re.findall('python', str1))"
   ]
  },
  {
   "cell_type": "markdown",
   "id": "d47a6709",
   "metadata": {},
   "source": [
    "## compile() and finditer()"
   ]
  },
  {
   "cell_type": "code",
   "execution_count": 9,
   "id": "f5dce19a",
   "metadata": {},
   "outputs": [
    {
     "name": "stdout",
     "output_type": "stream",
     "text": [
      "<class 're.Pattern'>\n",
      "<class 'callable_iterator'>\n",
      "<re.Match object; span=(15, 21), match='python'>\n",
      "<re.Match object; span=(36, 42), match='python'>\n"
     ]
    }
   ],
   "source": [
    "pattern = re.compile('python')\n",
    "print(type(pattern))\n",
    "\n",
    "matches = pattern.finditer(str1)\n",
    "print(type(matches))\n",
    "\n",
    "for match in matches:\n",
    "    print(match)"
   ]
  },
  {
   "cell_type": "markdown",
   "id": "7ed40a76",
   "metadata": {},
   "source": [
    "## split()"
   ]
  },
  {
   "cell_type": "code",
   "execution_count": 10,
   "id": "af53be31",
   "metadata": {},
   "outputs": [
    {
     "data": {
      "text/plain": [
       "['Hi,',\n",
       " 'welcome',\n",
       " 'to',\n",
       " 'python',\n",
       " '3.0',\n",
       " 'programming,',\n",
       " 'python',\n",
       " 'is',\n",
       " '',\n",
       " '100',\n",
       " 'object',\n",
       " 'oriented',\n",
       " 'programming',\n",
       " 'language.']"
      ]
     },
     "execution_count": 10,
     "metadata": {},
     "output_type": "execute_result"
    }
   ],
   "source": [
    "str1 = \"Hi, welcome to python 3.0 programming, python is  100 object oriented programming language.\"\n",
    "re.split(' ', str1)"
   ]
  },
  {
   "cell_type": "code",
   "execution_count": 11,
   "id": "09d2d0ac",
   "metadata": {},
   "outputs": [
    {
     "data": {
      "text/plain": [
       "['Hi, welcome to python ',\n",
       " '.',\n",
       " ' programming, python is  ',\n",
       " '',\n",
       " '',\n",
       " ' object oriented programming language.']"
      ]
     },
     "execution_count": 11,
     "metadata": {},
     "output_type": "execute_result"
    }
   ],
   "source": [
    "str1 = \"Hi, welcome to python 3.0 programming, python is  100 object oriented programming language.\"\n",
    "re.split('\\d', str1)"
   ]
  },
  {
   "cell_type": "markdown",
   "id": "750d0a95",
   "metadata": {},
   "source": [
    "## Special Characters in Pattern Matching"
   ]
  },
  {
   "cell_type": "code",
   "execution_count": 12,
   "id": "22d22820",
   "metadata": {},
   "outputs": [
    {
     "name": "stdout",
     "output_type": "stream",
     "text": [
      "['R', 'a', 'j', 'e', 's', 'h', ' ', 'i', 's', ' ', 'a', ' ', 'm', 'a', 'n', 'a', 'g', 'e', 'r', ',', ' ', 'h', 'i', 's', ' ', 'I', 'D', ' ', 'i', 's', ' ', '1', '0', '0', '1', ',', ' ', 'a', 'n', 'd', ' ', 'h', 'e', ' ', 'g', 'e', 't', 's', ' ', 'a', ' ', 's', 'a', 'l', 'a', 'r', 'y', ' ', '$', '5', '0', '0', '0', '.', '.', '.', '!', '!']\n"
     ]
    }
   ],
   "source": [
    "# '.' matches any character\n",
    "str1 = 'Rajesh is a manager, his ID is 1001, and he gets a salary $5000...!!'\n",
    "print(re.findall('.', str1))"
   ]
  },
  {
   "cell_type": "code",
   "execution_count": 13,
   "id": "594abfdb",
   "metadata": {},
   "outputs": [
    {
     "name": "stdout",
     "output_type": "stream",
     "text": [
      "['1', '0', '0', '1', '5', '0', '0', '0']\n"
     ]
    }
   ],
   "source": [
    "# \\d matches a single digit\n",
    "\n",
    "str1 = 'Rajesh is a manager, his ID is 1001, and he gets a salary $5000...!!'\n",
    "print(re.findall('\\d', str1))"
   ]
  },
  {
   "cell_type": "code",
   "execution_count": 14,
   "id": "bbe6b086",
   "metadata": {},
   "outputs": [
    {
     "name": "stdout",
     "output_type": "stream",
     "text": [
      "['1001', '5000']\n"
     ]
    }
   ],
   "source": [
    "# \\d matches a sequence of multiple digits\n",
    "\n",
    "str1 = 'Rajesh is a manager, his ID is 1001, and he gets a salary $5000...!!'\n",
    "print(re.findall('\\d+', str1))"
   ]
  },
  {
   "cell_type": "code",
   "execution_count": 15,
   "id": "202a5edb",
   "metadata": {},
   "outputs": [
    {
     "name": "stdout",
     "output_type": "stream",
     "text": [
      "['R', 'a', 'j', 'e', 's', 'h', ' ', 'i', 's', ' ', 'a', ' ', 'm', 'a', 'n', 'a', 'g', 'e', 'r', ',', ' ', 'h', 'i', 's', ' ', 'I', 'D', ' ', 'i', 's', ' ', ',', ' ', 'a', 'n', 'd', ' ', 'h', 'e', ' ', 'g', 'e', 't', 's', ' ', 'a', ' ', 's', 'a', 'l', 'a', 'r', 'y', ' ', '$', '.', '.', '.', '!', '!']\n"
     ]
    }
   ],
   "source": [
    "# \\D matches all non-digit characters\n",
    "\n",
    "str1 = 'Rajesh is a manager, his ID is 1001, and he gets a salary $5000...!!'\n",
    "print(re.findall('\\D', str1))"
   ]
  },
  {
   "cell_type": "code",
   "execution_count": 16,
   "id": "03d7f447",
   "metadata": {},
   "outputs": [
    {
     "name": "stdout",
     "output_type": "stream",
     "text": [
      "['Rajesh is a manager, his ID is ', ', and he gets a salary $', '...!!']\n"
     ]
    }
   ],
   "source": [
    "# \\D matches all non-digit characters\n",
    "\n",
    "str1 = 'Rajesh is a manager, his ID is 1001, and he gets a salary $5000...!!'\n",
    "print(re.findall('\\D+', str1))"
   ]
  },
  {
   "cell_type": "code",
   "execution_count": 17,
   "id": "6cf10107",
   "metadata": {},
   "outputs": [
    {
     "name": "stdout",
     "output_type": "stream",
     "text": [
      "['R', 'a', 'j', 'e', 's', 'h', 'i', 's', 'a', 'm', 'a', 'n', 'a', 'g', 'e', 'r', 'h', 'i', 's', 'I', 'D', 'i', 's', '1', '0', '0', '1', 'a', 'n', 'd', 'h', 'e', 'g', 'e', 't', 's', 'a', 's', 'a', 'l', 'a', 'r', 'y', '5', '0', '0', '0']\n"
     ]
    }
   ],
   "source": [
    "# \\w+ matches all alphabates and digits (skips special symbols and blank spaces)\n",
    "\n",
    "str1 = 'Rajesh is a manager, his ID is 1001, and he gets a salary $5000...!!'\n",
    "print(re.findall('\\w', str1))"
   ]
  },
  {
   "cell_type": "code",
   "execution_count": 18,
   "id": "271f4cc5",
   "metadata": {},
   "outputs": [
    {
     "name": "stdout",
     "output_type": "stream",
     "text": [
      "['Rajesh', 'is', 'a', 'manager', 'his', 'ID', 'is', '1001', 'and', 'he', 'gets', 'a', 'salary', '5000']\n"
     ]
    }
   ],
   "source": [
    "# \\w+ matches all words (skips special symbols and blank spaces)\n",
    "\n",
    "str1 = 'Rajesh is a manager, his ID is 1001, and he gets a salary $5000...!!'\n",
    "print(re.findall('\\w+', str1))"
   ]
  },
  {
   "cell_type": "code",
   "execution_count": 19,
   "id": "1d0877e7",
   "metadata": {},
   "outputs": [
    {
     "name": "stdout",
     "output_type": "stream",
     "text": [
      "[' ', ' ', ' ', ',', ' ', ' ', ' ', ' ', ',', ' ', ' ', ' ', ' ', ' ', ' ', '$', '.', '.', '.', '!', '!']\n"
     ]
    }
   ],
   "source": [
    "# \\W+ matches all non-words (spaces and special symbols)\n",
    "\n",
    "str1 = 'Rajesh is a manager, his ID is 1001, and he gets a salary $5000...!!'\n",
    "print(re.findall('\\W', str1))"
   ]
  },
  {
   "cell_type": "code",
   "execution_count": 20,
   "id": "c3c757a5",
   "metadata": {},
   "outputs": [
    {
     "name": "stdout",
     "output_type": "stream",
     "text": [
      "[' ', ' ', ' ', ' ', ' ', ' ', ' ', ' ', ' ', ' ', ' ', ' ', ' ']\n"
     ]
    }
   ],
   "source": [
    "# \\s matches all spaces\n",
    "\n",
    "str1 = 'Rajesh is a manager, his ID is 1001, and he gets a salary $5000...!!'\n",
    "print(re.findall('\\s', str1))"
   ]
  },
  {
   "cell_type": "code",
   "execution_count": 21,
   "id": "883b7f61",
   "metadata": {},
   "outputs": [
    {
     "name": "stdout",
     "output_type": "stream",
     "text": [
      "['R', 'a', 'j', 'e', 's', 'h', 'i', 's', 'a', 'm', 'a', 'n', 'a', 'g', 'e', 'r', ',', 'h', 'i', 's', 'I', 'D', 'i', 's', '1', '0', '0', '1', ',', 'a', 'n', 'd', 'h', 'e', 'g', 'e', 't', 's', 'a', 's', 'a', 'l', 'a', 'r', 'y', '$', '5', '0', '0', '0', '.', '.', '.', '!', '!']\n"
     ]
    }
   ],
   "source": [
    "# \\S matches all non-spaces (A-Z, a-z, 0-9, all special symbols)\n",
    "\n",
    "str1 = 'Rajesh is a manager, his ID is 1001, and he gets a salary $5000...!!'\n",
    "print(re.findall('\\S', str1))"
   ]
  },
  {
   "cell_type": "code",
   "execution_count": 22,
   "id": "88ac2661",
   "metadata": {},
   "outputs": [
    {
     "name": "stdout",
     "output_type": "stream",
     "text": [
      "['Rajesh', 'is', 'a', 'manager,', 'his', 'ID', 'is', '1001,', 'and', 'he', 'gets', 'a', 'salary', '$5000...!!']\n"
     ]
    }
   ],
   "source": [
    "# \\S+ matches a set of all non-spaces (A-Z, a-z, 0-9, all special symbols)\n",
    "\n",
    "str1 = 'Rajesh is a manager, his ID is 1001, and he gets a salary $5000...!!'\n",
    "print(re.findall('\\S+', str1))"
   ]
  },
  {
   "cell_type": "code",
   "execution_count": 26,
   "id": "d7bda592",
   "metadata": {},
   "outputs": [
    {
     "name": "stdout",
     "output_type": "stream",
     "text": [
      "['a', 'a', 'a']\n"
     ]
    }
   ],
   "source": [
    "# \\b matches a pattern in the beginning of the word\n",
    "\n",
    "str1 = 'Rajesh is a manager, his ID is 1001, and he gets a salary $5000...!!'\n",
    "print(re.findall(r'\\ba', str1))"
   ]
  },
  {
   "cell_type": "code",
   "execution_count": 27,
   "id": "25611902",
   "metadata": {},
   "outputs": [
    {
     "name": "stdout",
     "output_type": "stream",
     "text": [
      "['i']\n"
     ]
    }
   ],
   "source": [
    "# \\B matches a pattern except in the beginning of the word\n",
    "\n",
    "str1 = 'Rajesh is a manager, his ID is 1001, and he gets a salary $5000...!!'\n",
    "print(re.findall(r'\\Bi', str1))"
   ]
  },
  {
   "cell_type": "code",
   "execution_count": 31,
   "id": "f5615e28",
   "metadata": {},
   "outputs": [
    {
     "name": "stdout",
     "output_type": "stream",
     "text": [
      "['Raj']\n"
     ]
    }
   ],
   "source": [
    "# ^ matches a pattern in the beginning of the string\n",
    "\n",
    "str1 = 'Rajesh is a manager, his ID is 1001, and he gets a salary $5000...!!'\n",
    "print(re.findall('^R.j', str1))"
   ]
  },
  {
   "cell_type": "code",
   "execution_count": 32,
   "id": "afce3c50",
   "metadata": {},
   "outputs": [
    {
     "name": "stdout",
     "output_type": "stream",
     "text": [
      "[]\n"
     ]
    }
   ],
   "source": [
    "# ^ matches a pattern in the beginning of the string (case)\n",
    "str1 = 'Rajesh is a manager, his ID is 1001, and he gets a salary $5000...!!'\n",
    "print(re.findall(r'^rajesh', str1))"
   ]
  },
  {
   "cell_type": "code",
   "execution_count": 34,
   "id": "59792b2f",
   "metadata": {},
   "outputs": [
    {
     "name": "stdout",
     "output_type": "stream",
     "text": [
      "['!!']\n"
     ]
    }
   ],
   "source": [
    "# $ matches a pattern in the end of the string\n",
    "\n",
    "str1 = 'Rajesh is a manager, his ID is 1001, and he gets a salary $5000...!!'\n",
    "print(re.findall(r'!!$', str1))"
   ]
  },
  {
   "cell_type": "code",
   "execution_count": 35,
   "id": "5cd64bfa",
   "metadata": {},
   "outputs": [
    {
     "name": "stdout",
     "output_type": "stream",
     "text": [
      "[]\n"
     ]
    }
   ],
   "source": [
    "# $ matches a pattern in the end of the string (wrong pattern)\n",
    "\n",
    "str1 = 'Rajesh is a manager, his ID is 1001, and he gets a salary $5000...!!'\n",
    "print(re.findall(r'5000$', str1))"
   ]
  },
  {
   "cell_type": "code",
   "execution_count": 36,
   "id": "347f03c1",
   "metadata": {},
   "outputs": [
    {
     "name": "stdout",
     "output_type": "stream",
     "text": [
      "[]\n"
     ]
    }
   ],
   "source": [
    "# $ matches a pattern in the end of the string (without escape character)\n",
    "\n",
    "str1 = 'Rajesh is a manager, his ID is 1001, and he gets a salary $5000...!!'\n",
    "print(re.findall(r'$5000...!!$', str1))"
   ]
  },
  {
   "cell_type": "code",
   "execution_count": 37,
   "id": "a86e54d5",
   "metadata": {},
   "outputs": [
    {
     "name": "stdout",
     "output_type": "stream",
     "text": [
      "['$5000...!!']\n"
     ]
    }
   ],
   "source": [
    "# $ matches a pattern in the end of the string (with escape character)\n",
    "\n",
    "str1 = 'Rajesh is a manager, his ID is 1001, and he gets a salary $5000...!!'\n",
    "print(re.findall(r'\\$5000...!!$', str1))"
   ]
  },
  {
   "cell_type": "code",
   "execution_count": null,
   "id": "1a3ce676",
   "metadata": {},
   "outputs": [],
   "source": [
    "# count the words ending with one or more digits\n"
   ]
  },
  {
   "cell_type": "code",
   "execution_count": null,
   "id": "d5dc3054",
   "metadata": {},
   "outputs": [],
   "source": [
    "# create new string by removing all the special symbols from the\n",
    "# original string\n"
   ]
  },
  {
   "cell_type": "code",
   "execution_count": null,
   "id": "7dcf6a67",
   "metadata": {},
   "outputs": [],
   "source": [
    "# extract all the mobile numbers from the string\n"
   ]
  },
  {
   "cell_type": "code",
   "execution_count": null,
   "id": "683ecc64",
   "metadata": {},
   "outputs": [],
   "source": [
    "# remove all extra spaces from the string and retrun updated string object\n"
   ]
  }
 ],
 "metadata": {
  "kernelspec": {
   "display_name": "Python 3 (ipykernel)",
   "language": "python",
   "name": "python3"
  },
  "language_info": {
   "codemirror_mode": {
    "name": "ipython",
    "version": 3
   },
   "file_extension": ".py",
   "mimetype": "text/x-python",
   "name": "python",
   "nbconvert_exporter": "python",
   "pygments_lexer": "ipython3",
   "version": "3.9.13"
  }
 },
 "nbformat": 4,
 "nbformat_minor": 5
}
