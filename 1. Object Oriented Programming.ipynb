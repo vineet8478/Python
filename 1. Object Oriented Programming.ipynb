{
 "cells": [
  {
   "cell_type": "code",
   "execution_count": 1,
   "id": "2e41fe57",
   "metadata": {},
   "outputs": [],
   "source": [
    "# create an empty class \n",
    "class Dog:\n",
    "    pass"
   ]
  },
  {
   "cell_type": "code",
   "execution_count": 2,
   "id": "388249e4",
   "metadata": {},
   "outputs": [],
   "source": [
    "# class with default constructor\n",
    "class Dog:\n",
    "    def __init__(self):\n",
    "        print('This line is printed inside constructor')"
   ]
  },
  {
   "cell_type": "code",
   "execution_count": 3,
   "id": "787e5ca3",
   "metadata": {},
   "outputs": [
    {
     "name": "stdout",
     "output_type": "stream",
     "text": [
      "This line is printed inside constructor\n"
     ]
    }
   ],
   "source": [
    "d1 = Dog()"
   ]
  },
  {
   "cell_type": "code",
   "execution_count": 4,
   "id": "04cfa7ae",
   "metadata": {},
   "outputs": [
    {
     "data": {
      "text/plain": [
       "__main__.Dog"
      ]
     },
     "execution_count": 4,
     "metadata": {},
     "output_type": "execute_result"
    }
   ],
   "source": [
    "type(d1)\n"
   ]
  },
  {
   "cell_type": "code",
   "execution_count": 5,
   "id": "a120201b",
   "metadata": {},
   "outputs": [],
   "source": [
    "## class with parameterized constructor\n",
    "class Dog:\n",
    "    def __init__(self,n,a):\n",
    "        # instance variable\n",
    "        self.name=n\n",
    "        self.age=a"
   ]
  },
  {
   "cell_type": "code",
   "execution_count": 6,
   "id": "00255838",
   "metadata": {},
   "outputs": [],
   "source": [
    "# Create an object of a class\n",
    "d1 = Dog('mila',34)"
   ]
  },
  {
   "cell_type": "code",
   "execution_count": 7,
   "id": "12ff04d6",
   "metadata": {},
   "outputs": [
    {
     "name": "stdout",
     "output_type": "stream",
     "text": [
      "mila\n",
      "34\n"
     ]
    }
   ],
   "source": [
    "## access the properties of an object\n",
    "print(d1.name)\n",
    "print(d1.age)"
   ]
  },
  {
   "cell_type": "code",
   "execution_count": 8,
   "id": "b27dac17",
   "metadata": {},
   "outputs": [],
   "source": [
    "#Dog class has a class attribute called breed with the value \"Labrador\":\n",
    "class Dog:\n",
    "    # class variable\n",
    "    breed=\"Labrador\"\n",
    "    def __init__(self, name,age):                  \n",
    "        self.name=name\n",
    "        self.age=age"
   ]
  },
  {
   "cell_type": "code",
   "execution_count": 9,
   "id": "692ed229",
   "metadata": {},
   "outputs": [],
   "source": [
    "d1 = Dog('Max', 4)\n",
    "d2 = Dog('Tommy', 7)"
   ]
  },
  {
   "cell_type": "code",
   "execution_count": 10,
   "id": "a2933c9d",
   "metadata": {},
   "outputs": [
    {
     "name": "stdout",
     "output_type": "stream",
     "text": [
      "Labrador\n",
      "Max\n",
      "4\n"
     ]
    }
   ],
   "source": [
    "print(d1.breed)\n",
    "print(d1.name)\n",
    "print(d1.age)"
   ]
  },
  {
   "cell_type": "code",
   "execution_count": 11,
   "id": "9d91f1ad",
   "metadata": {},
   "outputs": [
    {
     "name": "stdout",
     "output_type": "stream",
     "text": [
      "Labrador\n",
      "Tommy\n",
      "7\n"
     ]
    }
   ],
   "source": [
    "print(d2.breed)\n",
    "print(d2.name)\n",
    "print(d2.age)"
   ]
  },
  {
   "cell_type": "code",
   "execution_count": 13,
   "id": "b62b81f4",
   "metadata": {},
   "outputs": [],
   "source": [
    "d3 = Dog(10, 'Bobby')"
   ]
  },
  {
   "cell_type": "code",
   "execution_count": 14,
   "id": "7f54b8bf",
   "metadata": {},
   "outputs": [],
   "source": [
    "Dog.breed = 'pug'"
   ]
  },
  {
   "cell_type": "code",
   "execution_count": 15,
   "id": "df2db962",
   "metadata": {},
   "outputs": [
    {
     "data": {
      "text/plain": [
       "'pug'"
      ]
     },
     "execution_count": 15,
     "metadata": {},
     "output_type": "execute_result"
    }
   ],
   "source": [
    "d1.breed"
   ]
  },
  {
   "cell_type": "code",
   "execution_count": 16,
   "id": "575a0310",
   "metadata": {},
   "outputs": [],
   "source": [
    "d2.breed = 'Labrador'"
   ]
  },
  {
   "cell_type": "code",
   "execution_count": 17,
   "id": "a88d34c0",
   "metadata": {},
   "outputs": [
    {
     "data": {
      "text/plain": [
       "'pug'"
      ]
     },
     "execution_count": 17,
     "metadata": {},
     "output_type": "execute_result"
    }
   ],
   "source": [
    "d1.breed"
   ]
  },
  {
   "cell_type": "code",
   "execution_count": 18,
   "id": "e8bfb55a",
   "metadata": {},
   "outputs": [
    {
     "data": {
      "text/plain": [
       "'Labrador'"
      ]
     },
     "execution_count": 18,
     "metadata": {},
     "output_type": "execute_result"
    }
   ],
   "source": [
    "d2.breed"
   ]
  },
  {
   "cell_type": "code",
   "execution_count": 19,
   "id": "f1967549",
   "metadata": {},
   "outputs": [
    {
     "data": {
      "text/plain": [
       "'pug'"
      ]
     },
     "execution_count": 19,
     "metadata": {},
     "output_type": "execute_result"
    }
   ],
   "source": [
    "d3 = Dog('mili', 5)\n",
    "d3.breed"
   ]
  },
  {
   "cell_type": "code",
   "execution_count": 20,
   "id": "9f109f95",
   "metadata": {},
   "outputs": [],
   "source": [
    "## class with two attributes\n",
    "class Dog:\n",
    "    # Class attribute\n",
    "    breed=\"Labrador\" \n",
    "    color=\"Black\"\n",
    "    def __init__(self,name,age):\n",
    "        self.color = 'Pink'\n",
    "        self.name=name\n",
    "        self.age=age"
   ]
  },
  {
   "cell_type": "code",
   "execution_count": 21,
   "id": "72fa5fbb",
   "metadata": {},
   "outputs": [],
   "source": [
    "# object\n",
    "d1 = Dog('Max', 5)"
   ]
  },
  {
   "cell_type": "code",
   "execution_count": 22,
   "id": "55e2d335",
   "metadata": {},
   "outputs": [
    {
     "data": {
      "text/plain": [
       "'Pink'"
      ]
     },
     "execution_count": 22,
     "metadata": {},
     "output_type": "execute_result"
    }
   ],
   "source": [
    "# current value of an attribute\n",
    "d1.color"
   ]
  },
  {
   "cell_type": "code",
   "execution_count": 23,
   "id": "d8b23395",
   "metadata": {},
   "outputs": [],
   "source": [
    "# modify an attribute\n",
    "d1.age = 6"
   ]
  },
  {
   "cell_type": "code",
   "execution_count": 24,
   "id": "d803ad45",
   "metadata": {},
   "outputs": [
    {
     "data": {
      "text/plain": [
       "6"
      ]
     },
     "execution_count": 24,
     "metadata": {},
     "output_type": "execute_result"
    }
   ],
   "source": [
    "# new value\n",
    "d1.age"
   ]
  },
  {
   "cell_type": "code",
   "execution_count": 27,
   "id": "f9b259cd",
   "metadata": {},
   "outputs": [],
   "source": [
    "# class with instance method\n",
    "class Dog:\n",
    "    # Class attribute\n",
    "    breed=\"Labrador\"\n",
    "    color=\"Black\"\n",
    "    def __init__(self,name,age):                  # class method            \n",
    "        self.name=name\n",
    "        self.age=age\n",
    "        print('Initilization is done..!!')\n",
    "    #instance method\n",
    "    def description(self):\n",
    "        print('Method was called..!!')\n",
    "        print(self)\n",
    "        return f'{self.name}, is {self.age} years old'"
   ]
  },
  {
   "cell_type": "code",
   "execution_count": 28,
   "id": "4ff6d5f3",
   "metadata": {},
   "outputs": [
    {
     "name": "stdout",
     "output_type": "stream",
     "text": [
      "Initilization is done..!!\n"
     ]
    }
   ],
   "source": [
    "# object\n",
    "d1 = Dog('Max', 10)"
   ]
  },
  {
   "cell_type": "code",
   "execution_count": 29,
   "id": "1abf4829",
   "metadata": {},
   "outputs": [
    {
     "name": "stdout",
     "output_type": "stream",
     "text": [
      "Method was called..!!\n",
      "<__main__.Dog object at 0x00000190672BFAC0>\n"
     ]
    },
    {
     "data": {
      "text/plain": [
       "'Max, is 10 years old'"
      ]
     },
     "execution_count": 29,
     "metadata": {},
     "output_type": "execute_result"
    }
   ],
   "source": [
    "# call an instance method\n",
    "d1.description()"
   ]
  },
  {
   "cell_type": "code",
   "execution_count": 31,
   "id": "5b819fbb",
   "metadata": {},
   "outputs": [],
   "source": [
    "# class with multiple methods\n",
    "class Dog:\n",
    "    # Class attribute\n",
    "    breed=\"Labrador\"\n",
    "  \n",
    "    def __init__(self,name,age):                  # class method            \n",
    "        self.name=name\n",
    "        self.age=age\n",
    "    # instance method\n",
    "    def description(self):\n",
    "        return f'{self.name}, is {self.age} years old'\n",
    "    # another instance method\n",
    "    def speak(self, sound):\n",
    "        return f'{self.name} says {sound}'"
   ]
  },
  {
   "cell_type": "code",
   "execution_count": 32,
   "id": "8b1a47b6",
   "metadata": {},
   "outputs": [
    {
     "name": "stdout",
     "output_type": "stream",
     "text": [
      "max, is 4 years old\n",
      "max says bow\n"
     ]
    }
   ],
   "source": [
    "d1 = Dog('max', 4)\n",
    "print(d1.description())\n",
    "print(d1.speak('bow'))"
   ]
  },
  {
   "cell_type": "code",
   "execution_count": 37,
   "id": "6d953361",
   "metadata": {},
   "outputs": [
    {
     "name": "stdout",
     "output_type": "stream",
     "text": [
      "10\n"
     ]
    },
    {
     "ename": "NameError",
     "evalue": "name 'a' is not defined",
     "output_type": "error",
     "traceback": [
      "\u001b[1;31m---------------------------------------------------------------------------\u001b[0m",
      "\u001b[1;31mNameError\u001b[0m                                 Traceback (most recent call last)",
      "\u001b[1;32m~\\AppData\\Local\\Temp\\ipykernel_1436\\4221037497.py\u001b[0m in \u001b[0;36m<module>\u001b[1;34m\u001b[0m\n\u001b[0;32m      5\u001b[0m \u001b[0msample\u001b[0m\u001b[1;33m(\u001b[0m\u001b[1;33m)\u001b[0m\u001b[1;33m\u001b[0m\u001b[1;33m\u001b[0m\u001b[0m\n\u001b[0;32m      6\u001b[0m \u001b[1;33m\u001b[0m\u001b[0m\n\u001b[1;32m----> 7\u001b[1;33m \u001b[0mprint\u001b[0m\u001b[1;33m(\u001b[0m\u001b[0ma\u001b[0m\u001b[1;33m)\u001b[0m\u001b[1;33m\u001b[0m\u001b[1;33m\u001b[0m\u001b[0m\n\u001b[0m",
      "\u001b[1;31mNameError\u001b[0m: name 'a' is not defined"
     ]
    }
   ],
   "source": [
    "def sample():\n",
    "    a = 10\n",
    "    print(a)\n",
    "\n",
    "sample()\n",
    "\n",
    "print(a)"
   ]
  },
  {
   "cell_type": "code",
   "execution_count": 38,
   "id": "e061c9e3",
   "metadata": {},
   "outputs": [],
   "source": [
    "# destructor\n",
    "\n",
    "class Employee:\n",
    "# Initializing\n",
    "    def __init__(self):\n",
    "        print('Employee created.')\n",
    "    # Deleting (Calling destructor)\n",
    "    def __del__(self):\n",
    "        print('Destructor called, Employee deleted.')"
   ]
  },
  {
   "cell_type": "code",
   "execution_count": 39,
   "id": "d0d9abfd",
   "metadata": {},
   "outputs": [
    {
     "name": "stdout",
     "output_type": "stream",
     "text": [
      "Employee created.\n"
     ]
    }
   ],
   "source": [
    "obj = Employee()"
   ]
  },
  {
   "cell_type": "code",
   "execution_count": 40,
   "id": "c4ff4e5a",
   "metadata": {},
   "outputs": [
    {
     "name": "stdout",
     "output_type": "stream",
     "text": [
      "Destructor called, Employee deleted.\n"
     ]
    }
   ],
   "source": [
    "del obj"
   ]
  },
  {
   "cell_type": "markdown",
   "id": "f28a9c0b",
   "metadata": {},
   "source": [
    "## Inheritance"
   ]
  },
  {
   "cell_type": "code",
   "execution_count": 46,
   "id": "0aff2432",
   "metadata": {},
   "outputs": [
    {
     "name": "stdout",
     "output_type": "stream",
     "text": [
      "30\n",
      "10\n"
     ]
    }
   ],
   "source": [
    "# single inheritance\n",
    "\n",
    "class base_class:\n",
    "    def add(self, num1, num2):\n",
    "        print(num1+num2)\n",
    "class sub_class(base_class):\n",
    "    def sub(self, num1, num2):\n",
    "        print(num1-num2)\n",
    "\n",
    "s1=sub_class()\n",
    "s1.add(20,10)\n",
    "s1.sub(20,10)\n"
   ]
  },
  {
   "cell_type": "code",
   "execution_count": null,
   "id": "2ab27bc2",
   "metadata": {},
   "outputs": [],
   "source": [
    "class Sample:\n",
    "    def add(self, n1, n2):\n",
    "        print(n1+n2)\n",
    "    def sub(self, n1,n2):\n",
    "        print(n1-n2)\n",
    "class sub_class(Sample):\n",
    "    def mul(self, n1, n2):\n",
    "        print(n1*n2)\n",
    "    def div(self, n1,n2):\n",
    "        print(n1/n2)\n",
    "    \n",
    "s1=sub_class()\n",
    "s1.add(10,20)\n",
    "s1.sub(20,10)\n",
    "s1.mul(20,10)\n",
    "s1.div(20,10)"
   ]
  },
  {
   "cell_type": "code",
   "execution_count": 49,
   "id": "e042a18c",
   "metadata": {},
   "outputs": [
    {
     "name": "stdout",
     "output_type": "stream",
     "text": [
      "30\n",
      "10\n",
      "200\n",
      "2.0\n",
      "This is printed from second subclass\n"
     ]
    }
   ],
   "source": [
    "# multilevel inheritance\n",
    "\n",
    "class Sample:\n",
    "    def add(self, n1, n2):\n",
    "        print(n1+n2)\n",
    "    def sub(self, n1,n2):\n",
    "        print(n1-n2)\n",
    "class sub_class(Sample):\n",
    "    def mul(self, n1, n2):\n",
    "        print(n1*n2)\n",
    "    def div(self, n1,n2):\n",
    "        print(n1/n2)\n",
    "class another_sub_class(sub_class):\n",
    "    def display(self):\n",
    "        print(\"This is printed from second subclass\")\n",
    "s1=another_sub_class()\n",
    "s1.add(10,20)\n",
    "s1.sub(20,10)\n",
    "s1.mul(20,10)\n",
    "s1.div(20,10)\n",
    "s1.display()"
   ]
  },
  {
   "cell_type": "code",
   "execution_count": null,
   "id": "0e519dfc",
   "metadata": {},
   "outputs": [],
   "source": [
    "# multiple inheritance\n",
    "\n",
    "class Sample1:\n",
    "    def add(self, n1, n2):\n",
    "        print(n1+n2)\n",
    "    def sub(self, n1,n2):\n",
    "        print(n1-n2)\n",
    "class Sample2:\n",
    "    def mul(self, n1, n2):\n",
    "        print(n1*n2)\n",
    "    def div(self, n1,n2):\n",
    "        print(n1/n2)\n",
    "class sub_class(Sample1, Sample2):\n",
    "    def display(self):\n",
    "        print(\"This is printed from second subclass\")\n",
    "s1=sub_class()\n",
    "s1.add(10,20)\n",
    "s1.sub(20,10)\n",
    "s1.mul(20,10)\n",
    "s1.div(20,10)\n",
    "s1.display()"
   ]
  },
  {
   "cell_type": "code",
   "execution_count": null,
   "id": "0a53ba1a",
   "metadata": {},
   "outputs": [],
   "source": [
    "# Hirarchical inheritance\n",
    "\n",
    "class Sample:\n",
    "    def add(self, n1, n2):\n",
    "        print(n1+n2)\n",
    "    def sub(self, n1,n2):\n",
    "        print(n1-n2)\n",
    "class sub_class(Sample):\n",
    "    def mul(self, n1, n2):\n",
    "        print(n1*n2)\n",
    "    def div(self, n1,n2):\n",
    "        print(n1/n2)\n",
    "class another_sub_class(Sample):\n",
    "    def display(self):\n",
    "        print(\"This is printed from second subclass\")\n",
    "s1=another_sub_class()\n",
    "s1.add(10,20)\n",
    "s1.sub(20,10)\n",
    "s1.mul(20,10)\n",
    "s1.div(20,10)\n",
    "s1.display()"
   ]
  },
  {
   "cell_type": "code",
   "execution_count": null,
   "id": "be5c6ce7",
   "metadata": {},
   "outputs": [],
   "source": [
    "# Hybrid inheritance\n",
    "\n",
    "class Sample:\n",
    "    def add(self, n1, n2):\n",
    "        print(n1+n2)\n",
    "    def sub(self, n1,n2):\n",
    "        print(n1-n2)\n",
    "class sub_class1(Sample):\n",
    "    def mul(self, n1, n2):\n",
    "        print(n1*n2)\n",
    "    def div(self, n1,n2):\n",
    "        print(n1/n2)\n",
    "class sub_class2(Sample):\n",
    "    def show(self):\n",
    "        print(\"This is printed from subclass2\")\n",
    "class further_sub_class(sub_class2):\n",
    "    def display(self):\n",
    "        print(\"This is printed from another subclass of subclass2\")\n",
    "s1=further_sub_class()\n",
    "s1.add(10,20)\n",
    "s1.sub(20,10)\n",
    "# s1.mul(20,10)\n",
    "# s1.div(20,10)\n",
    "s1.show()\n",
    "s1.display()"
   ]
  },
  {
   "cell_type": "code",
   "execution_count": null,
   "id": "20802da2",
   "metadata": {},
   "outputs": [],
   "source": [
    "class Base:\n",
    "    def __init__(self):\n",
    "        # Protected member\n",
    "        self._a = 2\n",
    "# Creating a derived class\n",
    "class Derived(Base):\n",
    "    def __init__(self):\n",
    "        # Calling constructor of Base class\n",
    "        Base.__init__(self)\n",
    "        print(\"Calling protected member of base class: \")\n",
    "        print(self._a)"
   ]
  },
  {
   "cell_type": "code",
   "execution_count": null,
   "id": "fc2ee584",
   "metadata": {},
   "outputs": [],
   "source": [
    "obj1 = Derived()"
   ]
  },
  {
   "cell_type": "code",
   "execution_count": null,
   "id": "5a154005",
   "metadata": {},
   "outputs": [],
   "source": [
    "obj2 = Base()"
   ]
  },
  {
   "cell_type": "code",
   "execution_count": null,
   "id": "6010d3d2",
   "metadata": {},
   "outputs": [],
   "source": [
    "# Python program to demonstrate private members\n",
    "# Creating a Base class\n",
    "class Base:\n",
    "    def __init__(self):\n",
    "        self.a = \"Python Training\"\n",
    "        self.__c = \" Private Python Training\"\n",
    "        print(self.a)\n",
    "        print(self.__c)\n",
    "# Creating a derived class\n",
    "class Derived(Base):\n",
    "    def __init__(self):\n",
    "        # Calling constructor of Base class\n",
    "        Base.__init__(self)\n",
    "        print(\"Calling private member of base class: \")\n",
    "        print(self.a)\n",
    "#         print(self.__c)"
   ]
  },
  {
   "cell_type": "code",
   "execution_count": null,
   "id": "06554673",
   "metadata": {},
   "outputs": [],
   "source": [
    "obj1 = Base()"
   ]
  },
  {
   "cell_type": "code",
   "execution_count": null,
   "id": "c1daac5a",
   "metadata": {},
   "outputs": [],
   "source": [
    "obj2 = Derived()"
   ]
  },
  {
   "cell_type": "markdown",
   "id": "af95dd61",
   "metadata": {},
   "source": [
    "## Polymorphism"
   ]
  },
  {
   "cell_type": "code",
   "execution_count": 50,
   "id": "5b2a732b",
   "metadata": {},
   "outputs": [
    {
     "name": "stdout",
     "output_type": "stream",
     "text": [
      "7\n",
      "5\n"
     ]
    }
   ],
   "source": [
    "# in-built polymorphic functions\n",
    "print(len('Welcome'))\n",
    "print(len([1, 2, 3, 4, 5]))"
   ]
  },
  {
   "cell_type": "code",
   "execution_count": 53,
   "id": "b8308c6b",
   "metadata": {},
   "outputs": [
    {
     "name": "stdout",
     "output_type": "stream",
     "text": [
      "c\n",
      "1\n",
      "\n",
      "w\n",
      "5\n"
     ]
    }
   ],
   "source": [
    "print(min('welcome'))\n",
    "print(min([1, 2, 3, 4, 5]))\n",
    "\n",
    "print()\n",
    "\n",
    "print(max('welcome'))\n",
    "print(max([1, 2, 3, 4, 5]))"
   ]
  },
  {
   "cell_type": "code",
   "execution_count": 84,
   "id": "9db1b335",
   "metadata": {},
   "outputs": [],
   "source": [
    "# polymorphism with inheritance\n",
    "class base:\n",
    "    def add(self, a, b):\n",
    "        print('Addition in base class is: ', a + b)\n",
    "class derived(base):\n",
    "    def add(self, a, b, c):\n",
    "        print('Addition in derived class is: ', a + b + c)\n",
    "    def display(self):\n",
    "        base.add(10, 20, 30)\n",
    "        self.add(10, 20, 30)\n"
   ]
  },
  {
   "cell_type": "code",
   "execution_count": 85,
   "id": "8335bc13",
   "metadata": {},
   "outputs": [
    {
     "name": "stdout",
     "output_type": "stream",
     "text": [
      "Addition in base class is:  50\n",
      "Addition in derived class is:  60\n"
     ]
    }
   ],
   "source": [
    "d1 = derived()\n",
    "d1.display()\n",
    "# d1.add(10, 20)\n",
    "# d1.add(10, 20, 30)"
   ]
  },
  {
   "cell_type": "markdown",
   "id": "499fe5ec",
   "metadata": {},
   "source": [
    "## Data Abstraction"
   ]
  },
  {
   "cell_type": "code",
   "execution_count": 94,
   "id": "99a78d8b",
   "metadata": {},
   "outputs": [],
   "source": [
    "class employee:\n",
    "    company = 'Deloitte'\n",
    "    def __init__(self, a, b, c):\n",
    "        self.name = a\n",
    "        self.doj = b\n",
    "        self.sal = c\n",
    "    def action(self):\n",
    "        print('Employee come to the office..!!')\n",
    "        \n",
    "class manager(employee):\n",
    "    designation = 'Manager'\n",
    "    def __init__(self, a, b, c, d, e):\n",
    "        self.teamsize = a\n",
    "        self.roomno = b\n",
    "        employee.__init__(self, c, d, e)\n",
    "    def action(self):\n",
    "        print('Manager manages the team..!!') \n",
    "        print('Team size is: ', self.teamsize)\n",
    "        print('Available in room no: ', self.roomno)\n",
    "        \n",
    "class analyst(employee):\n",
    "    designation = 'Analyst'\n",
    "    def __init__(self, a, b):\n",
    "        self.project = a\n",
    "        self.mgr = b\n",
    "    def action(self):\n",
    "        print('Analyst works on a project with team..!!')"
   ]
  },
  {
   "cell_type": "code",
   "execution_count": 95,
   "id": "a4523920",
   "metadata": {},
   "outputs": [
    {
     "name": "stdout",
     "output_type": "stream",
     "text": [
      "Manager manages the team..!!\n",
      "Team size is:  10\n",
      "Available in room no:  1001\n",
      "Deloitte\n",
      "Ajit\n",
      "01/01/2020\n",
      "51000\n"
     ]
    }
   ],
   "source": [
    "m1 = manager(10, '1001', 'Ajit', '01/01/2020', 51000)\n",
    "m1.action()\n",
    "\n",
    "# print()\n",
    "print(m1.company)\n",
    "print(m1.name)\n",
    "print(m1.doj)\n",
    "print(m1.sal)"
   ]
  },
  {
   "cell_type": "code",
   "execution_count": 89,
   "id": "6035dc9c",
   "metadata": {},
   "outputs": [
    {
     "ename": "AttributeError",
     "evalue": "'manager' object has no attribute 'project'",
     "output_type": "error",
     "traceback": [
      "\u001b[1;31m---------------------------------------------------------------------------\u001b[0m",
      "\u001b[1;31mAttributeError\u001b[0m                            Traceback (most recent call last)",
      "\u001b[1;32m~\\AppData\\Local\\Temp\\ipykernel_1436\\3366071055.py\u001b[0m in \u001b[0;36m<module>\u001b[1;34m\u001b[0m\n\u001b[1;32m----> 1\u001b[1;33m \u001b[0mm1\u001b[0m\u001b[1;33m.\u001b[0m\u001b[0mproject\u001b[0m\u001b[1;33m\u001b[0m\u001b[1;33m\u001b[0m\u001b[0m\n\u001b[0m",
      "\u001b[1;31mAttributeError\u001b[0m: 'manager' object has no attribute 'project'"
     ]
    }
   ],
   "source": [
    "m1.project"
   ]
  },
  {
   "cell_type": "code",
   "execution_count": null,
   "id": "fa7fe97f",
   "metadata": {},
   "outputs": [],
   "source": [
    "class One:\n",
    "    def display(self, a, b):\n",
    "        print('Addition is: ', a+b )\n",
    "    def display(self):\n",
    "        print('printed from One')\n",
    "    def display(self, a):\n",
    "        print('value of a is: ', a)\n",
    "\n",
    "        \n",
    "# class Two(One):\n",
    "#     def display(self):\n",
    "#         print('printed from Two')"
   ]
  },
  {
   "cell_type": "code",
   "execution_count": null,
   "id": "15646cc7",
   "metadata": {},
   "outputs": [],
   "source": [
    "obj = One()\n",
    "obj.display(10)"
   ]
  },
  {
   "cell_type": "code",
   "execution_count": null,
   "id": "7edae43c",
   "metadata": {},
   "outputs": [],
   "source": []
  }
 ],
 "metadata": {
  "kernelspec": {
   "display_name": "Python 3 (ipykernel)",
   "language": "python",
   "name": "python3"
  },
  "language_info": {
   "codemirror_mode": {
    "name": "ipython",
    "version": 3
   },
   "file_extension": ".py",
   "mimetype": "text/x-python",
   "name": "python",
   "nbconvert_exporter": "python",
   "pygments_lexer": "ipython3",
   "version": "3.9.13"
  }
 },
 "nbformat": 4,
 "nbformat_minor": 5
}
