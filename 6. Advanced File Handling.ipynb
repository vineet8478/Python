{
 "cells": [
  {
   "cell_type": "markdown",
   "id": "75cd1bc9",
   "metadata": {},
   "source": [
    "## CSV Files"
   ]
  },
  {
   "cell_type": "code",
   "execution_count": null,
   "id": "133eae2b",
   "metadata": {},
   "outputs": [],
   "source": [
    "import os\n",
    "os.getcwd()"
   ]
  },
  {
   "cell_type": "code",
   "execution_count": null,
   "id": "a0b3c83c",
   "metadata": {},
   "outputs": [],
   "source": [
    "## reading csv file into pandas dataframe\n",
    "\n",
    "import pandas as pd\n",
    "\n",
    "df = pd.read_csv('medal.csv') # it will load complete data from a file into df (DataFrame object)\n",
    "\n",
    "print(df.shape)"
   ]
  },
  {
   "cell_type": "code",
   "execution_count": null,
   "id": "4afaa7e2",
   "metadata": {},
   "outputs": [],
   "source": [
    "## writing  pandas dataframe into csv file\n",
    "\n",
    "# df.to_csv('new_medal.csv') # it will write complete data from a df (DataFrame object) into file\n",
    "\n",
    "df.to_csv('new_medal.csv', index = False) # if you don't want to write index information into file"
   ]
  },
  {
   "cell_type": "markdown",
   "id": "ac4f28a7",
   "metadata": {},
   "source": [
    "## Excel Files"
   ]
  },
  {
   "cell_type": "code",
   "execution_count": null,
   "id": "1c16f6e2",
   "metadata": {},
   "outputs": [],
   "source": [
    "\n",
    "df.to_excel('medal.xlsx', index = False)"
   ]
  },
  {
   "cell_type": "code",
   "execution_count": null,
   "id": "a70ee8b6",
   "metadata": {},
   "outputs": [],
   "source": [
    "## reading XLSX (excel) file into pandas dataframe\n",
    "\n",
    "import pandas as pd\n",
    "\n",
    "# load data from a file into dataframe (from the first sheet by default)\n",
    "df = pd.read_excel('medal.xlsx') \n",
    "print(df.shape)\n"
   ]
  },
  {
   "cell_type": "code",
   "execution_count": null,
   "id": "4a2a73fa",
   "metadata": {},
   "outputs": [],
   "source": [
    "# load data from a file into dataframe (from the first sheet by default)\n",
    "df = pd.read_excel('medal.xlsx', sheet_name='Sheet2') \n",
    "print(df.shape)"
   ]
  },
  {
   "cell_type": "code",
   "execution_count": null,
   "id": "5b0610ed",
   "metadata": {},
   "outputs": [],
   "source": [
    "## writing  pandas dataframe into excel file\n",
    "\n",
    "df.to_excel('new_participant.xlsx', index = False)"
   ]
  },
  {
   "cell_type": "markdown",
   "id": "83b2aa98",
   "metadata": {},
   "source": [
    "## JSON Files"
   ]
  },
  {
   "cell_type": "code",
   "execution_count": null,
   "id": "213f972c",
   "metadata": {},
   "outputs": [],
   "source": [
    "# python has a json package\n",
    "import json"
   ]
  },
  {
   "cell_type": "code",
   "execution_count": null,
   "id": "3cbe8a16",
   "metadata": {},
   "outputs": [],
   "source": [
    "# data to be written in a file\n",
    "data = {'emp_id':1001,'Name':'john','dept':'IT', 'sal':25000}"
   ]
  },
  {
   "cell_type": "code",
   "execution_count": null,
   "id": "24f179c0",
   "metadata": {},
   "outputs": [],
   "source": [
    "# write a data in json file\n",
    "\n",
    "with open(\"data_file.json\", \"w\") as f1:\n",
    "    json.dump(data, f1)"
   ]
  },
  {
   "cell_type": "code",
   "execution_count": null,
   "id": "18378e96",
   "metadata": {},
   "outputs": [],
   "source": [
    "var1 = json.dumps(data)\n",
    "print(var1)\n",
    "print(type(var1))\n",
    "var1"
   ]
  },
  {
   "cell_type": "code",
   "execution_count": null,
   "id": "9bb58aa8",
   "metadata": {},
   "outputs": [],
   "source": [
    "d1 = json.loads(var1)\n",
    "print(type(d1))\n",
    "d1"
   ]
  },
  {
   "cell_type": "code",
   "execution_count": null,
   "id": "c9396f59",
   "metadata": {},
   "outputs": [],
   "source": [
    "'1000'"
   ]
  },
  {
   "cell_type": "code",
   "execution_count": null,
   "id": "1995e05f",
   "metadata": {},
   "outputs": [],
   "source": [
    "# read data from json file\n",
    "\n",
    "with open(\"data_file.json\", \"r\") as f1:\n",
    "    data1 = json.load(f1)\n",
    "    \n",
    "print(data1)\n",
    "print(type(data1))"
   ]
  },
  {
   "cell_type": "code",
   "execution_count": null,
   "id": "edbc5e40",
   "metadata": {},
   "outputs": [],
   "source": [
    "import json\n",
    "import requests"
   ]
  },
  {
   "cell_type": "code",
   "execution_count": null,
   "id": "6f740a53",
   "metadata": {},
   "outputs": [],
   "source": [
    "response = requests.get(\"https://www.randomuser.me/api\")\n",
    "data = json.loads(response.text)"
   ]
  },
  {
   "cell_type": "code",
   "execution_count": null,
   "id": "2e2be382",
   "metadata": {},
   "outputs": [],
   "source": [
    "type(response.text)"
   ]
  },
  {
   "cell_type": "code",
   "execution_count": null,
   "id": "927a31c4",
   "metadata": {},
   "outputs": [],
   "source": [
    "type(data)"
   ]
  },
  {
   "cell_type": "code",
   "execution_count": null,
   "id": "518338f3",
   "metadata": {},
   "outputs": [],
   "source": [
    "data"
   ]
  },
  {
   "cell_type": "markdown",
   "id": "bbf0ae43",
   "metadata": {},
   "source": [
    "## XML Files"
   ]
  },
  {
   "cell_type": "code",
   "execution_count": null,
   "id": "59b7d233",
   "metadata": {},
   "outputs": [],
   "source": [
    "import xml.etree.ElementTree as ET"
   ]
  },
  {
   "cell_type": "code",
   "execution_count": null,
   "id": "43f88233",
   "metadata": {},
   "outputs": [],
   "source": [
    "tree = ET.parse('sample.xml')\n",
    "root = tree.getroot()"
   ]
  },
  {
   "cell_type": "code",
   "execution_count": null,
   "id": "95c39c54",
   "metadata": {},
   "outputs": [],
   "source": [
    "print(type(tree))\n",
    "print(type(root))"
   ]
  },
  {
   "cell_type": "code",
   "execution_count": null,
   "id": "f3b70ef2",
   "metadata": {},
   "outputs": [],
   "source": [
    "root.tag"
   ]
  },
  {
   "cell_type": "code",
   "execution_count": null,
   "id": "83b91116",
   "metadata": {},
   "outputs": [],
   "source": [
    "root.attrib"
   ]
  },
  {
   "cell_type": "code",
   "execution_count": null,
   "id": "f0b167a7",
   "metadata": {},
   "outputs": [],
   "source": [
    "for child in root:\n",
    "    print(child.tag, child.attrib)"
   ]
  },
  {
   "cell_type": "code",
   "execution_count": null,
   "id": "82facb41",
   "metadata": {},
   "outputs": [],
   "source": [
    "for movie in root.iter('movie'):\n",
    "    print(movie.attrib)"
   ]
  },
  {
   "cell_type": "code",
   "execution_count": null,
   "id": "48498753",
   "metadata": {},
   "outputs": [],
   "source": [
    "for movie in root.findall(\"./genre/decade/movie/[year='1992']\"):\n",
    "    print(movie.attrib)"
   ]
  },
  {
   "cell_type": "code",
   "execution_count": null,
   "id": "ab231735",
   "metadata": {},
   "outputs": [],
   "source": [
    "tree.write(\"movies_new.xml\")"
   ]
  },
  {
   "cell_type": "markdown",
   "id": "67833c93",
   "metadata": {},
   "source": [
    "## Parquet Files"
   ]
  },
  {
   "cell_type": "code",
   "execution_count": null,
   "id": "7e1655fa",
   "metadata": {},
   "outputs": [],
   "source": [
    "!pip install pyarrow"
   ]
  },
  {
   "cell_type": "code",
   "execution_count": 43,
   "id": "01e38e8d",
   "metadata": {},
   "outputs": [],
   "source": [
    "import pandas as pd"
   ]
  },
  {
   "cell_type": "code",
   "execution_count": 44,
   "id": "da6fb717",
   "metadata": {},
   "outputs": [
    {
     "name": "stdout",
     "output_type": "stream",
     "text": [
      "(9994, 22)\n"
     ]
    }
   ],
   "source": [
    "#read csv file into df\n",
    "df = pd.read_csv('Store.csv')\n",
    "print(df.shape)"
   ]
  },
  {
   "cell_type": "code",
   "execution_count": 46,
   "id": "dd4f37f5",
   "metadata": {},
   "outputs": [],
   "source": [
    "# write parquet file\n",
    "df.to_parquet('Store.parquet', index=False)"
   ]
  },
  {
   "cell_type": "code",
   "execution_count": 47,
   "id": "eb007ba2",
   "metadata": {},
   "outputs": [
    {
     "name": "stdout",
     "output_type": "stream",
     "text": [
      "(9994, 22)\n"
     ]
    }
   ],
   "source": [
    "#read csv file into df\n",
    "df = pd.read_parquet('Store.parquet')\n",
    "print(df.shape)"
   ]
  },
  {
   "cell_type": "code",
   "execution_count": 48,
   "id": "7b1ab9fd",
   "metadata": {},
   "outputs": [
    {
     "data": {
      "text/plain": [
       "Index(['Unnamed: 0', 'Row ID', 'Order ID', 'Order Date', 'Ship Date',\n",
       "       'Ship Mode', 'Customer ID', 'Customer Name', 'Segment', 'Country',\n",
       "       'City', 'State', 'Postal Code', 'Region', 'Product ID', 'Category',\n",
       "       'Sub-Category', 'Product Name', 'Sales', 'Quantity', 'Discount',\n",
       "       'Profit'],\n",
       "      dtype='object')"
      ]
     },
     "execution_count": 48,
     "metadata": {},
     "output_type": "execute_result"
    }
   ],
   "source": [
    "df.columns"
   ]
  },
  {
   "cell_type": "code",
   "execution_count": 50,
   "id": "e05f0f3c",
   "metadata": {},
   "outputs": [
    {
     "ename": "FileExistsError",
     "evalue": "[WinError 183] Cannot create a file when that file already exists: 'parquet_data'",
     "output_type": "error",
     "traceback": [
      "\u001b[1;31m---------------------------------------------------------------------------\u001b[0m",
      "\u001b[1;31mFileExistsError\u001b[0m                           Traceback (most recent call last)",
      "\u001b[1;32m~\\AppData\\Local\\Temp\\ipykernel_15620\\240007073.py\u001b[0m in \u001b[0;36m<module>\u001b[1;34m\u001b[0m\n\u001b[0;32m      1\u001b[0m \u001b[1;32mimport\u001b[0m \u001b[0mos\u001b[0m\u001b[1;33m\u001b[0m\u001b[1;33m\u001b[0m\u001b[0m\n\u001b[1;32m----> 2\u001b[1;33m \u001b[0mos\u001b[0m\u001b[1;33m.\u001b[0m\u001b[0mmkdir\u001b[0m\u001b[1;33m(\u001b[0m\u001b[1;34m'parquet_data'\u001b[0m\u001b[1;33m)\u001b[0m\u001b[1;33m\u001b[0m\u001b[1;33m\u001b[0m\u001b[0m\n\u001b[0m",
      "\u001b[1;31mFileExistsError\u001b[0m: [WinError 183] Cannot create a file when that file already exists: 'parquet_data'"
     ]
    }
   ],
   "source": [
    "import os\n",
    "os.mkdir('parquet_data')"
   ]
  },
  {
   "cell_type": "code",
   "execution_count": 51,
   "id": "492d05ab",
   "metadata": {},
   "outputs": [],
   "source": [
    "# write parquet file\n",
    "df.to_parquet('parquet_data/Store.parquet', \n",
    "              index=False, \n",
    "              partition_cols=['State'])"
   ]
  },
  {
   "cell_type": "code",
   "execution_count": null,
   "id": "99b4847a",
   "metadata": {},
   "outputs": [],
   "source": [
    "# write parquet file\n",
    "df.to_parquet('parquet_data/Store.parquet', index=False,\n",
    "              partition_cols=['State', 'City'])"
   ]
  },
  {
   "cell_type": "code",
   "execution_count": null,
   "id": "976e68de",
   "metadata": {},
   "outputs": [],
   "source": []
  }
 ],
 "metadata": {
  "kernelspec": {
   "display_name": "Python 3 (ipykernel)",
   "language": "python",
   "name": "python3"
  },
  "language_info": {
   "codemirror_mode": {
    "name": "ipython",
    "version": 3
   },
   "file_extension": ".py",
   "mimetype": "text/x-python",
   "name": "python",
   "nbconvert_exporter": "python",
   "pygments_lexer": "ipython3",
   "version": "3.9.13"
  }
 },
 "nbformat": 4,
 "nbformat_minor": 5
}
