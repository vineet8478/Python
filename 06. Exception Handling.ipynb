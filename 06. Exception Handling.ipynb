{
 "cells": [
  {
   "cell_type": "code",
   "execution_count": null,
   "id": "c58acfb7",
   "metadata": {},
   "outputs": [],
   "source": [
    "# syntax error\n",
    "print(10/2))"
   ]
  },
  {
   "cell_type": "code",
   "execution_count": null,
   "id": "dedd9d15",
   "metadata": {},
   "outputs": [],
   "source": [
    "# exception\n",
    "print(10/0)"
   ]
  },
  {
   "cell_type": "code",
   "execution_count": null,
   "id": "84e3867e",
   "metadata": {},
   "outputs": [],
   "source": [
    "## withput exception handling\n",
    "\n",
    "x = 10\n",
    "y = int(input('Enter a number: '))\n",
    "a= x/y\n",
    "print(a)  "
   ]
  },
  {
   "cell_type": "code",
   "execution_count": null,
   "id": "62ff7a6c",
   "metadata": {},
   "outputs": [],
   "source": [
    "# try-except block\n",
    "\n",
    "try:\n",
    "    x = 10\n",
    "    y = int(input('Enter a number: '))\n",
    "    a= x/y\n",
    "    print(a) \n",
    "except ArithmeticError:\n",
    "    print (\"can not divide by zero..!!\")  "
   ]
  },
  {
   "cell_type": "code",
   "execution_count": null,
   "id": "a9e69352",
   "metadata": {},
   "outputs": [],
   "source": [
    "# different error\n",
    "\n",
    "try:\n",
    "    x = 10\n",
    "    y = int(input('Enter a number: '))\n",
    "    a= x/y\n",
    "    print(a)\n",
    "    print(10 + 'abc')\n",
    "except ArithmeticError:  \n",
    "    print (\"can not divide by zero..!!\")  "
   ]
  },
  {
   "cell_type": "code",
   "execution_count": null,
   "id": "1e109658",
   "metadata": {},
   "outputs": [],
   "source": [
    "# exception block to catch all the exceptions\n",
    "\n",
    "try:\n",
    "    x = 10\n",
    "    y = int(input('Enter a number: '))\n",
    "    a= x/y\n",
    "    print(a)\n",
    "    print(10 + 'abc')\n",
    "except Exception:  \n",
    "    print (\"Something went wrong\")"
   ]
  },
  {
   "cell_type": "code",
   "execution_count": null,
   "id": "35920399",
   "metadata": {},
   "outputs": [],
   "source": [
    "# multiple exception blocks\n",
    "\n",
    "try:\n",
    "    x = 10\n",
    "    l1 = [1, 2, 3]\n",
    "    y = int(input('Enter a number: '))\n",
    "    a= x/y\n",
    "    print(a)\n",
    "    print(10 + 'abc')\n",
    "    print(l1[10])\n",
    "except ArithmeticError:  \n",
    "    print (\"Can not divide by zero..!\")\n",
    "except TypeError:  \n",
    "    print (\"Type mismatch..!\")\n",
    "except IndexError:  \n",
    "    print (\"Invalid Index..!\")\n",
    "except Exception:\n",
    "    print('Something went wrong..!!')"
   ]
  },
  {
   "cell_type": "code",
   "execution_count": null,
   "id": "05947bcd",
   "metadata": {},
   "outputs": [],
   "source": [
    "# finally block\n",
    "\n",
    "try:\n",
    "    x = 10\n",
    "    l1 = [1, 2, 3]\n",
    "    y = int(input('Enter a number: '))\n",
    "    a= x/y\n",
    "    print(a)\n",
    "except ArithmeticError:  \n",
    "    print (\"Can not divide by zero..!\")  \n",
    "finally:\n",
    "    print(\"This is printed from finally block\")"
   ]
  },
  {
   "cell_type": "code",
   "execution_count": null,
   "id": "dd32ca39",
   "metadata": {},
   "outputs": [],
   "source": [
    "# else block\n",
    "import traceback\n",
    "\n",
    "try:\n",
    "    x = 10\n",
    "    y = int(input('Enter a number: '))\n",
    "    a= x/y\n",
    "    print(a)\n",
    "except ArithmeticError as e: \n",
    "    err = traceback.exec\n",
    "    print(e)\n",
    "    print()\n",
    "    print (\"Can not divide by zero..!\")  \n",
    "else:\n",
    "    print(\"Done\")"
   ]
  },
  {
   "cell_type": "code",
   "execution_count": null,
   "id": "4db7aeb4",
   "metadata": {},
   "outputs": [],
   "source": [
    "# all together\n",
    "# finally block\n",
    "\n",
    "try:\n",
    "    x = 10\n",
    "    l1 = [1, 2, 3]\n",
    "    y = int(input('Enter a number: '))\n",
    "    a= x/y\n",
    "    print(a)\n",
    "except ArithmeticError:  \n",
    "    print (\"Can not divide by zero..!\")  \n",
    "else:\n",
    "    print(\"Done\")\n",
    "finally:\n",
    "    print('This is printed inside finally block..!!')"
   ]
  },
  {
   "cell_type": "code",
   "execution_count": null,
   "id": "392a8c25",
   "metadata": {},
   "outputs": [],
   "source": [
    "## explicitly raising an exception\n",
    "try:\n",
    "    a=int(input())\n",
    "    \n",
    "    if a<=0:\n",
    "        raise ValueError(\"That is not a positive number\")\n",
    "    print('success')\n",
    "except ValueError as ve:\n",
    "    print(ve)\n",
    "    print('Failed')"
   ]
  },
  {
   "cell_type": "code",
   "execution_count": null,
   "id": "170a919a",
   "metadata": {},
   "outputs": [],
   "source": [
    "a = -10\n",
    "assert a > 0\n",
    "print(a)"
   ]
  },
  {
   "cell_type": "code",
   "execution_count": null,
   "id": "d56dacb2",
   "metadata": {},
   "outputs": [],
   "source": []
  }
 ],
 "metadata": {
  "kernelspec": {
   "display_name": "Python 3 (ipykernel)",
   "language": "python",
   "name": "python3"
  },
  "language_info": {
   "codemirror_mode": {
    "name": "ipython",
    "version": 3
   },
   "file_extension": ".py",
   "mimetype": "text/x-python",
   "name": "python",
   "nbconvert_exporter": "python",
   "pygments_lexer": "ipython3",
   "version": "3.9.13"
  }
 },
 "nbformat": 4,
 "nbformat_minor": 5
}
