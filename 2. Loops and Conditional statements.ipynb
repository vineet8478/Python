{
 "cells": [
  {
   "cell_type": "code",
   "execution_count": null,
   "id": "86bc1429",
   "metadata": {},
   "outputs": [],
   "source": [
    "# 1. Print characters from a string that are present at an even index number\n"
   ]
  },
  {
   "cell_type": "code",
   "execution_count": null,
   "id": "2ded09a3",
   "metadata": {},
   "outputs": [],
   "source": [
    "# 2. Write a program to print first 10 even numbers in reverse order.\n"
   ]
  },
  {
   "cell_type": "code",
   "execution_count": null,
   "id": "5f351f33",
   "metadata": {},
   "outputs": [],
   "source": [
    "# 3. Write a program to print first 10 multiples of a number accepted from\n",
    "#user\n"
   ]
  },
  {
   "cell_type": "code",
   "execution_count": null,
   "id": "52408897",
   "metadata": {},
   "outputs": [],
   "source": [
    "# 4. Write a program to display all the numbers which are divisible by 11 but not by 2\n",
    "    # between 100 and 500\n"
   ]
  },
  {
   "cell_type": "code",
   "execution_count": null,
   "id": "f168b2b9",
   "metadata": {},
   "outputs": [],
   "source": [
    "# 5. Write a program to count the total number of digits in a number\n"
   ]
  },
  {
   "cell_type": "code",
   "execution_count": null,
   "id": "055e7e05",
   "metadata": {},
   "outputs": [],
   "source": [
    "# 6. Write a program to find the sum of the digits of a number accepted from user\n"
   ]
  },
  {
   "cell_type": "code",
   "execution_count": null,
   "id": "ccd3a895",
   "metadata": {},
   "outputs": [],
   "source": [
    "# 7. Find the sum of even numbers less than 100 (using while loop as well as for loop)\n"
   ]
  },
  {
   "cell_type": "code",
   "execution_count": null,
   "id": "bce6c812",
   "metadata": {},
   "outputs": [],
   "source": [
    "# 8. Accept 5 numbers from user and print minimum, maximum and average of it\n"
   ]
  },
  {
   "cell_type": "code",
   "execution_count": null,
   "id": "b7dee55d",
   "metadata": {},
   "outputs": [],
   "source": [
    "# 9. Print all letters from a string except vowels.\n"
   ]
  },
  {
   "cell_type": "code",
   "execution_count": null,
   "id": "c57ec687",
   "metadata": {},
   "outputs": [],
   "source": [
    "# 10. Check if entered string is palindrome or not\n"
   ]
  },
  {
   "cell_type": "code",
   "execution_count": null,
   "id": "a5da7607",
   "metadata": {},
   "outputs": [],
   "source": [
    "# 11. Check if entered number is prime or not\n"
   ]
  },
  {
   "cell_type": "code",
   "execution_count": null,
   "id": "b5eacb78",
   "metadata": {},
   "outputs": [],
   "source": [
    "# 12. Print all prime numbers less than 100\n"
   ]
  },
  {
   "cell_type": "code",
   "execution_count": null,
   "id": "74cda927",
   "metadata": {},
   "outputs": [],
   "source": [
    "# 13. Print first n prime numbers (accept the value of n from user)\n"
   ]
  },
  {
   "cell_type": "code",
   "execution_count": null,
   "id": "cdfb96e3",
   "metadata": {},
   "outputs": [],
   "source": [
    "# 14. Check if a number is divisible by 5 or not\n"
   ]
  },
  {
   "cell_type": "code",
   "execution_count": null,
   "id": "5015ebf0",
   "metadata": {},
   "outputs": [],
   "source": [
    "# 15. Find out if entered number is Armstrong or not\n"
   ]
  },
  {
   "cell_type": "code",
   "execution_count": null,
   "id": "c3d8e4fd",
   "metadata": {},
   "outputs": [],
   "source": [
    "# 16. Print index of vowels from a string\n"
   ]
  },
  {
   "cell_type": "code",
   "execution_count": null,
   "id": "d5b9aadc",
   "metadata": {},
   "outputs": [],
   "source": [
    "# 17. calculate a sum of squares of even digits from a user entered number"
   ]
  },
  {
   "cell_type": "code",
   "execution_count": null,
   "id": "ae5f4f79",
   "metadata": {},
   "outputs": [],
   "source": [
    "# 18. Accept percenatge value from user and print grade as per below conditions:\n",
    "# per > 90 --> outstanding\n",
    "# 90 > per > 75 --> first class\n",
    "# 75 > per > 60 --> second class\n",
    "# per < 60 --> average"
   ]
  },
  {
   "cell_type": "code",
   "execution_count": null,
   "id": "82558675",
   "metadata": {},
   "outputs": [],
   "source": [
    "# 19. accept the employee salary and dept from user for 5 employees and calculate the\n",
    "# updated salary as per below conditions:\n",
    "\n",
    "# if dept is IT 15% hike\n",
    "# if dept is Audit 10% hike\n",
    "# if dept is tax 12% hike\n",
    "# for other dept 5% hike"
   ]
  },
  {
   "cell_type": "code",
   "execution_count": null,
   "id": "22d53306",
   "metadata": {},
   "outputs": [],
   "source": [
    "# 20. print all the factors of user entered number"
   ]
  }
 ],
 "metadata": {
  "kernelspec": {
   "display_name": "Python 3 (ipykernel)",
   "language": "python",
   "name": "python3"
  },
  "language_info": {
   "codemirror_mode": {
    "name": "ipython",
    "version": 3
   },
   "file_extension": ".py",
   "mimetype": "text/x-python",
   "name": "python",
   "nbconvert_exporter": "python",
   "pygments_lexer": "ipython3",
   "version": "3.9.13"
  }
 },
 "nbformat": 4,
 "nbformat_minor": 5
}
