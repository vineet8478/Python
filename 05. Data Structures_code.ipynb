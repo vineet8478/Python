{
 "cells": [
  {
   "cell_type": "markdown",
   "id": "1a80b102",
   "metadata": {},
   "source": [
    "### Data Structures\n",
    "\n",
    "         - Lists\n",
    "    \n",
    "         - Tuple\n",
    "        \n",
    "         - Dictionary\n",
    "            \n",
    "         - Set\n",
    "        "
   ]
  },
  {
   "cell_type": "markdown",
   "id": "42c2e01d",
   "metadata": {},
   "source": [
    "#### Data Structures in Python\n",
    "##### Lists"
   ]
  },
  {
   "cell_type": "markdown",
   "id": "1ddc0394",
   "metadata": {},
   "source": [
    "An ordered sequence of values enclosed within [ ].\n",
    "\n",
    "- List can be created by [ ] or list()\n",
    "\n",
    "- Lists are mutable : Can do changes\n",
    "\n",
    "-  List can contain multiple data types\n",
    "\n",
    "- Lists are iterables"
   ]
  },
  {
   "cell_type": "code",
   "execution_count": 1,
   "id": "93500aaa",
   "metadata": {},
   "outputs": [],
   "source": [
    "# Create an empty list\n",
    "l1 = []\n",
    "\n",
    "l2 = list()"
   ]
  },
  {
   "cell_type": "code",
   "execution_count": 2,
   "id": "ec3b4cc6",
   "metadata": {},
   "outputs": [
    {
     "name": "stdout",
     "output_type": "stream",
     "text": [
      "<class 'list'>\n",
      "<class 'list'>\n"
     ]
    }
   ],
   "source": [
    "print(type(l1))\n",
    "print(type(l2))"
   ]
  },
  {
   "cell_type": "code",
   "execution_count": 3,
   "id": "9d2cc50f",
   "metadata": {},
   "outputs": [
    {
     "name": "stdout",
     "output_type": "stream",
     "text": [
      "[1, 2, 3, 4, 5, 6]\n"
     ]
    }
   ],
   "source": [
    "# create a list with int data types\n",
    "l2 = [1, 2, 3, 4, 5, 6]\n",
    "print(l2)"
   ]
  },
  {
   "cell_type": "code",
   "execution_count": 4,
   "id": "139194c1",
   "metadata": {},
   "outputs": [
    {
     "name": "stdout",
     "output_type": "stream",
     "text": [
      "['aaa', 'bbb', 'ccc']\n"
     ]
    }
   ],
   "source": [
    "# create a list with string data type \n",
    "l3 = ['aaa', 'bbb', 'ccc']\n",
    "print(l3)"
   ]
  },
  {
   "cell_type": "code",
   "execution_count": 5,
   "id": "77d50381",
   "metadata": {
    "scrolled": true
   },
   "outputs": [
    {
     "name": "stdout",
     "output_type": "stream",
     "text": [
      "[1, 2, 11.4, 'abc']\n"
     ]
    }
   ],
   "source": [
    "# create a list with mixed data types\n",
    "l4 = [1, 2, 11.4, 'abc']\n",
    "print(l4)"
   ]
  },
  {
   "cell_type": "code",
   "execution_count": 6,
   "id": "6872b83d",
   "metadata": {},
   "outputs": [
    {
     "name": "stdout",
     "output_type": "stream",
     "text": [
      "before update:  [5, 6.5, 'age', True]\n",
      "after update:  [0, 6.5, 'age', True]\n"
     ]
    }
   ],
   "source": [
    "# Lists are mutable\n",
    "# change the value '5' into '0' in the list ls3\n",
    "ls3=[5, 6.5, 'age', True]\n",
    "print('before update: ', ls3)\n",
    "ls3[0] = 0\n",
    "print('after update: ', ls3)"
   ]
  },
  {
   "cell_type": "code",
   "execution_count": null,
   "id": "56313591",
   "metadata": {},
   "outputs": [],
   "source": [
    "# Extract 'age' from the list ls3\n",
    "ls3[2]"
   ]
  },
  {
   "cell_type": "code",
   "execution_count": null,
   "id": "18c666d3",
   "metadata": {},
   "outputs": [],
   "source": [
    "# Extract 'e'  from the list ls3\n",
    "ls3[2][2]"
   ]
  },
  {
   "cell_type": "code",
   "execution_count": 7,
   "id": "cedbb144",
   "metadata": {},
   "outputs": [],
   "source": [
    "list1 = [10, 20, 30, 40, 50, 60, 70, 80, 90, 100]"
   ]
  },
  {
   "cell_type": "code",
   "execution_count": 8,
   "id": "26fa6d39",
   "metadata": {},
   "outputs": [
    {
     "data": {
      "text/plain": [
       "10"
      ]
     },
     "execution_count": 8,
     "metadata": {},
     "output_type": "execute_result"
    }
   ],
   "source": [
    "len(list1)"
   ]
  },
  {
   "cell_type": "code",
   "execution_count": 9,
   "id": "bf3bb03e",
   "metadata": {},
   "outputs": [
    {
     "data": {
      "text/plain": [
       "10"
      ]
     },
     "execution_count": 9,
     "metadata": {},
     "output_type": "execute_result"
    }
   ],
   "source": [
    "# get first element\n",
    "list1[0]"
   ]
  },
  {
   "cell_type": "code",
   "execution_count": 10,
   "id": "2b066437",
   "metadata": {},
   "outputs": [
    {
     "data": {
      "text/plain": [
       "100"
      ]
     },
     "execution_count": 10,
     "metadata": {},
     "output_type": "execute_result"
    }
   ],
   "source": [
    "# get last element\n",
    "list1[-1]\n",
    "# list1[len(list1)-1]"
   ]
  },
  {
   "cell_type": "code",
   "execution_count": 11,
   "id": "620dff38",
   "metadata": {},
   "outputs": [
    {
     "data": {
      "text/plain": [
       "[10, 20, 30, 40, 50]"
      ]
     },
     "execution_count": 11,
     "metadata": {},
     "output_type": "execute_result"
    }
   ],
   "source": [
    "# get first 5 elements\n",
    "# list1[0:5]\n",
    "list1[:5]"
   ]
  },
  {
   "cell_type": "code",
   "execution_count": 12,
   "id": "a34e83fd",
   "metadata": {},
   "outputs": [
    {
     "data": {
      "text/plain": [
       "[60, 70, 80, 90, 100]"
      ]
     },
     "execution_count": 12,
     "metadata": {},
     "output_type": "execute_result"
    }
   ],
   "source": [
    "# get last 5 elements\n",
    "list1[-5:]"
   ]
  },
  {
   "cell_type": "code",
   "execution_count": null,
   "id": "b1235a3c",
   "metadata": {},
   "outputs": [],
   "source": [
    "# get 3rd, 4th, and 5th elements\n",
    "list1[2:5]"
   ]
  },
  {
   "cell_type": "code",
   "execution_count": null,
   "id": "424fd63a",
   "metadata": {},
   "outputs": [],
   "source": [
    "list1[5:]"
   ]
  },
  {
   "cell_type": "code",
   "execution_count": null,
   "id": "89591a53",
   "metadata": {},
   "outputs": [],
   "source": [
    "# all the elements from even indices\n",
    "list1[::2]"
   ]
  },
  {
   "cell_type": "code",
   "execution_count": null,
   "id": "ea4a7f67",
   "metadata": {},
   "outputs": [],
   "source": [
    "# all the elements from odd indices\n",
    "list1[1::2]"
   ]
  },
  {
   "cell_type": "code",
   "execution_count": null,
   "id": "21a8653f",
   "metadata": {},
   "outputs": [],
   "source": [
    "ls4= [25, 31, [3, 4], -5]\n",
    "# extract [3, 4] from the list ls4.\n",
    "ls4[2]"
   ]
  },
  {
   "cell_type": "code",
   "execution_count": 13,
   "id": "3d7e4da5",
   "metadata": {},
   "outputs": [],
   "source": [
    "first=[2, 34, 5, [56, 81, [43, 89], 67], 10]"
   ]
  },
  {
   "cell_type": "code",
   "execution_count": null,
   "id": "656f9066",
   "metadata": {},
   "outputs": [],
   "source": [
    "# extract 89\n"
   ]
  },
  {
   "cell_type": "code",
   "execution_count": null,
   "id": "6bb7e5a4",
   "metadata": {},
   "outputs": [],
   "source": [
    "# extract 67\n"
   ]
  },
  {
   "cell_type": "code",
   "execution_count": null,
   "id": "ccff6025",
   "metadata": {},
   "outputs": [],
   "source": [
    "# extract 56\n"
   ]
  },
  {
   "cell_type": "code",
   "execution_count": 14,
   "id": "dc09ea3d",
   "metadata": {},
   "outputs": [
    {
     "data": {
      "text/plain": [
       "[81, 67]"
      ]
     },
     "execution_count": 14,
     "metadata": {},
     "output_type": "execute_result"
    }
   ],
   "source": [
    "# extract 81, 67\n",
    "first[3][1::2]"
   ]
  },
  {
   "cell_type": "code",
   "execution_count": 16,
   "id": "e10665e6",
   "metadata": {},
   "outputs": [
    {
     "name": "stdout",
     "output_type": "stream",
     "text": [
      "[1, 2, 3, 4, 5, 6]\n",
      "[4, 5, 6]\n"
     ]
    }
   ],
   "source": [
    "#extend\n",
    "newlist1=[1, 2, 3]\n",
    "newlist2=[4, 5, 6]\n",
    "newlist1.extend(newlist2)\n",
    "print(newlist1)\n",
    "print(newlist2)"
   ]
  },
  {
   "cell_type": "code",
   "execution_count": 17,
   "id": "0aa07e61",
   "metadata": {},
   "outputs": [
    {
     "name": "stdout",
     "output_type": "stream",
     "text": [
      "[1, 2, 3, 4, 5, 6]\n",
      "[1, 2, 3, 4, 5, 6, 4, 10, 50]\n",
      "[1, 2, 3, 4, 5, 6]\n"
     ]
    }
   ],
   "source": [
    "print(newlist1)\n",
    "another_list = newlist1 + [4, 10, 50]\n",
    "print(another_list)\n",
    "print(newlist1)"
   ]
  },
  {
   "cell_type": "code",
   "execution_count": 18,
   "id": "14698a94",
   "metadata": {},
   "outputs": [
    {
     "data": {
      "text/plain": [
       "[6, 7, 8, [9, 10]]"
      ]
     },
     "execution_count": 18,
     "metadata": {},
     "output_type": "execute_result"
    }
   ],
   "source": [
    "# append\n",
    "newlist3=[6, 7, 8]\n",
    "newlist4=[9, 10]\n",
    "newlist3.append(newlist4)\n",
    "newlist3"
   ]
  },
  {
   "cell_type": "code",
   "execution_count": 19,
   "id": "6d2309fe",
   "metadata": {},
   "outputs": [],
   "source": [
    "newlist3.append(100)"
   ]
  },
  {
   "cell_type": "code",
   "execution_count": 20,
   "id": "f9098acd",
   "metadata": {},
   "outputs": [
    {
     "data": {
      "text/plain": [
       "[6, 7, 8, [9, 10], 100]"
      ]
     },
     "execution_count": 20,
     "metadata": {},
     "output_type": "execute_result"
    }
   ],
   "source": [
    "newlist3"
   ]
  },
  {
   "cell_type": "code",
   "execution_count": 22,
   "id": "c878f8a4",
   "metadata": {},
   "outputs": [
    {
     "name": "stdout",
     "output_type": "stream",
     "text": [
      "[6, 1000, 7, 8, [9, 10], 100]\n",
      "[6, 1000, 7, 8, [9, 10], 100, 1000]\n"
     ]
    }
   ],
   "source": [
    "# insert\n",
    "#syntax: listobject.insert(index,value)\n",
    "print(newlist3)\n",
    "newlist3.insert(10, 1000)\n",
    "print(newlist3)"
   ]
  },
  {
   "cell_type": "code",
   "execution_count": null,
   "id": "180dd055",
   "metadata": {},
   "outputs": [],
   "source": [
    "#pop\n",
    "# listobject.pop(index) \n",
    "# list object.pop()--> removes last element in the list"
   ]
  },
  {
   "cell_type": "code",
   "execution_count": 23,
   "id": "e71bd95a",
   "metadata": {},
   "outputs": [
    {
     "name": "stdout",
     "output_type": "stream",
     "text": [
      "[6, 1000, 7, 8, [9, 10], 100, 1000]\n",
      "[1000, 7, 8, [9, 10], 100, 1000]\n"
     ]
    }
   ],
   "source": [
    "print(newlist3)\n",
    "newlist3.pop(0)\n",
    "print(newlist3)"
   ]
  },
  {
   "cell_type": "code",
   "execution_count": 24,
   "id": "1b86db70",
   "metadata": {},
   "outputs": [
    {
     "name": "stdout",
     "output_type": "stream",
     "text": [
      "[1000, 7, 8, [9, 10], 100]\n"
     ]
    }
   ],
   "source": [
    "newlist3.pop()\n",
    "print(newlist3)"
   ]
  },
  {
   "cell_type": "code",
   "execution_count": null,
   "id": "061feb1f",
   "metadata": {},
   "outputs": [],
   "source": [
    "## remove \n",
    "# syntax: listobject.remove(value)"
   ]
  },
  {
   "cell_type": "code",
   "execution_count": 34,
   "id": "c4f0aa95",
   "metadata": {},
   "outputs": [
    {
     "data": {
      "text/plain": [
       "[20, 30, 10, 20]"
      ]
     },
     "execution_count": 34,
     "metadata": {},
     "output_type": "execute_result"
    }
   ],
   "source": [
    "l1 = [10, 20, 30, 10, 20]\n",
    "l1.remove(10)\n",
    "l1"
   ]
  },
  {
   "cell_type": "code",
   "execution_count": 35,
   "id": "a3b90c02",
   "metadata": {},
   "outputs": [
    {
     "ename": "ValueError",
     "evalue": "list.remove(x): x not in list",
     "output_type": "error",
     "traceback": [
      "\u001b[1;31m---------------------------------------------------------------------------\u001b[0m",
      "\u001b[1;31mValueError\u001b[0m                                Traceback (most recent call last)",
      "\u001b[1;32m~\\AppData\\Local\\Temp\\ipykernel_21456\\2405962867.py\u001b[0m in \u001b[0;36m<module>\u001b[1;34m\u001b[0m\n\u001b[1;32m----> 1\u001b[1;33m \u001b[0mnewlist3\u001b[0m\u001b[1;33m.\u001b[0m\u001b[0mremove\u001b[0m\u001b[1;33m(\u001b[0m\u001b[1;36m6\u001b[0m\u001b[1;33m)\u001b[0m\u001b[1;33m\u001b[0m\u001b[1;33m\u001b[0m\u001b[0m\n\u001b[0m\u001b[0;32m      2\u001b[0m \u001b[0mnewlist3\u001b[0m\u001b[1;33m\u001b[0m\u001b[1;33m\u001b[0m\u001b[0m\n",
      "\u001b[1;31mValueError\u001b[0m: list.remove(x): x not in list"
     ]
    }
   ],
   "source": [
    "newlist3.remove(6)\n",
    "newlist3"
   ]
  },
  {
   "cell_type": "code",
   "execution_count": 36,
   "id": "2f8a4a22",
   "metadata": {},
   "outputs": [
    {
     "name": "stdout",
     "output_type": "stream",
     "text": [
      "[20, 30, 10, 20]\n",
      "[30, 20]\n"
     ]
    }
   ],
   "source": [
    "print(l1)\n",
    "del l1[0], l1[1]\n",
    "print(l1)"
   ]
  },
  {
   "cell_type": "code",
   "execution_count": 37,
   "id": "d0945c5e",
   "metadata": {},
   "outputs": [
    {
     "data": {
      "text/plain": [
       "[30]"
      ]
     },
     "execution_count": 37,
     "metadata": {},
     "output_type": "execute_result"
    }
   ],
   "source": [
    "l1.pop()\n",
    "l1"
   ]
  },
  {
   "cell_type": "code",
   "execution_count": 38,
   "id": "c3ad6880",
   "metadata": {},
   "outputs": [
    {
     "ename": "NameError",
     "evalue": "name 'l1' is not defined",
     "output_type": "error",
     "traceback": [
      "\u001b[1;31m---------------------------------------------------------------------------\u001b[0m",
      "\u001b[1;31mNameError\u001b[0m                                 Traceback (most recent call last)",
      "\u001b[1;32m~\\AppData\\Local\\Temp\\ipykernel_21456\\659096169.py\u001b[0m in \u001b[0;36m<module>\u001b[1;34m\u001b[0m\n\u001b[0;32m      1\u001b[0m \u001b[1;32mdel\u001b[0m \u001b[0ml1\u001b[0m\u001b[1;33m\u001b[0m\u001b[1;33m\u001b[0m\u001b[0m\n\u001b[1;32m----> 2\u001b[1;33m \u001b[0mprint\u001b[0m\u001b[1;33m(\u001b[0m\u001b[0ml1\u001b[0m\u001b[1;33m)\u001b[0m\u001b[1;33m\u001b[0m\u001b[1;33m\u001b[0m\u001b[0m\n\u001b[0m",
      "\u001b[1;31mNameError\u001b[0m: name 'l1' is not defined"
     ]
    }
   ],
   "source": [
    "del l1\n",
    "print(l1)"
   ]
  },
  {
   "cell_type": "code",
   "execution_count": 45,
   "id": "08b87b53",
   "metadata": {},
   "outputs": [
    {
     "name": "stdout",
     "output_type": "stream",
     "text": [
      "Original:  [10, 20, 30, 40, 50, 60, 70, 80, 90, 100]\n",
      "Reversed:  [100, 90, 80, 70, 60, 50, 40, 30, 20, 10]\n",
      "[100, 90, 80, 70, 60, 50, 40, 30, 20, 10]\n"
     ]
    }
   ],
   "source": [
    "# reverse\n",
    "# syntax: list object.reverse()\n",
    "newlist3 = [10, 20, 30, 40, 50, 60, 70, 80, 90, 100]\n",
    "print('Original: ', newlist3)\n",
    "newlist3.reverse()\n",
    "print('Reversed: ', newlist3)\n",
    "\n",
    "\n",
    "## for creating another (reversed)copy of original list\n",
    "# l1 =list(reversed(newlist3))\n",
    "# print(l1)"
   ]
  },
  {
   "cell_type": "code",
   "execution_count": 40,
   "id": "900b4ded",
   "metadata": {},
   "outputs": [
    {
     "data": {
      "text/plain": [
       "2"
      ]
     },
     "execution_count": 40,
     "metadata": {},
     "output_type": "execute_result"
    }
   ],
   "source": [
    "#index\n",
    "# returns the position of the element\n",
    "newlist3.index(80)"
   ]
  },
  {
   "cell_type": "code",
   "execution_count": null,
   "id": "43d883e8",
   "metadata": {},
   "outputs": [],
   "source": [
    "print(newlist2)\n",
    "print(newlist3)"
   ]
  },
  {
   "cell_type": "code",
   "execution_count": 46,
   "id": "513faa70",
   "metadata": {},
   "outputs": [
    {
     "name": "stdout",
     "output_type": "stream",
     "text": [
      "[100, 90, 80, 70, 60, 50, 40, 30, 20, 10]\n",
      "[4, 5, 6]\n"
     ]
    },
    {
     "data": {
      "text/plain": [
       "[100, 90, 80, 70, 60, 50, 40, 30, 20, 10, 4, 5, 6]"
      ]
     },
     "execution_count": 46,
     "metadata": {},
     "output_type": "execute_result"
    }
   ],
   "source": [
    "### Apply + , * on list objects\n",
    "print(newlist3)\n",
    "print(newlist2)\n",
    "newlist3 + newlist2"
   ]
  },
  {
   "cell_type": "code",
   "execution_count": 47,
   "id": "eb4f0435",
   "metadata": {},
   "outputs": [
    {
     "data": {
      "text/plain": [
       "[10, 20, 30, 10, 20, 30, 10, 20, 30]"
      ]
     },
     "execution_count": 47,
     "metadata": {},
     "output_type": "execute_result"
    }
   ],
   "source": [
    "newlist2 = [10, 20, 30]\n",
    "newlist2*3"
   ]
  },
  {
   "cell_type": "code",
   "execution_count": 48,
   "id": "c4f15fc3",
   "metadata": {},
   "outputs": [],
   "source": [
    "# sort the list object in ascending order\n",
    "l1 = [10, 9, 8, 7, 6, 5, 4, 3, 2, 1]"
   ]
  },
  {
   "cell_type": "code",
   "execution_count": 49,
   "id": "184d7bd4",
   "metadata": {},
   "outputs": [
    {
     "name": "stdout",
     "output_type": "stream",
     "text": [
      "[1, 2, 3, 4, 5, 6, 7, 8, 9, 10]\n",
      "[10, 9, 8, 7, 6, 5, 4, 3, 2, 1]\n",
      "[1, 2, 3, 4, 5, 6, 7, 8, 9, 10]\n"
     ]
    }
   ],
   "source": [
    "print(sorted(l1))\n",
    "print(l1)\n",
    "l2 = sorted(l1)\n",
    "print(l2)"
   ]
  },
  {
   "cell_type": "code",
   "execution_count": null,
   "id": "4bfc6986",
   "metadata": {},
   "outputs": [],
   "source": [
    "l1"
   ]
  },
  {
   "cell_type": "code",
   "execution_count": 50,
   "id": "09927a0a",
   "metadata": {},
   "outputs": [
    {
     "data": {
      "text/plain": [
       "[1, 2, 3, 4, 5, 6, 7, 8, 9, 10]"
      ]
     },
     "execution_count": 50,
     "metadata": {},
     "output_type": "execute_result"
    }
   ],
   "source": [
    "#ascending order\n",
    "sorted(l1)"
   ]
  },
  {
   "cell_type": "code",
   "execution_count": 51,
   "id": "3a4702cb",
   "metadata": {},
   "outputs": [
    {
     "data": {
      "text/plain": [
       "[10, 9, 8, 7, 6, 5, 4, 3, 2, 1]"
      ]
     },
     "execution_count": 51,
     "metadata": {},
     "output_type": "execute_result"
    }
   ],
   "source": [
    "#descending order\n",
    "sorted(l1, reverse=True)"
   ]
  },
  {
   "cell_type": "code",
   "execution_count": 52,
   "id": "3efd39a0",
   "metadata": {},
   "outputs": [
    {
     "data": {
      "text/plain": [
       "[1, 2, 3, 4, 5, 6, 7, 8, 9, 10]"
      ]
     },
     "execution_count": 52,
     "metadata": {},
     "output_type": "execute_result"
    }
   ],
   "source": [
    "l1.sort()\n",
    "l1"
   ]
  },
  {
   "cell_type": "code",
   "execution_count": 53,
   "id": "a204a1f8",
   "metadata": {},
   "outputs": [
    {
     "data": {
      "text/plain": [
       "[10, 9, 8, 7, 6, 5, 4, 3, 2, 1]"
      ]
     },
     "execution_count": 53,
     "metadata": {},
     "output_type": "execute_result"
    }
   ],
   "source": [
    "l1.sort(reverse=True)\n",
    "l1"
   ]
  },
  {
   "cell_type": "code",
   "execution_count": 1,
   "id": "85ba673d",
   "metadata": {},
   "outputs": [],
   "source": [
    "# Copy one list from the other list (or) creating a list from existing list by using '=' (or) copy() method\n",
    "ls1=[1,2,5,2,1,3,2,10]\n",
    "#create newlist from ls9."
   ]
  },
  {
   "cell_type": "code",
   "execution_count": 2,
   "id": "620f4371",
   "metadata": {},
   "outputs": [],
   "source": [
    "ls2 = ls1\n",
    "ls3 = ls1.copy()"
   ]
  },
  {
   "cell_type": "code",
   "execution_count": 3,
   "id": "9b7bedb0",
   "metadata": {},
   "outputs": [
    {
     "name": "stdout",
     "output_type": "stream",
     "text": [
      "2248025387200\n",
      "2248025387200\n",
      "2248025387584\n"
     ]
    }
   ],
   "source": [
    "print(id(ls1))\n",
    "print(id(ls2))\n",
    "print(id(ls3))"
   ]
  },
  {
   "cell_type": "code",
   "execution_count": 5,
   "id": "77440f90",
   "metadata": {},
   "outputs": [
    {
     "name": "stdout",
     "output_type": "stream",
     "text": [
      "[1, 2, 5, 2, 1, 3, 2, 10]\n",
      "[1, 2, 5, 2, 1, 3, 2, 10]\n",
      "[1, 2, 5, 2, 1, 3, 2, 10]\n"
     ]
    }
   ],
   "source": [
    "print(ls1)\n",
    "print(ls2)\n",
    "print(ls3)"
   ]
  },
  {
   "cell_type": "code",
   "execution_count": 60,
   "id": "69cca7b4",
   "metadata": {},
   "outputs": [
    {
     "name": "stdout",
     "output_type": "stream",
     "text": [
      "[100, 2, 5, 2, 1, 3, 2, 10]\n",
      "[100, 2, 5, 2, 1, 3, 2, 10]\n",
      "[1, 2, 5, 2, 1, 3, 2, 10]\n"
     ]
    }
   ],
   "source": [
    "ls1[0] = 100\n",
    "print(ls1)\n",
    "print(ls2)\n",
    "print(ls3)"
   ]
  },
  {
   "cell_type": "code",
   "execution_count": 6,
   "id": "4211456b",
   "metadata": {},
   "outputs": [
    {
     "name": "stdout",
     "output_type": "stream",
     "text": [
      "[1, 4, 9, 16, 25]\n"
     ]
    }
   ],
   "source": [
    "l1 = [1, 2, 3, 4, 5]\n",
    "# prepare l2 containing squares of elements of l1\n",
    "# expected output -- > l2 = [1, 4, 9, 16, 25]\n",
    "\n",
    "l2 = []\n",
    "for item in l1:\n",
    "    l2.append(item*item)\n",
    "print(l2)"
   ]
  },
  {
   "cell_type": "code",
   "execution_count": null,
   "id": "081bc98d",
   "metadata": {},
   "outputs": [],
   "source": [
    "#List comprehension\n",
    "# one line expression of for loop"
   ]
  },
  {
   "cell_type": "code",
   "execution_count": null,
   "id": "5333507b",
   "metadata": {},
   "outputs": [],
   "source": [
    "l1 = [10, 20, 30, 40, 50]\n",
    "\n",
    "# method 1\n",
    "for item in l1:\n",
    "    print(item)\n",
    "    \n",
    "print()\n",
    "\n",
    "# method 2\n",
    "for idx in range(len(l1)):\n",
    "    print(l1[idx])"
   ]
  },
  {
   "cell_type": "code",
   "execution_count": null,
   "id": "11ebb6fb",
   "metadata": {},
   "outputs": [],
   "source": [
    "a=[1,2,3,4]\n",
    "#list of square of elements of a\n",
    "#for loop\n",
    "b = []\n",
    "for i in a:\n",
    "    b.append(i**2)\n",
    "print(b)"
   ]
  },
  {
   "cell_type": "code",
   "execution_count": null,
   "id": "b41d298d",
   "metadata": {},
   "outputs": [],
   "source": [
    "#list comprehension : syntax: [expression for if]\n",
    "a = [1, 2, 3, 4, 5]\n",
    "b1 = [i**2 for i in a]\n",
    "b1"
   ]
  },
  {
   "cell_type": "code",
   "execution_count": null,
   "id": "675fce2c",
   "metadata": {},
   "outputs": [],
   "source": [
    "l1 = [1, 2, 3, 4, 5]\n",
    "# prepare l2 containing squares of elements of l1 (using list comperhesion)\n",
    "l2 = [item*item for item in l1]\n",
    "l2"
   ]
  },
  {
   "cell_type": "code",
   "execution_count": 8,
   "id": "f31f806c",
   "metadata": {},
   "outputs": [
    {
     "name": "stdout",
     "output_type": "stream",
     "text": [
      "[2, 4, 6, 8, 10]\n",
      "[2, 4, 6, 8, 10]\n"
     ]
    }
   ],
   "source": [
    "# prepare a list object consisting of even numbers from existing list\n",
    "# sample input [1, 2, 3, 4, 5, 6, 7, 8, 9, 10]\n",
    "# sample output [2, 4, 6, 8, 10]\n",
    "\n",
    "# using for loop\n",
    "l1 = [1, 2, 3, 4, 5, 6, 7, 8, 9, 10]\n",
    "l2 = []\n",
    "for item in l1:\n",
    "    if item % 2 == 0:\n",
    "        l2.append(item)\n",
    "print(l2)\n",
    "\n",
    "# using list comperhesion\n",
    "l2 = [i for i in l1 if i % 2 == 0]\n",
    "print(l2)\n",
    "\n",
    "\n"
   ]
  },
  {
   "cell_type": "code",
   "execution_count": null,
   "id": "1efb5a88",
   "metadata": {},
   "outputs": [],
   "source": [
    "l1 = [100, 20, 40, 60, 35, 73, 98, 200, 22, 61]\n",
    "# prepare l2 consisting of all those elements from l1 which are greater than 50\n",
    "\n",
    "l2 = []\n",
    "for item in l1:\n",
    "    if item > 50:\n",
    "        l2.append(item)\n",
    "print(l2)\n",
    "\n",
    "\n",
    "l2 = [item for item in l1 if item > 50]\n",
    "print(l2)"
   ]
  },
  {
   "cell_type": "code",
   "execution_count": null,
   "id": "89ff1c38",
   "metadata": {},
   "outputs": [],
   "source": [
    "l1 = [10,20,30,40,50,60,709,80,90, 100]\n",
    "z = [i for i in l1 if i>50]\n",
    "\n",
    "z"
   ]
  },
  {
   "cell_type": "code",
   "execution_count": null,
   "id": "7902a055",
   "metadata": {},
   "outputs": [],
   "source": [
    "cities=['Delhi','Pune','Chennai','Bangalore','Hyd']"
   ]
  },
  {
   "cell_type": "code",
   "execution_count": null,
   "id": "b3d11506",
   "metadata": {},
   "outputs": [],
   "source": [
    "# create a list of elements which has length greater than 6 \n",
    "# using for loop\n",
    "\n",
    "big_cities = []\n",
    "for city in cities:\n",
    "    if len(city) > 6:\n",
    "        big_cities.append(city)\n",
    "print(big_cities)"
   ]
  },
  {
   "cell_type": "code",
   "execution_count": null,
   "id": "d969c67d",
   "metadata": {},
   "outputs": [],
   "source": [
    "# using list comprehension\n",
    "\n",
    "big_cities = []\n",
    "big_cities = [i for i in cities if len(i) > 6]\n",
    "print(big_cities)"
   ]
  },
  {
   "cell_type": "code",
   "execution_count": null,
   "id": "587102a5",
   "metadata": {},
   "outputs": [],
   "source": [
    "L=[10, 20, 30]\n",
    "# Add value 5 to each element in the list\n",
    "L2 = [i + 5 for i in L]\n",
    "L2"
   ]
  },
  {
   "cell_type": "code",
   "execution_count": null,
   "id": "74134009",
   "metadata": {},
   "outputs": [],
   "source": [
    "# Create a list of elements which is greater than 15 in the given list L\n",
    "L3 = [i for i in L if i > 15]\n",
    "L3"
   ]
  },
  {
   "cell_type": "code",
   "execution_count": null,
   "id": "c1a94998",
   "metadata": {},
   "outputs": [],
   "source": [
    "# Addition of two lists L1 and L2\n",
    "l1 = [1, 2, 3, 4, 5]\n",
    "l2 = [6, 7, 8, 9, 10, 12, 13]\n",
    "l3 = []\n",
    "\n",
    "l1_size = len(l1)\n",
    "l2_size = len(l2)\n",
    "\n",
    "max_len = max(l1_size, l2_size)\n",
    "\n",
    "for i in range(len(l1)):\n",
    "    l3.append(l1[i] + l2[i])\n",
    "print(l3)\n",
    "\n",
    "\n",
    "l3 = [l1[i] + l2[i] for i in range(len(l1))]\n",
    "print(l3)\n",
    "\n",
    "\n"
   ]
  },
  {
   "cell_type": "code",
   "execution_count": null,
   "id": "368be150",
   "metadata": {},
   "outputs": [],
   "source": [
    "l1 = [1,2,3,4,5]\n",
    "l2 = [1,2,3,4,5]\n",
    "l3 = [1,2,3,4,5]\n",
    "\n",
    "collection = [l1,l2,l3]\n",
    "\n",
    "final_list = []\n",
    "for i in range(len(l1)):\n",
    "    num = 0\n",
    "    for lis in collection:\n",
    "        num = num + lis[i]\n",
    "    final_list.append(num)\n",
    "final_list"
   ]
  },
  {
   "cell_type": "code",
   "execution_count": null,
   "id": "fe028c45",
   "metadata": {},
   "outputs": [],
   "source": [
    "l1 = [1, 2, 3, 4, 5]\n",
    "l2 = [10, 20, 30]\n",
    "\n",
    "biggest_list_len = max(len(l1), len(l2))\n",
    "\n",
    "for l in (l1, l2):\n",
    "    l.extend([0] * (biggest_list_len - len(l)))\n",
    "\n",
    "print(l1)\n",
    "print(l2)\n",
    "    "
   ]
  },
  {
   "cell_type": "code",
   "execution_count": null,
   "id": "b02c39f5",
   "metadata": {},
   "outputs": [],
   "source": [
    "l1 = [1,2,3]\n",
    "l1 = l1 + [0]*3\n",
    "l1\n"
   ]
  },
  {
   "cell_type": "code",
   "execution_count": null,
   "id": "04ed4b7f",
   "metadata": {},
   "outputs": [],
   "source": [
    "# using for loop\n",
    "\n",
    "for x in range(0,len(L1)):\n",
    "    L3.append(L1[x] + L2[x])\n",
    "print(L3)"
   ]
  },
  {
   "cell_type": "code",
   "execution_count": null,
   "id": "9f0a4847",
   "metadata": {},
   "outputs": [],
   "source": [
    "# using list comprehension\n",
    "\n",
    "L4 = []\n",
    "L4 = [L1[x] + L2[x] for x in range(len(L1))]\n",
    "print(L4)"
   ]
  },
  {
   "cell_type": "code",
   "execution_count": null,
   "id": "a39ae63f",
   "metadata": {},
   "outputs": [],
   "source": [
    "## accepting values from user and preparing a list from them\n",
    "\n",
    "l1 = list()\n",
    "count = int(input('How many elements into the list: '))\n",
    "for i in range(count):\n",
    "    item = int(input('Enter an element: '))\n",
    "    l1.append(item)\n",
    "l1"
   ]
  },
  {
   "cell_type": "code",
   "execution_count": null,
   "id": "cf490008",
   "metadata": {},
   "outputs": [],
   "source": [
    "l1 = [10, 20, 30, 40, 50]\n",
    "l2 = [1, 2, 3, 4, 5, 6, 7]\n",
    "\n",
    "if len(l1) < len(l2):\n",
    "    l1.extend([0]*(len(l2) - len(l1)))\n",
    "else:\n",
    "    len(l1) > len(l2)\n",
    "    l2.extend([0]*(len(l1) - len(l2)))\n",
    "\n",
    "l3 = [l1[i]+l2[i] for i in range(len(l1))]\n",
    "l3"
   ]
  },
  {
   "cell_type": "markdown",
   "id": "68ce9949",
   "metadata": {},
   "source": [
    "### Tuple\n",
    "\n",
    "- A tuple is a sequence of items\n",
    "- tuple is created by using () or tuple()\n",
    "- tuple contains mixed data type\n",
    "- tuples are immutable\n",
    "- tuples are iterable"
   ]
  },
  {
   "cell_type": "code",
   "execution_count": 9,
   "id": "79692679",
   "metadata": {},
   "outputs": [
    {
     "name": "stdout",
     "output_type": "stream",
     "text": [
      "<class 'tuple'>\n",
      "<class 'tuple'>\n"
     ]
    }
   ],
   "source": [
    "# empty tuple object\n",
    "t1 = ()\n",
    "t2 = tuple()\n",
    "print(type(t1))\n",
    "print(type(t2))"
   ]
  },
  {
   "cell_type": "code",
   "execution_count": 10,
   "id": "53f28503",
   "metadata": {},
   "outputs": [],
   "source": [
    "t3 = (1, 2, 3, 4, 5)"
   ]
  },
  {
   "cell_type": "code",
   "execution_count": 11,
   "id": "26bc8778",
   "metadata": {},
   "outputs": [
    {
     "data": {
      "text/plain": [
       "tuple"
      ]
     },
     "execution_count": 11,
     "metadata": {},
     "output_type": "execute_result"
    }
   ],
   "source": [
    "type(t3)"
   ]
  },
  {
   "cell_type": "code",
   "execution_count": 12,
   "id": "208a15bc",
   "metadata": {},
   "outputs": [
    {
     "data": {
      "text/plain": [
       "5"
      ]
     },
     "execution_count": 12,
     "metadata": {},
     "output_type": "execute_result"
    }
   ],
   "source": [
    "len(t3)"
   ]
  },
  {
   "cell_type": "code",
   "execution_count": 18,
   "id": "508d68b4",
   "metadata": {},
   "outputs": [
    {
     "name": "stdout",
     "output_type": "stream",
     "text": [
      "<class 'tuple'>\n"
     ]
    }
   ],
   "source": [
    "t1 = (10,)\n",
    "print(type(t1))"
   ]
  },
  {
   "cell_type": "code",
   "execution_count": 19,
   "id": "fe19c1eb",
   "metadata": {},
   "outputs": [
    {
     "data": {
      "text/plain": [
       "4"
      ]
     },
     "execution_count": 19,
     "metadata": {},
     "output_type": "execute_result"
    }
   ],
   "source": [
    "# extract '4' from t3\n",
    "t3[3]"
   ]
  },
  {
   "cell_type": "code",
   "execution_count": 20,
   "id": "85ba0dbe",
   "metadata": {},
   "outputs": [
    {
     "name": "stdout",
     "output_type": "stream",
     "text": [
      "(1, 2, 3, 10, 20, 30)\n"
     ]
    }
   ],
   "source": [
    "t1 = (1, 2, 3)\n",
    "t2 = (10, 20, 30)\n",
    "t3 = t1 + t2\n",
    "print(t3)"
   ]
  },
  {
   "cell_type": "code",
   "execution_count": 21,
   "id": "4e887619",
   "metadata": {},
   "outputs": [
    {
     "name": "stdout",
     "output_type": "stream",
     "text": [
      "1\n",
      "2\n",
      "3\n",
      "10\n",
      "20\n",
      "30\n"
     ]
    }
   ],
   "source": [
    "#for loop\n",
    "for i in t3:\n",
    "    print(i)"
   ]
  },
  {
   "cell_type": "code",
   "execution_count": 22,
   "id": "3d7f2ab3",
   "metadata": {},
   "outputs": [
    {
     "name": "stdout",
     "output_type": "stream",
     "text": [
      "2 5\n",
      "(2, 5)\n"
     ]
    }
   ],
   "source": [
    "t1 = (1, 2, 3, 4, 5, 6, 7, 8, 9, 10)\n",
    "print(t1[1], t1[4])\n",
    "a = t1[1], t1[4]\n",
    "print(a)\n",
    "# print(b)"
   ]
  },
  {
   "cell_type": "code",
   "execution_count": 23,
   "id": "b5ffc49f",
   "metadata": {},
   "outputs": [
    {
     "ename": "TypeError",
     "evalue": "'tuple' object does not support item assignment",
     "output_type": "error",
     "traceback": [
      "\u001b[1;31m---------------------------------------------------------------------------\u001b[0m",
      "\u001b[1;31mTypeError\u001b[0m                                 Traceback (most recent call last)",
      "\u001b[1;32m~\\AppData\\Local\\Temp\\ipykernel_7448\\1457346514.py\u001b[0m in \u001b[0;36m<module>\u001b[1;34m\u001b[0m\n\u001b[0;32m      1\u001b[0m \u001b[1;31m# immutable\u001b[0m\u001b[1;33m\u001b[0m\u001b[1;33m\u001b[0m\u001b[0m\n\u001b[1;32m----> 2\u001b[1;33m \u001b[0mt1\u001b[0m\u001b[1;33m[\u001b[0m\u001b[1;36m0\u001b[0m\u001b[1;33m]\u001b[0m \u001b[1;33m=\u001b[0m \u001b[1;36m300\u001b[0m\u001b[1;33m\u001b[0m\u001b[1;33m\u001b[0m\u001b[0m\n\u001b[0m",
      "\u001b[1;31mTypeError\u001b[0m: 'tuple' object does not support item assignment"
     ]
    }
   ],
   "source": [
    "# immutable\n",
    "t1[0] = 300"
   ]
  },
  {
   "cell_type": "code",
   "execution_count": 24,
   "id": "c0b5049f",
   "metadata": {},
   "outputs": [
    {
     "ename": "TypeError",
     "evalue": "'tuple' object doesn't support item deletion",
     "output_type": "error",
     "traceback": [
      "\u001b[1;31m---------------------------------------------------------------------------\u001b[0m",
      "\u001b[1;31mTypeError\u001b[0m                                 Traceback (most recent call last)",
      "\u001b[1;32m~\\AppData\\Local\\Temp\\ipykernel_7448\\2661958664.py\u001b[0m in \u001b[0;36m<module>\u001b[1;34m\u001b[0m\n\u001b[1;32m----> 1\u001b[1;33m \u001b[1;32mdel\u001b[0m \u001b[0mt1\u001b[0m\u001b[1;33m[\u001b[0m\u001b[1;36m0\u001b[0m\u001b[1;33m]\u001b[0m\u001b[1;33m\u001b[0m\u001b[1;33m\u001b[0m\u001b[0m\n\u001b[0m",
      "\u001b[1;31mTypeError\u001b[0m: 'tuple' object doesn't support item deletion"
     ]
    }
   ],
   "source": [
    "del t1[0]"
   ]
  },
  {
   "cell_type": "code",
   "execution_count": 25,
   "id": "9b7a1829",
   "metadata": {},
   "outputs": [],
   "source": [
    "# delete tuple object \n",
    "del t1"
   ]
  },
  {
   "cell_type": "code",
   "execution_count": 26,
   "id": "98fada53",
   "metadata": {},
   "outputs": [
    {
     "ename": "NameError",
     "evalue": "name 't1' is not defined",
     "output_type": "error",
     "traceback": [
      "\u001b[1;31m---------------------------------------------------------------------------\u001b[0m",
      "\u001b[1;31mNameError\u001b[0m                                 Traceback (most recent call last)",
      "\u001b[1;32m~\\AppData\\Local\\Temp\\ipykernel_7448\\4049120967.py\u001b[0m in \u001b[0;36m<module>\u001b[1;34m\u001b[0m\n\u001b[0;32m      1\u001b[0m \u001b[1;31m# does not exist\u001b[0m\u001b[1;33m\u001b[0m\u001b[1;33m\u001b[0m\u001b[0m\n\u001b[1;32m----> 2\u001b[1;33m \u001b[0mt1\u001b[0m\u001b[1;33m\u001b[0m\u001b[1;33m\u001b[0m\u001b[0m\n\u001b[0m",
      "\u001b[1;31mNameError\u001b[0m: name 't1' is not defined"
     ]
    }
   ],
   "source": [
    "# does not exist\n",
    "t1"
   ]
  },
  {
   "cell_type": "code",
   "execution_count": 27,
   "id": "428c5c7d",
   "metadata": {},
   "outputs": [
    {
     "data": {
      "text/plain": [
       "'ab'"
      ]
     },
     "execution_count": 27,
     "metadata": {},
     "output_type": "execute_result"
    }
   ],
   "source": [
    "# tuple with different types of values\n",
    "t1 = (1, 2, [10, 20, 30], 4, 5, 'abc')\n",
    "t1[5][:2]"
   ]
  },
  {
   "cell_type": "code",
   "execution_count": 28,
   "id": "31eaa505",
   "metadata": {},
   "outputs": [
    {
     "name": "stdout",
     "output_type": "stream",
     "text": [
      "(1, 2, [10, 20, 300], 4, 5, 'abc')\n"
     ]
    }
   ],
   "source": [
    "t1[2][2] = 300\n",
    "print(t1)"
   ]
  },
  {
   "cell_type": "code",
   "execution_count": 29,
   "id": "310085cc",
   "metadata": {},
   "outputs": [
    {
     "name": "stdout",
     "output_type": "stream",
     "text": [
      "(1, 2, [10, 20, 300], 4, 5, 'abc')\n",
      "[1, 2, [10, 20, 300], 4, 5, 'abc']\n",
      "<class 'list'>\n"
     ]
    }
   ],
   "source": [
    "# converting tuple into list\n",
    "l1 = list(t1)\n",
    "print(t1)\n",
    "print(l1)\n",
    "print(type(l1))"
   ]
  },
  {
   "cell_type": "code",
   "execution_count": null,
   "id": "cf89a46d",
   "metadata": {},
   "outputs": [],
   "source": [
    "# converting list into tuple\n",
    "tup = tuple(l1)\n",
    "print(l1)\n",
    "print(tup)\n",
    "print(type(tup))"
   ]
  },
  {
   "cell_type": "code",
   "execution_count": null,
   "id": "604646da",
   "metadata": {},
   "outputs": [],
   "source": [
    "l1[2] = tuple(l1[2])\n",
    "l1"
   ]
  },
  {
   "cell_type": "code",
   "execution_count": null,
   "id": "989d476f",
   "metadata": {},
   "outputs": [],
   "source": [
    "tup[2] = tuple(tup[2])"
   ]
  },
  {
   "cell_type": "code",
   "execution_count": 40,
   "id": "76c060ae",
   "metadata": {},
   "outputs": [
    {
     "name": "stdout",
     "output_type": "stream",
     "text": [
      "(1, 2, 3, 4, 5, 1, 1, 1, 'abc')\n",
      "('abc', 1, 1, 1, 5, 4, 3, 2, 1)\n"
     ]
    }
   ],
   "source": [
    "t1 = (1, 2, 3, 4, 5, 1, 1, 1,)\n",
    "t2 = tuple(reversed(t1))\n",
    "print(t1)\n",
    "print(t2)"
   ]
  },
  {
   "cell_type": "code",
   "execution_count": 34,
   "id": "8d0e4b2e",
   "metadata": {},
   "outputs": [
    {
     "data": {
      "text/plain": [
       "4"
      ]
     },
     "execution_count": 34,
     "metadata": {},
     "output_type": "execute_result"
    }
   ],
   "source": [
    "t1.count(1)"
   ]
  },
  {
   "cell_type": "code",
   "execution_count": 41,
   "id": "7458f9d7",
   "metadata": {},
   "outputs": [
    {
     "ename": "TypeError",
     "evalue": "'>' not supported between instances of 'str' and 'int'",
     "output_type": "error",
     "traceback": [
      "\u001b[1;31m---------------------------------------------------------------------------\u001b[0m",
      "\u001b[1;31mTypeError\u001b[0m                                 Traceback (most recent call last)",
      "\u001b[1;32m~\\AppData\\Local\\Temp\\ipykernel_7448\\3099455752.py\u001b[0m in \u001b[0;36m<module>\u001b[1;34m\u001b[0m\n\u001b[1;32m----> 1\u001b[1;33m \u001b[0mmax\u001b[0m\u001b[1;33m(\u001b[0m\u001b[0mt1\u001b[0m\u001b[1;33m)\u001b[0m\u001b[1;33m\u001b[0m\u001b[1;33m\u001b[0m\u001b[0m\n\u001b[0m",
      "\u001b[1;31mTypeError\u001b[0m: '>' not supported between instances of 'str' and 'int'"
     ]
    }
   ],
   "source": [
    "max(t1)"
   ]
  },
  {
   "cell_type": "code",
   "execution_count": 42,
   "id": "7bd1cf85",
   "metadata": {},
   "outputs": [
    {
     "ename": "TypeError",
     "evalue": "'<' not supported between instances of 'str' and 'int'",
     "output_type": "error",
     "traceback": [
      "\u001b[1;31m---------------------------------------------------------------------------\u001b[0m",
      "\u001b[1;31mTypeError\u001b[0m                                 Traceback (most recent call last)",
      "\u001b[1;32m~\\AppData\\Local\\Temp\\ipykernel_7448\\1277130607.py\u001b[0m in \u001b[0;36m<module>\u001b[1;34m\u001b[0m\n\u001b[1;32m----> 1\u001b[1;33m \u001b[0mmin\u001b[0m\u001b[1;33m(\u001b[0m\u001b[0mt1\u001b[0m\u001b[1;33m)\u001b[0m\u001b[1;33m\u001b[0m\u001b[1;33m\u001b[0m\u001b[0m\n\u001b[0m",
      "\u001b[1;31mTypeError\u001b[0m: '<' not supported between instances of 'str' and 'int'"
     ]
    }
   ],
   "source": [
    "min(t1)"
   ]
  },
  {
   "cell_type": "code",
   "execution_count": 43,
   "id": "9a95c056",
   "metadata": {},
   "outputs": [
    {
     "ename": "TypeError",
     "evalue": "unsupported operand type(s) for +: 'int' and 'str'",
     "output_type": "error",
     "traceback": [
      "\u001b[1;31m---------------------------------------------------------------------------\u001b[0m",
      "\u001b[1;31mTypeError\u001b[0m                                 Traceback (most recent call last)",
      "\u001b[1;32m~\\AppData\\Local\\Temp\\ipykernel_7448\\3758129980.py\u001b[0m in \u001b[0;36m<module>\u001b[1;34m\u001b[0m\n\u001b[1;32m----> 1\u001b[1;33m \u001b[0msum\u001b[0m\u001b[1;33m(\u001b[0m\u001b[0mt1\u001b[0m\u001b[1;33m)\u001b[0m\u001b[1;33m\u001b[0m\u001b[1;33m\u001b[0m\u001b[0m\n\u001b[0m",
      "\u001b[1;31mTypeError\u001b[0m: unsupported operand type(s) for +: 'int' and 'str'"
     ]
    }
   ],
   "source": [
    "sum(t1)"
   ]
  },
  {
   "cell_type": "code",
   "execution_count": 44,
   "id": "5838bc84",
   "metadata": {},
   "outputs": [
    {
     "ename": "TypeError",
     "evalue": "unsupported operand type(s) for +: 'int' and 'str'",
     "output_type": "error",
     "traceback": [
      "\u001b[1;31m---------------------------------------------------------------------------\u001b[0m",
      "\u001b[1;31mTypeError\u001b[0m                                 Traceback (most recent call last)",
      "\u001b[1;32m~\\AppData\\Local\\Temp\\ipykernel_7448\\1735107993.py\u001b[0m in \u001b[0;36m<module>\u001b[1;34m\u001b[0m\n\u001b[1;32m----> 1\u001b[1;33m \u001b[0msum\u001b[0m\u001b[1;33m(\u001b[0m\u001b[0mt1\u001b[0m\u001b[1;33m)\u001b[0m \u001b[1;33m/\u001b[0m \u001b[0mlen\u001b[0m\u001b[1;33m(\u001b[0m\u001b[0mt1\u001b[0m\u001b[1;33m)\u001b[0m\u001b[1;33m\u001b[0m\u001b[1;33m\u001b[0m\u001b[0m\n\u001b[0m",
      "\u001b[1;31mTypeError\u001b[0m: unsupported operand type(s) for +: 'int' and 'str'"
     ]
    }
   ],
   "source": [
    "sum(t1) / len(t1)"
   ]
  },
  {
   "cell_type": "markdown",
   "id": "f3069a93",
   "metadata": {},
   "source": [
    "### Dictionary"
   ]
  },
  {
   "cell_type": "markdown",
   "id": "c957b643",
   "metadata": {},
   "source": [
    "\n",
    "- A collection of unordered set of key:value pairs.\n",
    "\n",
    "- Create dictionaries by using {} or dict()\n",
    "\n",
    "- Keys are unique.\n",
    "\n",
    "- values are accessed by using keys, not by index\n",
    "\n",
    "- Dictionaries are mutable.\n",
    "\n",
    "- Dicitonaries are iterables."
   ]
  },
  {
   "cell_type": "code",
   "execution_count": 45,
   "id": "781351e0",
   "metadata": {},
   "outputs": [
    {
     "name": "stdout",
     "output_type": "stream",
     "text": [
      "<class 'dict'>\n",
      "<class 'dict'>\n"
     ]
    }
   ],
   "source": [
    "# empty dict:\n",
    "d1 = {}\n",
    "d2 = dict()\n",
    "print(type(d1))\n",
    "print(type(d2))"
   ]
  },
  {
   "cell_type": "code",
   "execution_count": 56,
   "id": "9e6efeb8",
   "metadata": {},
   "outputs": [
    {
     "data": {
      "text/plain": [
       "{'A': 'Apple', 'B': 'Ball', 'C': 'Cat'}"
      ]
     },
     "execution_count": 56,
     "metadata": {},
     "output_type": "execute_result"
    }
   ],
   "source": [
    "d1 = {'A': 'Apple', 'B':'Ball', 'C':'Cat'}\n",
    "d1"
   ]
  },
  {
   "cell_type": "code",
   "execution_count": 48,
   "id": "49b3a49d",
   "metadata": {},
   "outputs": [
    {
     "data": {
      "text/plain": [
       "dict_keys(['A', 'B', 'C'])"
      ]
     },
     "execution_count": 48,
     "metadata": {},
     "output_type": "execute_result"
    }
   ],
   "source": [
    "d1.keys()"
   ]
  },
  {
   "cell_type": "code",
   "execution_count": 49,
   "id": "bf07a54c",
   "metadata": {},
   "outputs": [
    {
     "data": {
      "text/plain": [
       "dict_values(['Apple', 'Ball', 'Cat'])"
      ]
     },
     "execution_count": 49,
     "metadata": {},
     "output_type": "execute_result"
    }
   ],
   "source": [
    "d1.values()"
   ]
  },
  {
   "cell_type": "code",
   "execution_count": 50,
   "id": "d9d04199",
   "metadata": {},
   "outputs": [
    {
     "data": {
      "text/plain": [
       "dict_items([('A', 'Apple'), ('B', 'Ball'), ('C', 'Cat')])"
      ]
     },
     "execution_count": 50,
     "metadata": {},
     "output_type": "execute_result"
    }
   ],
   "source": [
    "d1.items()"
   ]
  },
  {
   "cell_type": "code",
   "execution_count": 51,
   "id": "e026f05c",
   "metadata": {},
   "outputs": [
    {
     "data": {
      "text/plain": [
       "'Zero'"
      ]
     },
     "execution_count": 51,
     "metadata": {},
     "output_type": "execute_result"
    }
   ],
   "source": [
    "d2 = {0:'Zero', 1:'One', 3:'Three'}\n",
    "d2[0]"
   ]
  },
  {
   "cell_type": "code",
   "execution_count": 52,
   "id": "24833891",
   "metadata": {},
   "outputs": [
    {
     "ename": "KeyError",
     "evalue": "0",
     "output_type": "error",
     "traceback": [
      "\u001b[1;31m---------------------------------------------------------------------------\u001b[0m",
      "\u001b[1;31mKeyError\u001b[0m                                  Traceback (most recent call last)",
      "\u001b[1;32m~\\AppData\\Local\\Temp\\ipykernel_7448\\223821614.py\u001b[0m in \u001b[0;36m<module>\u001b[1;34m\u001b[0m\n\u001b[0;32m      1\u001b[0m \u001b[1;31m# elements can not be accessed with index (dictionary doesn't have objects)\u001b[0m\u001b[1;33m\u001b[0m\u001b[1;33m\u001b[0m\u001b[0m\n\u001b[1;32m----> 2\u001b[1;33m \u001b[0md1\u001b[0m\u001b[1;33m[\u001b[0m\u001b[1;36m0\u001b[0m\u001b[1;33m]\u001b[0m\u001b[1;33m\u001b[0m\u001b[1;33m\u001b[0m\u001b[0m\n\u001b[0m",
      "\u001b[1;31mKeyError\u001b[0m: 0"
     ]
    }
   ],
   "source": [
    "# elements can not be accessed with index (dictionary doesn't have objects)\n",
    "d1[0]"
   ]
  },
  {
   "cell_type": "code",
   "execution_count": 53,
   "id": "c125613b",
   "metadata": {},
   "outputs": [
    {
     "data": {
      "text/plain": [
       "'Apple'"
      ]
     },
     "execution_count": 53,
     "metadata": {},
     "output_type": "execute_result"
    }
   ],
   "source": [
    "# accessing dictionary element with key\n",
    "d1['A']"
   ]
  },
  {
   "cell_type": "code",
   "execution_count": 57,
   "id": "36c51e65",
   "metadata": {},
   "outputs": [
    {
     "name": "stdout",
     "output_type": "stream",
     "text": [
      "{'A': 'Apple', 'B': 'Ball', 'C': 'Cat'}\n",
      "{'A': 'Apple', 'B': 'Ball', 'C': 'Cat', 'D': 'Dog'}\n"
     ]
    }
   ],
   "source": [
    "# adding new element \n",
    "print(d1)\n",
    "d1['D'] = 'Dog'\n",
    "print(d1)"
   ]
  },
  {
   "cell_type": "code",
   "execution_count": 58,
   "id": "ec052a4a",
   "metadata": {},
   "outputs": [
    {
     "name": "stdout",
     "output_type": "stream",
     "text": [
      "{'A': 'Apple', 'B': 'Ball', 'C': 'Cat', 'D': 'Dog'}\n",
      "{'A': 'Apple', 'B': 'Ball', 'C': 'Cat', 'D': 'Donkey'}\n"
     ]
    }
   ],
   "source": [
    "# modifying existing element \n",
    "print(d1)\n",
    "d1['D'] = 'Donkey'\n",
    "print(d1)"
   ]
  },
  {
   "cell_type": "code",
   "execution_count": 60,
   "id": "9ae90ffe",
   "metadata": {},
   "outputs": [
    {
     "ename": "KeyError",
     "evalue": "'D'",
     "output_type": "error",
     "traceback": [
      "\u001b[1;31m---------------------------------------------------------------------------\u001b[0m",
      "\u001b[1;31mKeyError\u001b[0m                                  Traceback (most recent call last)",
      "\u001b[1;32m~\\AppData\\Local\\Temp\\ipykernel_7448\\3907660300.py\u001b[0m in \u001b[0;36m<module>\u001b[1;34m\u001b[0m\n\u001b[0;32m      1\u001b[0m \u001b[1;31m# remove an element\u001b[0m\u001b[1;33m\u001b[0m\u001b[1;33m\u001b[0m\u001b[0m\n\u001b[1;32m----> 2\u001b[1;33m \u001b[0md1\u001b[0m\u001b[1;33m.\u001b[0m\u001b[0mpop\u001b[0m\u001b[1;33m(\u001b[0m\u001b[1;34m'D'\u001b[0m\u001b[1;33m)\u001b[0m\u001b[1;33m\u001b[0m\u001b[1;33m\u001b[0m\u001b[0m\n\u001b[0m\u001b[0;32m      3\u001b[0m \u001b[0md1\u001b[0m\u001b[1;33m\u001b[0m\u001b[1;33m\u001b[0m\u001b[0m\n",
      "\u001b[1;31mKeyError\u001b[0m: 'D'"
     ]
    }
   ],
   "source": [
    "# remove an element\n",
    "d1.pop('D')\n",
    "d1"
   ]
  },
  {
   "cell_type": "code",
   "execution_count": 61,
   "id": "484e180e",
   "metadata": {},
   "outputs": [
    {
     "ename": "KeyError",
     "evalue": "'Apple'",
     "output_type": "error",
     "traceback": [
      "\u001b[1;31m---------------------------------------------------------------------------\u001b[0m",
      "\u001b[1;31mKeyError\u001b[0m                                  Traceback (most recent call last)",
      "\u001b[1;32m~\\AppData\\Local\\Temp\\ipykernel_7448\\2863997387.py\u001b[0m in \u001b[0;36m<module>\u001b[1;34m\u001b[0m\n\u001b[0;32m      1\u001b[0m \u001b[1;31m# not possible\u001b[0m\u001b[1;33m\u001b[0m\u001b[1;33m\u001b[0m\u001b[0m\n\u001b[1;32m----> 2\u001b[1;33m \u001b[0md1\u001b[0m\u001b[1;33m.\u001b[0m\u001b[0mpop\u001b[0m\u001b[1;33m(\u001b[0m\u001b[1;34m'Apple'\u001b[0m\u001b[1;33m)\u001b[0m\u001b[1;33m\u001b[0m\u001b[1;33m\u001b[0m\u001b[0m\n\u001b[0m\u001b[0;32m      3\u001b[0m \u001b[0md1\u001b[0m\u001b[1;33m\u001b[0m\u001b[1;33m\u001b[0m\u001b[0m\n",
      "\u001b[1;31mKeyError\u001b[0m: 'Apple'"
     ]
    }
   ],
   "source": [
    "# not possible\n",
    "d1.pop('Apple')\n",
    "d1"
   ]
  },
  {
   "cell_type": "code",
   "execution_count": 63,
   "id": "14892055",
   "metadata": {},
   "outputs": [
    {
     "name": "stdout",
     "output_type": "stream",
     "text": [
      "{'B': 'Ball', 'C': 'Cat'}\n"
     ]
    },
    {
     "ename": "KeyError",
     "evalue": "'A'",
     "output_type": "error",
     "traceback": [
      "\u001b[1;31m---------------------------------------------------------------------------\u001b[0m",
      "\u001b[1;31mKeyError\u001b[0m                                  Traceback (most recent call last)",
      "\u001b[1;32m~\\AppData\\Local\\Temp\\ipykernel_7448\\3288437904.py\u001b[0m in \u001b[0;36m<module>\u001b[1;34m\u001b[0m\n\u001b[0;32m      1\u001b[0m \u001b[1;31m# just another way\u001b[0m\u001b[1;33m\u001b[0m\u001b[1;33m\u001b[0m\u001b[0m\n\u001b[0;32m      2\u001b[0m \u001b[0mprint\u001b[0m\u001b[1;33m(\u001b[0m\u001b[0md1\u001b[0m\u001b[1;33m)\u001b[0m\u001b[1;33m\u001b[0m\u001b[1;33m\u001b[0m\u001b[0m\n\u001b[1;32m----> 3\u001b[1;33m \u001b[1;32mdel\u001b[0m \u001b[0md1\u001b[0m\u001b[1;33m[\u001b[0m\u001b[1;34m'A'\u001b[0m\u001b[1;33m]\u001b[0m\u001b[1;33m\u001b[0m\u001b[1;33m\u001b[0m\u001b[0m\n\u001b[0m\u001b[0;32m      4\u001b[0m \u001b[0mprint\u001b[0m\u001b[1;33m(\u001b[0m\u001b[0md1\u001b[0m\u001b[1;33m)\u001b[0m\u001b[1;33m\u001b[0m\u001b[1;33m\u001b[0m\u001b[0m\n",
      "\u001b[1;31mKeyError\u001b[0m: 'A'"
     ]
    }
   ],
   "source": [
    "# just another way\n",
    "print(d1)\n",
    "del d1['A']\n",
    "print(d1)"
   ]
  },
  {
   "cell_type": "code",
   "execution_count": 64,
   "id": "db1ff286",
   "metadata": {},
   "outputs": [
    {
     "data": {
      "text/plain": [
       "{}"
      ]
     },
     "execution_count": 64,
     "metadata": {},
     "output_type": "execute_result"
    }
   ],
   "source": [
    "d1.clear()\n",
    "d1"
   ]
  },
  {
   "cell_type": "code",
   "execution_count": 65,
   "id": "4bb25e66",
   "metadata": {},
   "outputs": [
    {
     "ename": "NameError",
     "evalue": "name 'd1' is not defined",
     "output_type": "error",
     "traceback": [
      "\u001b[1;31m---------------------------------------------------------------------------\u001b[0m",
      "\u001b[1;31mNameError\u001b[0m                                 Traceback (most recent call last)",
      "\u001b[1;32m~\\AppData\\Local\\Temp\\ipykernel_7448\\69199828.py\u001b[0m in \u001b[0;36m<module>\u001b[1;34m\u001b[0m\n\u001b[0;32m      1\u001b[0m \u001b[1;32mdel\u001b[0m \u001b[0md1\u001b[0m\u001b[1;33m\u001b[0m\u001b[1;33m\u001b[0m\u001b[0m\n\u001b[1;32m----> 2\u001b[1;33m \u001b[0md1\u001b[0m\u001b[1;33m\u001b[0m\u001b[1;33m\u001b[0m\u001b[0m\n\u001b[0m",
      "\u001b[1;31mNameError\u001b[0m: name 'd1' is not defined"
     ]
    }
   ],
   "source": [
    "del d1\n",
    "d1"
   ]
  },
  {
   "cell_type": "code",
   "execution_count": 66,
   "id": "5062e7e3",
   "metadata": {},
   "outputs": [
    {
     "data": {
      "text/plain": [
       "{1: 'Amit'}"
      ]
     },
     "execution_count": 66,
     "metadata": {},
     "output_type": "execute_result"
    }
   ],
   "source": [
    "d1 = {}\n",
    "d1.update({1:'Amit'})\n",
    "d1"
   ]
  },
  {
   "cell_type": "code",
   "execution_count": 67,
   "id": "8d71b706",
   "metadata": {},
   "outputs": [
    {
     "data": {
      "text/plain": [
       "{1: 'Amit', 2: 'Gopal'}"
      ]
     },
     "execution_count": 67,
     "metadata": {},
     "output_type": "execute_result"
    }
   ],
   "source": [
    "d1.update({2:'Gopal'})\n",
    "d1"
   ]
  },
  {
   "cell_type": "code",
   "execution_count": 68,
   "id": "772642f5",
   "metadata": {},
   "outputs": [
    {
     "data": {
      "text/plain": [
       "{1: 'Ajay', 2: 'Gopal'}"
      ]
     },
     "execution_count": 68,
     "metadata": {},
     "output_type": "execute_result"
    }
   ],
   "source": [
    "d1.update({1:'Ajay'})\n",
    "d1"
   ]
  },
  {
   "cell_type": "code",
   "execution_count": 69,
   "id": "91b22282",
   "metadata": {},
   "outputs": [
    {
     "data": {
      "text/plain": [
       "{1: 'Amit', 2: 'Gopal', 3: 'Rohan', 4: 'Seema', 6: 'Ajit'}"
      ]
     },
     "execution_count": 69,
     "metadata": {},
     "output_type": "execute_result"
    }
   ],
   "source": [
    "d2 = {1:'Amit', 3:'Rohan', 4:'Seema', 6:'Ajit'}\n",
    "d1.update(d2)\n",
    "d1"
   ]
  },
  {
   "cell_type": "code",
   "execution_count": 71,
   "id": "e7bddc04",
   "metadata": {},
   "outputs": [],
   "source": [
    "d4 = {1: [1, 2, [5, 6, 7]], 2: ('a', 'b', 'c') }"
   ]
  },
  {
   "cell_type": "code",
   "execution_count": 73,
   "id": "7226655e",
   "metadata": {},
   "outputs": [
    {
     "data": {
      "text/plain": [
       "[5, 6, 7]"
      ]
     },
     "execution_count": 73,
     "metadata": {},
     "output_type": "execute_result"
    }
   ],
   "source": [
    "#extract [5,6,7] from d4\n",
    "\n",
    "d4[1][2]"
   ]
  },
  {
   "cell_type": "code",
   "execution_count": 74,
   "id": "712417d1",
   "metadata": {},
   "outputs": [
    {
     "data": {
      "text/plain": [
       "6"
      ]
     },
     "execution_count": 74,
     "metadata": {},
     "output_type": "execute_result"
    }
   ],
   "source": [
    "#extract 6\n",
    "d4[1][2][1]"
   ]
  },
  {
   "cell_type": "code",
   "execution_count": 75,
   "id": "45b22e8c",
   "metadata": {},
   "outputs": [
    {
     "data": {
      "text/plain": [
       "'b'"
      ]
     },
     "execution_count": 75,
     "metadata": {},
     "output_type": "execute_result"
    }
   ],
   "source": [
    "#extract 'b'\n",
    "\n",
    "d4 = {1: [1, 2, [5, 6, 7]], 2: ('a', 'b', 'c') }\n",
    "d4[2][1]"
   ]
  },
  {
   "cell_type": "code",
   "execution_count": 78,
   "id": "4f754e21",
   "metadata": {},
   "outputs": [
    {
     "data": {
      "text/plain": [
       "'z'"
      ]
     },
     "execution_count": 78,
     "metadata": {},
     "output_type": "execute_result"
    }
   ],
   "source": [
    "d5={'one':{'el_one':[3,4,6,{'el_two':'z'}]}}\n",
    "\n",
    "# extract 'z'\n",
    "\n",
    "d5['one']['el_one'][3]['el_two']"
   ]
  },
  {
   "cell_type": "code",
   "execution_count": 79,
   "id": "46e055bb",
   "metadata": {},
   "outputs": [
    {
     "data": {
      "text/plain": [
       "'merge'"
      ]
     },
     "execution_count": 79,
     "metadata": {},
     "output_type": "execute_result"
    }
   ],
   "source": [
    "d6={'new':[9,4,5,['split','merge',10]],\n",
    "    'old':('s',17,0),\n",
    "    'mid':{'ram':4,'ravi':8}}\n",
    "\n",
    "#Extract 'merge'\n",
    "\n",
    "d6['new'][3][1]"
   ]
  },
  {
   "cell_type": "code",
   "execution_count": 81,
   "id": "1219762f",
   "metadata": {},
   "outputs": [
    {
     "data": {
      "text/plain": [
       "8"
      ]
     },
     "execution_count": 81,
     "metadata": {},
     "output_type": "execute_result"
    }
   ],
   "source": [
    "#extract 8\n",
    "\n",
    "d6['mid']['ravi']"
   ]
  },
  {
   "cell_type": "code",
   "execution_count": 87,
   "id": "bb456050",
   "metadata": {},
   "outputs": [
    {
     "name": "stdout",
     "output_type": "stream",
     "text": [
      "Apple\n",
      "Ball\n",
      "Cat\n"
     ]
    }
   ],
   "source": [
    "# iterate dictionary (for loop)\n",
    "\n",
    "d1 = {'A': 'Apple', 'B':'Ball', 'C':'Cat'}\n",
    "for var in d1.items():\n",
    "    print(d1[var[0]])"
   ]
  },
  {
   "cell_type": "code",
   "execution_count": 88,
   "id": "b952cf95",
   "metadata": {},
   "outputs": [
    {
     "name": "stdout",
     "output_type": "stream",
     "text": [
      "key is:  A\n",
      "value is:  Apple\n",
      "\n",
      "key is:  B\n",
      "value is:  Ball\n",
      "\n",
      "key is:  C\n",
      "value is:  Cat\n",
      "\n"
     ]
    }
   ],
   "source": [
    "# iterate dictionary \n",
    "\n",
    "for k, val in d1.items():\n",
    "    print('key is: ', k)\n",
    "    print('value is: ', val)\n",
    "    print()"
   ]
  },
  {
   "cell_type": "code",
   "execution_count": 90,
   "id": "751e18c5",
   "metadata": {},
   "outputs": [
    {
     "name": "stdout",
     "output_type": "stream",
     "text": [
      "Hyd\n",
      "Blr\n",
      "Mum\n"
     ]
    }
   ],
   "source": [
    "d1 = {'Hyd': 10500, 'Blr': 5600, 'Mum': 8700,\n",
    "      'Kol': 3500, 'Pun':2000, 'Del':4500}\n",
    "\n",
    "# print all those cities where employee count is greater than 5000\n",
    "\n",
    "\n",
    "# for city, emp_count in d1.items():\n",
    "#     if emp_count > 5000:\n",
    "#         print(city)\n",
    "\n",
    "cities = [key for key, value in d1.items() if value > 5000]\n",
    "cities = [key for key in d1.keys() if d1[key] > 5000]\n",
    "print(cities)"
   ]
  },
  {
   "cell_type": "code",
   "execution_count": null,
   "id": "c7b90a94",
   "metadata": {},
   "outputs": [],
   "source": [
    "# iterate dictionary \n",
    "for item in d1.items():\n",
    "    print(item[0])\n",
    "    print(item[1])\n",
    "    print()"
   ]
  },
  {
   "cell_type": "code",
   "execution_count": null,
   "id": "281eedc0",
   "metadata": {},
   "outputs": [],
   "source": [
    "# iterate dictionary on keys\n",
    "for key in d1.keys():\n",
    "    print(key)"
   ]
  },
  {
   "cell_type": "code",
   "execution_count": null,
   "id": "ef8579f8",
   "metadata": {},
   "outputs": [],
   "source": [
    "# iterate dictionary on values\n",
    "for val in d1.values():\n",
    "    print(val)"
   ]
  },
  {
   "cell_type": "code",
   "execution_count": 91,
   "id": "0006f503",
   "metadata": {},
   "outputs": [
    {
     "name": "stdout",
     "output_type": "stream",
     "text": [
      "{'A': 'Apple', 'B': 'Ball', 'C': 'Cat'}\n"
     ]
    }
   ],
   "source": [
    "d1 = {'A': 'Apple', 'B':'Ball', 'C':'Cat'}\n",
    "print(d1)"
   ]
  },
  {
   "cell_type": "code",
   "execution_count": 92,
   "id": "e0bd5821",
   "metadata": {},
   "outputs": [
    {
     "name": "stdout",
     "output_type": "stream",
     "text": [
      "Zebra\n",
      "{'A': 'Apple', 'B': 'Ball', 'C': 'Cat', 'Z': 'Zebra'}\n"
     ]
    }
   ],
   "source": [
    "# if key is not present then adds key: value pair in dictionary and returns the value\n",
    "x = d1.setdefault('Z', 'Zebra')\n",
    "print(x)\n",
    "print(d1)"
   ]
  },
  {
   "cell_type": "code",
   "execution_count": 93,
   "id": "5760d63c",
   "metadata": {},
   "outputs": [
    {
     "name": "stdout",
     "output_type": "stream",
     "text": [
      "None\n",
      "{'A': 'Apple', 'B': 'Ball', 'C': 'Cat', 'Z': 'Zebra', 'X': None}\n"
     ]
    }
   ],
   "source": [
    "# if key is present then simply returns the Corresponding value (second arg is of no any use)\n",
    "x = d1.setdefault('X')\n",
    "print(x)\n",
    "print(d1)"
   ]
  },
  {
   "cell_type": "code",
   "execution_count": 94,
   "id": "756d525f",
   "metadata": {},
   "outputs": [
    {
     "name": "stdout",
     "output_type": "stream",
     "text": [
      "Apple\n",
      "{'A': 'Apple', 'B': 'Ball', 'C': 'Cat', 'Z': 'Zebra', 'X': None}\n"
     ]
    }
   ],
   "source": [
    "# if key is present then simply returns the Corresponding value (second arg is of no any use)\n",
    "x = d1.setdefault('A', 'Ajay')\n",
    "print(x)\n",
    "print(d1)"
   ]
  },
  {
   "cell_type": "code",
   "execution_count": 95,
   "id": "69a6a309",
   "metadata": {},
   "outputs": [
    {
     "name": "stdout",
     "output_type": "stream",
     "text": [
      "Cat\n",
      "{'A': 'Apple', 'B': 'Ball', 'C': 'Cat', 'Z': 'Zebra', 'X': None}\n"
     ]
    }
   ],
   "source": [
    "# if key is present then returns the Corresponding value\n",
    "x = d1.setdefault('C')\n",
    "print(x)\n",
    "print(d1)"
   ]
  },
  {
   "cell_type": "code",
   "execution_count": null,
   "id": "945f86cf",
   "metadata": {},
   "outputs": [],
   "source": [
    "# if key is not present then returns None\n",
    "x = d1.setdefault('E')\n",
    "print(x)\n",
    "print(d1)"
   ]
  },
  {
   "cell_type": "code",
   "execution_count": 96,
   "id": "91b6ae8f",
   "metadata": {},
   "outputs": [
    {
     "name": "stdout",
     "output_type": "stream",
     "text": [
      "Apple\n"
     ]
    },
    {
     "data": {
      "text/plain": [
       "{'A': 'Apple', 'B': 'Ball', 'C': 'Cat', 'Z': 'Zebra', 'X': None}"
      ]
     },
     "execution_count": 96,
     "metadata": {},
     "output_type": "execute_result"
    }
   ],
   "source": [
    "val = d1.get('A', 'AMIT')\n",
    "print(val)\n",
    "d1"
   ]
  },
  {
   "cell_type": "code",
   "execution_count": 97,
   "id": "ae3fd2d3",
   "metadata": {},
   "outputs": [
    {
     "name": "stdout",
     "output_type": "stream",
     "text": [
      "Pravin\n"
     ]
    }
   ],
   "source": [
    "val = d1.get('P', 'Pravin')\n",
    "print(val)"
   ]
  },
  {
   "cell_type": "code",
   "execution_count": 98,
   "id": "059a7f6d",
   "metadata": {},
   "outputs": [
    {
     "data": {
      "text/plain": [
       "{'A': 'Apple', 'B': 'Ball', 'C': 'Cat', 'Z': 'Zebra', 'X': None}"
      ]
     },
     "execution_count": 98,
     "metadata": {},
     "output_type": "execute_result"
    }
   ],
   "source": [
    "d1"
   ]
  },
  {
   "cell_type": "code",
   "execution_count": 100,
   "id": "b17c8e4a",
   "metadata": {},
   "outputs": [
    {
     "name": "stdout",
     "output_type": "stream",
     "text": [
      "None\n"
     ]
    },
    {
     "data": {
      "text/plain": [
       "{'A': 'Apple', 'B': 'Ball', 'C': 'Cat', 'Z': 'Zebra', 'X': None}"
      ]
     },
     "execution_count": 100,
     "metadata": {},
     "output_type": "execute_result"
    }
   ],
   "source": [
    "val = d1.get('P')\n",
    "print(val)\n",
    "d1"
   ]
  },
  {
   "cell_type": "code",
   "execution_count": 102,
   "id": "d3f9ea78",
   "metadata": {},
   "outputs": [
    {
     "name": "stdout",
     "output_type": "stream",
     "text": [
      "not\n"
     ]
    }
   ],
   "source": [
    "if d1.get('P', 'hi'):\n",
    "    print('Present')\n",
    "else:\n",
    "    print('not')"
   ]
  },
  {
   "cell_type": "code",
   "execution_count": 113,
   "id": "f22772fd",
   "metadata": {},
   "outputs": [],
   "source": [
    "d1 = {}"
   ]
  },
  {
   "cell_type": "code",
   "execution_count": 114,
   "id": "34b9a06e",
   "metadata": {},
   "outputs": [
    {
     "data": {
      "text/plain": [
       "{1: 'one'}"
      ]
     },
     "execution_count": 114,
     "metadata": {},
     "output_type": "execute_result"
    }
   ],
   "source": [
    "d1[1] = 'one'\n",
    "d1"
   ]
  },
  {
   "cell_type": "code",
   "execution_count": 115,
   "id": "a8e45551",
   "metadata": {},
   "outputs": [
    {
     "data": {
      "text/plain": [
       "{1: 'one', 2: 'two'}"
      ]
     },
     "execution_count": 115,
     "metadata": {},
     "output_type": "execute_result"
    }
   ],
   "source": [
    "d1[2] = 'two'\n",
    "d1"
   ]
  },
  {
   "cell_type": "code",
   "execution_count": 116,
   "id": "b6fa5a87",
   "metadata": {},
   "outputs": [
    {
     "data": {
      "text/plain": [
       "{1: 'one', 2: 'two', 3: 'three'}"
      ]
     },
     "execution_count": 116,
     "metadata": {},
     "output_type": "execute_result"
    }
   ],
   "source": [
    "d1[3] = 'three'\n",
    "d1"
   ]
  },
  {
   "cell_type": "code",
   "execution_count": 117,
   "id": "6556e565",
   "metadata": {},
   "outputs": [
    {
     "ename": "TypeError",
     "evalue": "pop expected at least 1 argument, got 0",
     "output_type": "error",
     "traceback": [
      "\u001b[1;31m---------------------------------------------------------------------------\u001b[0m",
      "\u001b[1;31mTypeError\u001b[0m                                 Traceback (most recent call last)",
      "\u001b[1;32m~\\AppData\\Local\\Temp\\ipykernel_7448\\51696479.py\u001b[0m in \u001b[0;36m<module>\u001b[1;34m\u001b[0m\n\u001b[1;32m----> 1\u001b[1;33m \u001b[0md1\u001b[0m\u001b[1;33m.\u001b[0m\u001b[0mpop\u001b[0m\u001b[1;33m(\u001b[0m\u001b[1;33m)\u001b[0m \u001b[1;31m# not possible\u001b[0m\u001b[1;33m\u001b[0m\u001b[1;33m\u001b[0m\u001b[0m\n\u001b[0m",
      "\u001b[1;31mTypeError\u001b[0m: pop expected at least 1 argument, got 0"
     ]
    }
   ],
   "source": [
    "d1.pop() # not possible"
   ]
  },
  {
   "cell_type": "code",
   "execution_count": 118,
   "id": "c58a552b",
   "metadata": {},
   "outputs": [
    {
     "data": {
      "text/plain": [
       "{1: 'one', 2: 'two', 3: 'three'}"
      ]
     },
     "execution_count": 118,
     "metadata": {},
     "output_type": "execute_result"
    }
   ],
   "source": [
    "d1"
   ]
  },
  {
   "cell_type": "code",
   "execution_count": 119,
   "id": "641cad35",
   "metadata": {},
   "outputs": [
    {
     "data": {
      "text/plain": [
       "{2: 'two', 3: 'three'}"
      ]
     },
     "execution_count": 119,
     "metadata": {},
     "output_type": "execute_result"
    }
   ],
   "source": [
    "d1.pop(1)\n",
    "d1"
   ]
  },
  {
   "cell_type": "code",
   "execution_count": 120,
   "id": "dba0ae68",
   "metadata": {},
   "outputs": [
    {
     "name": "stdout",
     "output_type": "stream",
     "text": [
      "{2: 'two', 3: 'three'}\n",
      "(3, 'three')\n",
      "{2: 'two'}\n"
     ]
    }
   ],
   "source": [
    "print(d1)\n",
    "val = d1.popitem()\n",
    "print(val)\n",
    "print(d1)"
   ]
  },
  {
   "cell_type": "code",
   "execution_count": null,
   "id": "333d3068",
   "metadata": {},
   "outputs": [],
   "source": [
    "d1[1] = 'ONE'\n",
    "d1"
   ]
  },
  {
   "cell_type": "code",
   "execution_count": 121,
   "id": "65c1ab20",
   "metadata": {},
   "outputs": [
    {
     "name": "stdout",
     "output_type": "stream",
     "text": [
      "{2: 'two'}\n",
      "(2, 'two')\n",
      "{}\n"
     ]
    }
   ],
   "source": [
    "print(d1)\n",
    "val = d1.popitem()\n",
    "print(val)\n",
    "print(d1)"
   ]
  },
  {
   "cell_type": "code",
   "execution_count": 122,
   "id": "ed6f6d18",
   "metadata": {},
   "outputs": [],
   "source": [
    "d1.clear()"
   ]
  },
  {
   "cell_type": "code",
   "execution_count": 123,
   "id": "f76ca253",
   "metadata": {},
   "outputs": [
    {
     "data": {
      "text/plain": [
       "{}"
      ]
     },
     "execution_count": 123,
     "metadata": {},
     "output_type": "execute_result"
    }
   ],
   "source": [
    "d1"
   ]
  },
  {
   "cell_type": "code",
   "execution_count": 124,
   "id": "69e19824",
   "metadata": {},
   "outputs": [],
   "source": [
    "del d1"
   ]
  },
  {
   "cell_type": "code",
   "execution_count": 125,
   "id": "f40129e7",
   "metadata": {},
   "outputs": [
    {
     "ename": "NameError",
     "evalue": "name 'd1' is not defined",
     "output_type": "error",
     "traceback": [
      "\u001b[1;31m---------------------------------------------------------------------------\u001b[0m",
      "\u001b[1;31mNameError\u001b[0m                                 Traceback (most recent call last)",
      "\u001b[1;32m~\\AppData\\Local\\Temp\\ipykernel_7448\\3979698113.py\u001b[0m in \u001b[0;36m<module>\u001b[1;34m\u001b[0m\n\u001b[1;32m----> 1\u001b[1;33m \u001b[0md1\u001b[0m\u001b[1;33m\u001b[0m\u001b[1;33m\u001b[0m\u001b[0m\n\u001b[0m",
      "\u001b[1;31mNameError\u001b[0m: name 'd1' is not defined"
     ]
    }
   ],
   "source": [
    "d1"
   ]
  },
  {
   "cell_type": "code",
   "execution_count": 128,
   "id": "5503cb6c",
   "metadata": {},
   "outputs": [
    {
     "data": {
      "text/plain": [
       "{'Abhay': 150000, 'Bob': 10000, 'Chetna': 25000, 'Peter': 30000}"
      ]
     },
     "execution_count": 128,
     "metadata": {},
     "output_type": "execute_result"
    }
   ],
   "source": [
    "emp_list = ['Abhay', 'Bob', 'Chetna', 'Peter']\n",
    "sal_list = [150000, 10000, 25000, 30000]\n",
    "d1 = dict(zip(emp_list, sal_list))\n",
    "d1"
   ]
  },
  {
   "cell_type": "code",
   "execution_count": 135,
   "id": "8140f4d4",
   "metadata": {},
   "outputs": [
    {
     "data": {
      "text/plain": [
       "[5, 10, -20, 25, 30, 40, 50, -100, 100]"
      ]
     },
     "execution_count": 135,
     "metadata": {},
     "output_type": "execute_result"
    }
   ],
   "source": [
    "l1 = [10, -20, 30, 50, -100, 100, 40, 25, 5]\n",
    "# expected output [5, 10, -20, 25, 30, 40, 50, -100, 100]\n",
    "\n",
    "l1.sort(key=abs)\n",
    "l1\n"
   ]
  },
  {
   "cell_type": "code",
   "execution_count": 130,
   "id": "e0de2323",
   "metadata": {},
   "outputs": [
    {
     "data": {
      "text/plain": [
       "'Abhay'"
      ]
     },
     "execution_count": 130,
     "metadata": {},
     "output_type": "execute_result"
    }
   ],
   "source": [
    "max(d1, key=d1.get)"
   ]
  },
  {
   "cell_type": "markdown",
   "id": "a9bf4f24",
   "metadata": {},
   "source": [
    "\n",
    "### Sets"
   ]
  },
  {
   "cell_type": "markdown",
   "id": "d3e9d1f1",
   "metadata": {},
   "source": [
    "\n",
    "- Unordered sequence of elements\n",
    "\n",
    "- create set objects by using {val1, val2. val3.....} or set()\n",
    "\n",
    "- sets are mutable\n"
   ]
  },
  {
   "cell_type": "code",
   "execution_count": 136,
   "id": "90c3cf9a",
   "metadata": {},
   "outputs": [
    {
     "name": "stdout",
     "output_type": "stream",
     "text": [
      "<class 'set'>\n"
     ]
    }
   ],
   "source": [
    "# create empty set\n",
    "s1 = set()\n",
    "print(type(s1))"
   ]
  },
  {
   "cell_type": "code",
   "execution_count": 139,
   "id": "b64ccae9",
   "metadata": {},
   "outputs": [
    {
     "data": {
      "text/plain": [
       "{'Friday', 'Monday', 'Thursday', 'Tuesday', 'Wednesday'}"
      ]
     },
     "execution_count": 139,
     "metadata": {},
     "output_type": "execute_result"
    }
   ],
   "source": [
    "s3={\"Monday\",\"Tuesday\",\"Wednesday\",\"Thursday\",\"Friday\"}\n",
    "s3"
   ]
  },
  {
   "cell_type": "code",
   "execution_count": null,
   "id": "5c4732f9",
   "metadata": {},
   "outputs": [],
   "source": [
    "s4=set([\"Monday\",\"Tuesday\",\"Wednesday\",\"Thursday\",\"Friday\"])\n",
    "s4"
   ]
  },
  {
   "cell_type": "code",
   "execution_count": 140,
   "id": "7eeba8bb",
   "metadata": {},
   "outputs": [
    {
     "ename": "TypeError",
     "evalue": "set expected at most 1 argument, got 5",
     "output_type": "error",
     "traceback": [
      "\u001b[1;31m---------------------------------------------------------------------------\u001b[0m",
      "\u001b[1;31mTypeError\u001b[0m                                 Traceback (most recent call last)",
      "\u001b[1;32m~\\AppData\\Local\\Temp\\ipykernel_7448\\3783945218.py\u001b[0m in \u001b[0;36m<module>\u001b[1;34m\u001b[0m\n\u001b[1;32m----> 1\u001b[1;33m \u001b[0ms5\u001b[0m \u001b[1;33m=\u001b[0m \u001b[0mset\u001b[0m\u001b[1;33m(\u001b[0m\u001b[1;36m1\u001b[0m\u001b[1;33m,\u001b[0m \u001b[1;36m2\u001b[0m\u001b[1;33m,\u001b[0m \u001b[1;36m3\u001b[0m\u001b[1;33m,\u001b[0m \u001b[1;36m4\u001b[0m\u001b[1;33m,\u001b[0m \u001b[1;36m5\u001b[0m\u001b[1;33m)\u001b[0m\u001b[1;33m\u001b[0m\u001b[1;33m\u001b[0m\u001b[0m\n\u001b[0m",
      "\u001b[1;31mTypeError\u001b[0m: set expected at most 1 argument, got 5"
     ]
    }
   ],
   "source": [
    "s5 = set(1, 2, 3, 4, 5)"
   ]
  },
  {
   "cell_type": "code",
   "execution_count": 141,
   "id": "1b24e465",
   "metadata": {},
   "outputs": [
    {
     "data": {
      "text/plain": [
       "{1, 2, 3, 4, 5}"
      ]
     },
     "execution_count": 141,
     "metadata": {},
     "output_type": "execute_result"
    }
   ],
   "source": [
    "s5 = set((1, 2, 3, 4, 5))\n",
    "s5"
   ]
  },
  {
   "cell_type": "code",
   "execution_count": 142,
   "id": "a26ec286",
   "metadata": {},
   "outputs": [
    {
     "data": {
      "text/plain": [
       "{1, 2, 3, 4, 5}"
      ]
     },
     "execution_count": 142,
     "metadata": {},
     "output_type": "execute_result"
    }
   ],
   "source": [
    "s5 = set([1, 2, 3, 4, 5])\n",
    "s5"
   ]
  },
  {
   "cell_type": "code",
   "execution_count": 143,
   "id": "80829c2a",
   "metadata": {},
   "outputs": [
    {
     "name": "stdout",
     "output_type": "stream",
     "text": [
      "{1, 2, 3, 4, 5}\n",
      "5\n"
     ]
    }
   ],
   "source": [
    "s5 = set([1, 2, 3, 4, 5, 1, 2, 3])\n",
    "print(s5)\n",
    "print(len(s5))"
   ]
  },
  {
   "cell_type": "code",
   "execution_count": 144,
   "id": "639c1ffa",
   "metadata": {},
   "outputs": [
    {
     "data": {
      "text/plain": [
       "{1, 2, 3, 4, 5}"
      ]
     },
     "execution_count": 144,
     "metadata": {},
     "output_type": "execute_result"
    }
   ],
   "source": [
    "s5 = {1, 2, 3, 4, 5}\n",
    "s5"
   ]
  },
  {
   "cell_type": "code",
   "execution_count": 145,
   "id": "77dcf2c0",
   "metadata": {},
   "outputs": [
    {
     "name": "stdout",
     "output_type": "stream",
     "text": [
      "5\n"
     ]
    },
    {
     "data": {
      "text/plain": [
       "{1, 2, 3, 4, 5}"
      ]
     },
     "execution_count": 145,
     "metadata": {},
     "output_type": "execute_result"
    }
   ],
   "source": [
    "s5 = set([1, 1, 1, 2, 3, 4, 3, 3, 5, 4, 5])\n",
    "print(len(s5))\n",
    "s5"
   ]
  },
  {
   "cell_type": "code",
   "execution_count": 146,
   "id": "3f02939b",
   "metadata": {},
   "outputs": [
    {
     "data": {
      "text/plain": [
       "[1, 2, 3, 4, 5]"
      ]
     },
     "execution_count": 146,
     "metadata": {},
     "output_type": "execute_result"
    }
   ],
   "source": [
    "l1 = [1, 1, 1, 2, 3, 4, 3, 3, 5, 4, 5]\n",
    "l1 = list(set(l1))\n",
    "l1"
   ]
  },
  {
   "cell_type": "code",
   "execution_count": null,
   "id": "2d98ce53",
   "metadata": {},
   "outputs": [],
   "source": []
  },
  {
   "cell_type": "code",
   "execution_count": 147,
   "id": "c8190fe1",
   "metadata": {},
   "outputs": [
    {
     "data": {
      "text/plain": [
       "{1, 2, 3, 4, 5, 10}"
      ]
     },
     "execution_count": 147,
     "metadata": {},
     "output_type": "execute_result"
    }
   ],
   "source": [
    "# add element in the set s5 (one element at a time)\n",
    "s5.add(10)\n",
    "s5"
   ]
  },
  {
   "cell_type": "code",
   "execution_count": 148,
   "id": "f07f0f99",
   "metadata": {},
   "outputs": [
    {
     "data": {
      "text/plain": [
       "{1, 2, 3, 4, 5, 10}"
      ]
     },
     "execution_count": 148,
     "metadata": {},
     "output_type": "execute_result"
    }
   ],
   "source": [
    "s5.add(10)\n",
    "s5"
   ]
  },
  {
   "cell_type": "code",
   "execution_count": 149,
   "id": "4ad1aa8c",
   "metadata": {},
   "outputs": [
    {
     "ename": "TypeError",
     "evalue": "set.add() takes exactly one argument (2 given)",
     "output_type": "error",
     "traceback": [
      "\u001b[1;31m---------------------------------------------------------------------------\u001b[0m",
      "\u001b[1;31mTypeError\u001b[0m                                 Traceback (most recent call last)",
      "\u001b[1;32m~\\AppData\\Local\\Temp\\ipykernel_7448\\3774367462.py\u001b[0m in \u001b[0;36m<module>\u001b[1;34m\u001b[0m\n\u001b[1;32m----> 1\u001b[1;33m \u001b[0ms5\u001b[0m\u001b[1;33m.\u001b[0m\u001b[0madd\u001b[0m\u001b[1;33m(\u001b[0m\u001b[1;36m10\u001b[0m\u001b[1;33m,\u001b[0m \u001b[1;36m20\u001b[0m\u001b[1;33m)\u001b[0m\u001b[1;33m\u001b[0m\u001b[1;33m\u001b[0m\u001b[0m\n\u001b[0m",
      "\u001b[1;31mTypeError\u001b[0m: set.add() takes exactly one argument (2 given)"
     ]
    }
   ],
   "source": [
    "s5.add(10, 20) # not allowed"
   ]
  },
  {
   "cell_type": "code",
   "execution_count": 150,
   "id": "1e3e42c4",
   "metadata": {},
   "outputs": [
    {
     "data": {
      "text/plain": [
       "{1, 10, 2, 3, 4, 5, 'one', 'three', 'two'}"
      ]
     },
     "execution_count": 150,
     "metadata": {},
     "output_type": "execute_result"
    }
   ],
   "source": [
    "#update (for adding militple components at a time)\n",
    "s5.update(['one', 'two', 'three'])\n",
    "s5"
   ]
  },
  {
   "cell_type": "code",
   "execution_count": 156,
   "id": "e9b69e4c",
   "metadata": {},
   "outputs": [
    {
     "name": "stdout",
     "output_type": "stream",
     "text": [
      "3\n",
      "{4, 5, 'one', 10, 'two', 'three'}\n"
     ]
    }
   ],
   "source": [
    "# removing the items\n",
    "x = s5.pop()\n",
    "print(x)\n",
    "print(s5)"
   ]
  },
  {
   "cell_type": "code",
   "execution_count": 158,
   "id": "c71f106e",
   "metadata": {},
   "outputs": [
    {
     "ename": "KeyError",
     "evalue": "5",
     "output_type": "error",
     "traceback": [
      "\u001b[1;31m---------------------------------------------------------------------------\u001b[0m",
      "\u001b[1;31mKeyError\u001b[0m                                  Traceback (most recent call last)",
      "\u001b[1;32m~\\AppData\\Local\\Temp\\ipykernel_7448\\2646541261.py\u001b[0m in \u001b[0;36m<module>\u001b[1;34m\u001b[0m\n\u001b[1;32m----> 1\u001b[1;33m \u001b[0mx\u001b[0m \u001b[1;33m=\u001b[0m \u001b[0ms5\u001b[0m\u001b[1;33m.\u001b[0m\u001b[0mremove\u001b[0m\u001b[1;33m(\u001b[0m\u001b[1;36m5\u001b[0m\u001b[1;33m)\u001b[0m\u001b[1;33m\u001b[0m\u001b[1;33m\u001b[0m\u001b[0m\n\u001b[0m\u001b[0;32m      2\u001b[0m \u001b[0mprint\u001b[0m\u001b[1;33m(\u001b[0m\u001b[0ms5\u001b[0m\u001b[1;33m)\u001b[0m\u001b[1;33m\u001b[0m\u001b[1;33m\u001b[0m\u001b[0m\n\u001b[0;32m      3\u001b[0m \u001b[0mprint\u001b[0m\u001b[1;33m(\u001b[0m\u001b[0mx\u001b[0m\u001b[1;33m)\u001b[0m\u001b[1;33m\u001b[0m\u001b[1;33m\u001b[0m\u001b[0m\n",
      "\u001b[1;31mKeyError\u001b[0m: 5"
     ]
    }
   ],
   "source": [
    "x = s5.remove(5)\n",
    "print(s5)\n",
    "print(x)"
   ]
  },
  {
   "cell_type": "code",
   "execution_count": 159,
   "id": "7e2c8907",
   "metadata": {},
   "outputs": [
    {
     "ename": "KeyError",
     "evalue": "'ten'",
     "output_type": "error",
     "traceback": [
      "\u001b[1;31m---------------------------------------------------------------------------\u001b[0m",
      "\u001b[1;31mKeyError\u001b[0m                                  Traceback (most recent call last)",
      "\u001b[1;32m~\\AppData\\Local\\Temp\\ipykernel_7448\\592076407.py\u001b[0m in \u001b[0;36m<module>\u001b[1;34m\u001b[0m\n\u001b[0;32m      1\u001b[0m \u001b[1;31m# error\u001b[0m\u001b[1;33m\u001b[0m\u001b[1;33m\u001b[0m\u001b[0m\n\u001b[1;32m----> 2\u001b[1;33m \u001b[0ms5\u001b[0m\u001b[1;33m.\u001b[0m\u001b[0mremove\u001b[0m\u001b[1;33m(\u001b[0m\u001b[1;34m'ten'\u001b[0m\u001b[1;33m)\u001b[0m\u001b[1;33m\u001b[0m\u001b[1;33m\u001b[0m\u001b[0m\n\u001b[0m\u001b[0;32m      3\u001b[0m \u001b[0ms5\u001b[0m\u001b[1;33m\u001b[0m\u001b[1;33m\u001b[0m\u001b[0m\n",
      "\u001b[1;31mKeyError\u001b[0m: 'ten'"
     ]
    }
   ],
   "source": [
    "# error\n",
    "s5.remove('ten')\n",
    "s5"
   ]
  },
  {
   "cell_type": "code",
   "execution_count": null,
   "id": "ce7fe47e",
   "metadata": {},
   "outputs": [],
   "source": [
    "s5"
   ]
  },
  {
   "cell_type": "code",
   "execution_count": 160,
   "id": "8f5dfc3a",
   "metadata": {},
   "outputs": [
    {
     "name": "stdout",
     "output_type": "stream",
     "text": [
      "None\n"
     ]
    },
    {
     "data": {
      "text/plain": [
       "{10, 4, 'one', 'three', 'two'}"
      ]
     },
     "execution_count": 160,
     "metadata": {},
     "output_type": "execute_result"
    }
   ],
   "source": [
    "x = s5.discard('ten')\n",
    "print(x)\n",
    "s5"
   ]
  },
  {
   "cell_type": "code",
   "execution_count": 161,
   "id": "c2d214d2",
   "metadata": {},
   "outputs": [
    {
     "name": "stdout",
     "output_type": "stream",
     "text": [
      "None\n"
     ]
    },
    {
     "data": {
      "text/plain": [
       "{10, 4, 'one', 'three'}"
      ]
     },
     "execution_count": 161,
     "metadata": {},
     "output_type": "execute_result"
    }
   ],
   "source": [
    "x = s5.discard('two')\n",
    "print(x)\n",
    "s5"
   ]
  },
  {
   "cell_type": "code",
   "execution_count": 162,
   "id": "132e88ec",
   "metadata": {},
   "outputs": [
    {
     "data": {
      "text/plain": [
       "4"
      ]
     },
     "execution_count": 162,
     "metadata": {},
     "output_type": "execute_result"
    }
   ],
   "source": [
    "len(s5)"
   ]
  },
  {
   "cell_type": "code",
   "execution_count": 163,
   "id": "6c149f26",
   "metadata": {},
   "outputs": [
    {
     "ename": "TypeError",
     "evalue": "'set' object is not subscriptable",
     "output_type": "error",
     "traceback": [
      "\u001b[1;31m---------------------------------------------------------------------------\u001b[0m",
      "\u001b[1;31mTypeError\u001b[0m                                 Traceback (most recent call last)",
      "\u001b[1;32m~\\AppData\\Local\\Temp\\ipykernel_7448\\3286125603.py\u001b[0m in \u001b[0;36m<module>\u001b[1;34m\u001b[0m\n\u001b[0;32m      1\u001b[0m \u001b[1;31m#error\u001b[0m\u001b[1;33m\u001b[0m\u001b[1;33m\u001b[0m\u001b[0m\n\u001b[1;32m----> 2\u001b[1;33m \u001b[0ms5\u001b[0m\u001b[1;33m[\u001b[0m\u001b[1;36m0\u001b[0m\u001b[1;33m]\u001b[0m\u001b[1;33m\u001b[0m\u001b[1;33m\u001b[0m\u001b[0m\n\u001b[0m",
      "\u001b[1;31mTypeError\u001b[0m: 'set' object is not subscriptable"
     ]
    }
   ],
   "source": [
    "#error\n",
    "s5[0]"
   ]
  },
  {
   "cell_type": "code",
   "execution_count": 164,
   "id": "08819bda",
   "metadata": {},
   "outputs": [
    {
     "name": "stdout",
     "output_type": "stream",
     "text": [
      "set()\n"
     ]
    }
   ],
   "source": [
    "s5.clear()\n",
    "print(s5)"
   ]
  },
  {
   "cell_type": "code",
   "execution_count": 165,
   "id": "423d1bbe",
   "metadata": {},
   "outputs": [
    {
     "name": "stdout",
     "output_type": "stream",
     "text": [
      "[1, 2, 3, 4, 5]\n",
      "<class 'list'>\n"
     ]
    }
   ],
   "source": [
    "s5 = {1, 2, 3, 4, 5} \n",
    "l1 = list(s5)\n",
    "print(l1)\n",
    "print(type(l1))"
   ]
  },
  {
   "cell_type": "code",
   "execution_count": 166,
   "id": "acaf989f",
   "metadata": {},
   "outputs": [
    {
     "name": "stdout",
     "output_type": "stream",
     "text": [
      "(1, 2, 3, 4, 5)\n",
      "<class 'tuple'>\n"
     ]
    }
   ],
   "source": [
    "t1 = tuple(s5)\n",
    "print(t1)\n",
    "print(type(t1))"
   ]
  },
  {
   "cell_type": "markdown",
   "id": "4547c28e",
   "metadata": {},
   "source": [
    "### Set operations\n",
    "- Union\n",
    "\n",
    "- Intersection\n",
    "\n",
    "- Difference\n",
    "\n",
    "- Symmetric difference"
   ]
  },
  {
   "cell_type": "code",
   "execution_count": 167,
   "id": "848ebfb4",
   "metadata": {},
   "outputs": [
    {
     "name": "stdout",
     "output_type": "stream",
     "text": [
      "{'Tuesday', 'Wednesday', 'Thursday', 'Sunday', 'Monday'}\n",
      "{'Friday', 'Sunday', 'Saturday'}\n",
      "{'Tuesday', 'Friday', 'Wednesday', 'Saturday', 'Thursday', 'Sunday', 'Monday'}\n"
     ]
    }
   ],
   "source": [
    "#union\n",
    "Days1={'Monday',\"Tuesday\",\"Wednesday\",\"Thursday\",\"Sunday\"}\n",
    "Days2={\"Friday\",\"Saturday\",\"Sunday\"}\n",
    "Days3 = Days1.union(Days2)\n",
    "print(Days1)\n",
    "print(Days2)\n",
    "print(Days3)"
   ]
  },
  {
   "cell_type": "code",
   "execution_count": 168,
   "id": "21209f15",
   "metadata": {},
   "outputs": [
    {
     "data": {
      "text/plain": [
       "{'Sunday'}"
      ]
     },
     "execution_count": 168,
     "metadata": {},
     "output_type": "execute_result"
    }
   ],
   "source": [
    "#intersection\n",
    "Days4 = Days1.intersection(Days2)\n",
    "Days4"
   ]
  },
  {
   "cell_type": "code",
   "execution_count": 169,
   "id": "ffb58a07",
   "metadata": {},
   "outputs": [],
   "source": [
    "# difference\n",
    "A={10,20,30,40,50}\n",
    "B={100,30,50,40,60}"
   ]
  },
  {
   "cell_type": "code",
   "execution_count": 170,
   "id": "bcab2558",
   "metadata": {},
   "outputs": [
    {
     "name": "stdout",
     "output_type": "stream",
     "text": [
      "{10, 20}\n"
     ]
    }
   ],
   "source": [
    "C = A.difference(B) # A - B\n",
    "print(C)"
   ]
  },
  {
   "cell_type": "code",
   "execution_count": 171,
   "id": "42de055b",
   "metadata": {},
   "outputs": [
    {
     "name": "stdout",
     "output_type": "stream",
     "text": [
      "{100, 60}\n"
     ]
    }
   ],
   "source": [
    "D = B.difference(A)  # B - A\n",
    "print(D)"
   ]
  },
  {
   "cell_type": "code",
   "execution_count": 172,
   "id": "60ef855b",
   "metadata": {},
   "outputs": [
    {
     "data": {
      "text/plain": [
       "{10, 20, 60, 100}"
      ]
     },
     "execution_count": 172,
     "metadata": {},
     "output_type": "execute_result"
    }
   ],
   "source": [
    "# Symmetric differnce\n",
    "D = A.symmetric_difference(B)  # (A - B) + (B - A) \n",
    "D"
   ]
  },
  {
   "cell_type": "code",
   "execution_count": 173,
   "id": "53623187",
   "metadata": {},
   "outputs": [
    {
     "name": "stdout",
     "output_type": "stream",
     "text": [
      "50\n",
      "20\n",
      "40\n",
      "10\n",
      "30\n"
     ]
    }
   ],
   "source": [
    "# for loop\n",
    "for i in A:\n",
    "    print(i)"
   ]
  },
  {
   "cell_type": "code",
   "execution_count": 178,
   "id": "d055db4a",
   "metadata": {},
   "outputs": [
    {
     "name": "stdout",
     "output_type": "stream",
     "text": [
      "AAA\n",
      "{'A': 'AAA', 'B': 'BBB'}\n"
     ]
    }
   ],
   "source": [
    "d1 = {'A':'AAA', 'B':'BBB'}\n",
    "val = d1.setdefault('A')\n",
    "print(val)\n",
    "print(d1)"
   ]
  },
  {
   "cell_type": "code",
   "execution_count": 179,
   "id": "074595e8",
   "metadata": {},
   "outputs": [
    {
     "name": "stdout",
     "output_type": "stream",
     "text": [
      "AAA\n",
      "{'A': 'AAA', 'B': 'BBB'}\n"
     ]
    }
   ],
   "source": [
    "d1 = {'A':'AAA', 'B':'BBB'}\n",
    "val = d1.setdefault('A', 'Apple')\n",
    "print(val)\n",
    "print(d1)"
   ]
  },
  {
   "cell_type": "code",
   "execution_count": 181,
   "id": "c0817da3",
   "metadata": {},
   "outputs": [
    {
     "name": "stdout",
     "output_type": "stream",
     "text": [
      "None\n",
      "{'A': 'AAA', 'B': 'BBB', 'C': None}\n"
     ]
    }
   ],
   "source": [
    "d1 = {'A':'AAA', 'B':'BBB'}\n",
    "val = d1.setdefault('C')\n",
    "print(val)\n",
    "print(d1)"
   ]
  },
  {
   "cell_type": "code",
   "execution_count": 182,
   "id": "f69b4ae7",
   "metadata": {},
   "outputs": [
    {
     "name": "stdout",
     "output_type": "stream",
     "text": [
      "Dog\n",
      "{'A': 'AAA', 'B': 'BBB', 'D': 'Dog'}\n"
     ]
    }
   ],
   "source": [
    "d1 = {'A':'AAA', 'B':'BBB'}\n",
    "val = d1.setdefault('D', 'Dog')\n",
    "print(val)\n",
    "print(d1)"
   ]
  },
  {
   "cell_type": "code",
   "execution_count": 183,
   "id": "de74c5ae",
   "metadata": {},
   "outputs": [
    {
     "name": "stdout",
     "output_type": "stream",
     "text": [
      "AAA\n"
     ]
    }
   ],
   "source": [
    "d1 = {'A':'AAA', 'B':'BBB'}\n",
    "val = d1.get('A')\n",
    "print(val)"
   ]
  },
  {
   "cell_type": "code",
   "execution_count": 184,
   "id": "f70bd68b",
   "metadata": {},
   "outputs": [
    {
     "name": "stdout",
     "output_type": "stream",
     "text": [
      "None\n"
     ]
    }
   ],
   "source": [
    "d1 = {'A':'AAA', 'B':'BBB'}\n",
    "val = d1.get('C')\n",
    "print(val)"
   ]
  },
  {
   "cell_type": "code",
   "execution_count": 187,
   "id": "2d326fdd",
   "metadata": {},
   "outputs": [
    {
     "name": "stdout",
     "output_type": "stream",
     "text": [
      "Unknown\n"
     ]
    }
   ],
   "source": [
    "d1 = {'A':'AAA', 'B':'BBB'}\n",
    "val = d1.get('C', 'Unknown')\n",
    "print(val)"
   ]
  },
  {
   "cell_type": "code",
   "execution_count": 188,
   "id": "430ab4bd",
   "metadata": {},
   "outputs": [
    {
     "name": "stdout",
     "output_type": "stream",
     "text": [
      "AAA\n"
     ]
    }
   ],
   "source": [
    "d1 = {'A':'AAA', 'B':'BBB'}\n",
    "val = d1.get('A', 'Unknown')\n",
    "print(val)"
   ]
  },
  {
   "cell_type": "markdown",
   "id": "e38584cc",
   "metadata": {},
   "source": [
    "--------------------------------------------------End--------------------------------------------------------------"
   ]
  }
 ],
 "metadata": {
  "kernelspec": {
   "display_name": "Python 3 (ipykernel)",
   "language": "python",
   "name": "python3"
  },
  "language_info": {
   "codemirror_mode": {
    "name": "ipython",
    "version": 3
   },
   "file_extension": ".py",
   "mimetype": "text/x-python",
   "name": "python",
   "nbconvert_exporter": "python",
   "pygments_lexer": "ipython3",
   "version": "3.9.13"
  }
 },
 "nbformat": 4,
 "nbformat_minor": 5
}
