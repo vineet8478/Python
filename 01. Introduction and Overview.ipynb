{
 "cells": [
  {
   "cell_type": "markdown",
   "id": "8ae18d20",
   "metadata": {},
   "source": [
    "### Variables"
   ]
  },
  {
   "cell_type": "code",
   "execution_count": 6,
   "id": "7f6841fa",
   "metadata": {},
   "outputs": [
    {
     "name": "stdout",
     "output_type": "stream",
     "text": [
      "100.5\n"
     ]
    }
   ],
   "source": [
    "# create a variable\n",
    "a = '100.5'\n",
    "print(a)"
   ]
  },
  {
   "cell_type": "code",
   "execution_count": 7,
   "id": "0cef2a0e",
   "metadata": {},
   "outputs": [
    {
     "name": "stdout",
     "output_type": "stream",
     "text": [
      "Hi\n",
      "Hello\n"
     ]
    }
   ],
   "source": [
    "# every print statement prints to new line\n",
    "print('Hi')\n",
    "print('Hello')"
   ]
  },
  {
   "cell_type": "code",
   "execution_count": 8,
   "id": "4887b7a1",
   "metadata": {},
   "outputs": [
    {
     "data": {
      "text/plain": [
       "str"
      ]
     },
     "execution_count": 8,
     "metadata": {},
     "output_type": "execute_result"
    }
   ],
   "source": [
    "# check data type of a variable\n",
    "type(a)"
   ]
  },
  {
   "cell_type": "code",
   "execution_count": 10,
   "id": "755ca9cc",
   "metadata": {},
   "outputs": [],
   "source": [
    "# Assign multiple values to multiple variables\n",
    "a=5;b=4;c=7"
   ]
  },
  {
   "cell_type": "code",
   "execution_count": 11,
   "id": "1d14717e",
   "metadata": {},
   "outputs": [
    {
     "name": "stdout",
     "output_type": "stream",
     "text": [
      "5\n"
     ]
    }
   ],
   "source": [
    "# try printing a or b or c\n",
    "print(a)"
   ]
  },
  {
   "cell_type": "code",
   "execution_count": 13,
   "id": "38cdefc5",
   "metadata": {},
   "outputs": [],
   "source": [
    "# another way\n",
    "a, b, c = 10, 20, 30\n"
   ]
  },
  {
   "cell_type": "code",
   "execution_count": 14,
   "id": "c0cc9181",
   "metadata": {},
   "outputs": [
    {
     "data": {
      "text/plain": [
       "20"
      ]
     },
     "execution_count": 14,
     "metadata": {},
     "output_type": "execute_result"
    }
   ],
   "source": [
    "# try printing a or b or c\n",
    "b"
   ]
  },
  {
   "cell_type": "code",
   "execution_count": 15,
   "id": "582a4170",
   "metadata": {},
   "outputs": [],
   "source": [
    "# Assign same value to multiple variables\n",
    "a=b=c=5"
   ]
  },
  {
   "cell_type": "code",
   "execution_count": 17,
   "id": "58a36499",
   "metadata": {},
   "outputs": [
    {
     "data": {
      "text/plain": [
       "5"
      ]
     },
     "execution_count": 17,
     "metadata": {},
     "output_type": "execute_result"
    }
   ],
   "source": [
    "b"
   ]
  },
  {
   "cell_type": "code",
   "execution_count": 18,
   "id": "6a2eb105",
   "metadata": {},
   "outputs": [],
   "source": [
    "#python is case sensitive\n",
    "New=80\n",
    "new=70"
   ]
  },
  {
   "cell_type": "code",
   "execution_count": 19,
   "id": "15fe7605",
   "metadata": {},
   "outputs": [
    {
     "data": {
      "text/plain": [
       "70"
      ]
     },
     "execution_count": 19,
     "metadata": {},
     "output_type": "execute_result"
    }
   ],
   "source": [
    "new"
   ]
  },
  {
   "cell_type": "code",
   "execution_count": 20,
   "id": "a278487d",
   "metadata": {},
   "outputs": [
    {
     "data": {
      "text/plain": [
       "80"
      ]
     },
     "execution_count": 20,
     "metadata": {},
     "output_type": "execute_result"
    }
   ],
   "source": [
    "New"
   ]
  },
  {
   "cell_type": "code",
   "execution_count": 21,
   "id": "5809c04e",
   "metadata": {},
   "outputs": [
    {
     "name": "stdout",
     "output_type": "stream",
     "text": [
      "100\n",
      "1000.0\n",
      "John\n",
      "True\n",
      "(5+4j)\n"
     ]
    }
   ],
   "source": [
    "counter = 100       # An integer assignment\n",
    "miles = 1000.0      # A floating point\n",
    "name = \"John\"       # A string\n",
    "d=True\n",
    "e=5+4j\n",
    "\n",
    "\n",
    "print(counter)\n",
    "print(miles)\n",
    "print(name)\n",
    "print(d)\n",
    "print(e)"
   ]
  },
  {
   "cell_type": "code",
   "execution_count": 22,
   "id": "7666bd27",
   "metadata": {},
   "outputs": [
    {
     "name": "stdout",
     "output_type": "stream",
     "text": [
      "<class 'int'>\n",
      "<class 'float'>\n",
      "<class 'str'>\n",
      "<class 'bool'>\n",
      "<class 'complex'>\n"
     ]
    }
   ],
   "source": [
    "print(type(counter))\n",
    "print(type(miles))\n",
    "print(type(name))\n",
    "print(type(d))\n",
    "print(type(e))"
   ]
  },
  {
   "cell_type": "markdown",
   "id": "dc7041ee",
   "metadata": {},
   "source": [
    "## Keywords"
   ]
  },
  {
   "cell_type": "markdown",
   "id": "63ca60fe",
   "metadata": {},
   "source": [
    "All the keywords except True, False and None are in lowercase and they must be written as they are.\n",
    "\n",
    "The list of all the keywords is given below.\n",
    "\n",
    "False\tawait\telse\timport\tpass\n",
    "\n",
    "None\tbreak\texcept\tin\traise\n",
    "\n",
    "True\tclass\tfinally\tis\treturn\n",
    "\n",
    "and\tcontinue\tfor\tlambda\ttry\n",
    "\n",
    "as\tdef\tfrom\tnonlocal\twhile\n",
    "\n",
    "assert\tdel\tglobal\tnot\twith\n",
    "\n",
    "async\telif\tif\tor\tyield\n"
   ]
  },
  {
   "cell_type": "markdown",
   "id": "285a0319",
   "metadata": {},
   "source": [
    "## Input-Output"
   ]
  },
  {
   "cell_type": "code",
   "execution_count": 29,
   "id": "cc6dce96",
   "metadata": {},
   "outputs": [
    {
     "name": "stdout",
     "output_type": "stream",
     "text": [
      "10\n"
     ]
    }
   ],
   "source": [
    "a = 10\n",
    "print(a)"
   ]
  },
  {
   "cell_type": "code",
   "execution_count": 30,
   "id": "e93eecb9",
   "metadata": {},
   "outputs": [
    {
     "name": "stdout",
     "output_type": "stream",
     "text": [
      "The value of a is: 10\n"
     ]
    }
   ],
   "source": [
    "a = 10\n",
    "print(\"The value of a is:\",a)"
   ]
  },
  {
   "cell_type": "code",
   "execution_count": 31,
   "id": "a3cdce36",
   "metadata": {},
   "outputs": [
    {
     "name": "stdout",
     "output_type": "stream",
     "text": [
      "10 is a value of a\n"
     ]
    }
   ],
   "source": [
    "print(\"{} is a value of a\".format(a))"
   ]
  },
  {
   "cell_type": "code",
   "execution_count": null,
   "id": "d50d1dac",
   "metadata": {},
   "outputs": [],
   "source": [
    "a = 10\n",
    "b = 20\n",
    "print('{} is a value of a and {} is a value of b'.format(a,b))"
   ]
  },
  {
   "cell_type": "code",
   "execution_count": 33,
   "id": "8788bfae",
   "metadata": {},
   "outputs": [
    {
     "name": "stdout",
     "output_type": "stream",
     "text": [
      "welcome\n",
      "to all\n"
     ]
    }
   ],
   "source": [
    "print(\"welcome\")\n",
    "print(\"to all\")"
   ]
  },
  {
   "cell_type": "code",
   "execution_count": 32,
   "id": "fcc86e65",
   "metadata": {},
   "outputs": [
    {
     "name": "stdout",
     "output_type": "stream",
     "text": [
      "welcome to all\n"
     ]
    }
   ],
   "source": [
    "# with end parameter end =''\n",
    "print(\"welcome\",end=' ')\n",
    "print(\"to all\")"
   ]
  },
  {
   "cell_type": "code",
   "execution_count": 34,
   "id": "2655ae81",
   "metadata": {},
   "outputs": [
    {
     "name": "stdout",
     "output_type": "stream",
     "text": [
      "10\n"
     ]
    }
   ],
   "source": [
    "a = input()"
   ]
  },
  {
   "cell_type": "code",
   "execution_count": 35,
   "id": "a5fd01fe",
   "metadata": {},
   "outputs": [
    {
     "data": {
      "text/plain": [
       "'10'"
      ]
     },
     "execution_count": 35,
     "metadata": {},
     "output_type": "execute_result"
    }
   ],
   "source": [
    "a"
   ]
  },
  {
   "cell_type": "code",
   "execution_count": 36,
   "id": "da28ffac",
   "metadata": {},
   "outputs": [
    {
     "name": "stdout",
     "output_type": "stream",
     "text": [
      "Enter the value of a: 10\n",
      "Enter the value of b: 20\n",
      "1020\n"
     ]
    }
   ],
   "source": [
    "a=input(\"Enter the value of a: \")\n",
    "b=input(\"Enter the value of b: \")\n",
    "c=a+b\n",
    "print(c)"
   ]
  },
  {
   "cell_type": "code",
   "execution_count": 37,
   "id": "c166b9d1",
   "metadata": {},
   "outputs": [
    {
     "name": "stdout",
     "output_type": "stream",
     "text": [
      "Enter the value of a: 10\n",
      "Enter the value of b: 20\n",
      "30\n"
     ]
    }
   ],
   "source": [
    "a=int(input(\"Enter the value of a: \"))\n",
    "b=int(input(\"Enter the value of b: \"))\n",
    "c=a+b\n",
    "print(c)"
   ]
  },
  {
   "cell_type": "code",
   "execution_count": null,
   "id": "085d603f",
   "metadata": {},
   "outputs": [],
   "source": [
    "a=input(\"Enter the value of a: \")\n",
    "print(type(a))\n",
    "b=input(\"Enter the value of b: \")\n",
    "print(type(b))\n",
    "a = int(a)\n",
    "print(type(a))\n",
    "b = int(b)\n",
    "print(type(b))\n",
    "c=a+b\n",
    "print(c)"
   ]
  },
  {
   "cell_type": "code",
   "execution_count": null,
   "id": "05ed99ec",
   "metadata": {},
   "outputs": [],
   "source": [
    "# split() method to write multiple imputs in a single line\n",
    "v1=input().split(',')\n",
    "print(v1)"
   ]
  },
  {
   "cell_type": "code",
   "execution_count": null,
   "id": "f232c488",
   "metadata": {},
   "outputs": [],
   "source": [
    "type(v1)"
   ]
  },
  {
   "cell_type": "code",
   "execution_count": null,
   "id": "6ec1a3be",
   "metadata": {},
   "outputs": [],
   "source": [
    "var=input(\"enter two inputs\").split(' ')"
   ]
  },
  {
   "cell_type": "code",
   "execution_count": null,
   "id": "9474a03d",
   "metadata": {},
   "outputs": [],
   "source": [
    "var"
   ]
  },
  {
   "cell_type": "code",
   "execution_count": null,
   "id": "c6531081",
   "metadata": {},
   "outputs": [],
   "source": [
    "str1 =  \"10 20\"\n",
    "str1.split()"
   ]
  },
  {
   "cell_type": "code",
   "execution_count": null,
   "id": "5c30364b",
   "metadata": {},
   "outputs": [],
   "source": [
    "var1,var2=input().split()"
   ]
  },
  {
   "cell_type": "code",
   "execution_count": null,
   "id": "9f2d5e2e",
   "metadata": {},
   "outputs": [],
   "source": [
    "var1"
   ]
  },
  {
   "cell_type": "code",
   "execution_count": null,
   "id": "15716320",
   "metadata": {},
   "outputs": [],
   "source": [
    "var2"
   ]
  },
  {
   "cell_type": "code",
   "execution_count": null,
   "id": "c3de51f4",
   "metadata": {},
   "outputs": [],
   "source": [
    "a = input().split('a')\n",
    "a"
   ]
  },
  {
   "cell_type": "code",
   "execution_count": null,
   "id": "22eb285b",
   "metadata": {},
   "outputs": [],
   "source": [
    "#Display float number with 2 decimal places using print()\n",
    "a3=float(input())\n",
    "print(round(a3,2))"
   ]
  },
  {
   "cell_type": "markdown",
   "id": "ad983e0b",
   "metadata": {},
   "source": [
    "## Multiline Statement in Python"
   ]
  },
  {
   "cell_type": "code",
   "execution_count": 38,
   "id": "9c5d128d",
   "metadata": {},
   "outputs": [
    {
     "name": "stdout",
     "output_type": "stream",
     "text": [
      "60\n"
     ]
    }
   ],
   "source": [
    "# Statements of python ends with new line character\n",
    "#MultiLine Statement in python\n",
    "#another way of creating variable \n",
    "a,b,c=10,20,30\n",
    "\n",
    "total = a + \\\n",
    "b + \\\n",
    "c\n",
    "\n",
    "\n",
    "# total = a + b + c\n",
    "print(total)"
   ]
  },
  {
   "cell_type": "markdown",
   "id": "c3625abb",
   "metadata": {},
   "source": [
    "## Strings In Python"
   ]
  },
  {
   "cell_type": "code",
   "execution_count": 39,
   "id": "426de6ab",
   "metadata": {},
   "outputs": [
    {
     "name": "stdout",
     "output_type": "stream",
     "text": [
      "word This is a sentence. This is a paragraph.\n",
      "It is made up of multiple lines and sentences.\n"
     ]
    }
   ],
   "source": [
    "#Python accepts single ('), double (\") and triple (''' or \"\"\") quotes\n",
    "# to denote string literals, as long as the same type of quote starts and ends\n",
    "# the string.\n",
    "#The triple quotes are used to span the string across multiple lines. \n",
    "#For example, all the following are legal:\n",
    "\n",
    "\n",
    "word = 'word'\n",
    "sentence = \"This is a sentence.\"\n",
    "paragraph = \"\"\"This is a paragraph.\n",
    "It is made up of multiple lines and sentences.\"\"\"\n",
    "print(word, sentence, paragraph)"
   ]
  },
  {
   "cell_type": "code",
   "execution_count": 40,
   "id": "76b432ad",
   "metadata": {},
   "outputs": [
    {
     "name": "stdout",
     "output_type": "stream",
     "text": [
      "<class 'str'>\n",
      "<class 'str'>\n",
      "<class 'str'>\n"
     ]
    }
   ],
   "source": [
    "print(type(word))\n",
    "print(type(sentence))\n",
    "print(type(paragraph))"
   ]
  },
  {
   "cell_type": "markdown",
   "id": "1ea4617d",
   "metadata": {},
   "source": [
    "## Arithmetic Operators"
   ]
  },
  {
   "cell_type": "code",
   "execution_count": 41,
   "id": "cd79a04a",
   "metadata": {},
   "outputs": [],
   "source": [
    "a = 2\n",
    "b = 15\n",
    "c = 0"
   ]
  },
  {
   "cell_type": "code",
   "execution_count": 42,
   "id": "95ed4c4c",
   "metadata": {},
   "outputs": [
    {
     "name": "stdout",
     "output_type": "stream",
     "text": [
      "Addition of a and b is:  17\n"
     ]
    }
   ],
   "source": [
    "c = a + b\n",
    "print (\"Addition of a and b is: \", c)\n"
   ]
  },
  {
   "cell_type": "code",
   "execution_count": 43,
   "id": "870c56e1",
   "metadata": {},
   "outputs": [
    {
     "name": "stdout",
     "output_type": "stream",
     "text": [
      "Subtraction of a and b is:  -13\n"
     ]
    }
   ],
   "source": [
    "c = a - b\n",
    "print (\"Subtraction of a and b is: \", c)\n"
   ]
  },
  {
   "cell_type": "code",
   "execution_count": null,
   "id": "da4ab3b3",
   "metadata": {},
   "outputs": [],
   "source": [
    "c = a * b\n",
    "print (\"Multiplication of a and b is: \", c)\n"
   ]
  },
  {
   "cell_type": "code",
   "execution_count": null,
   "id": "fc657ea1",
   "metadata": {},
   "outputs": [],
   "source": [
    "c = a / b\n",
    "print (\"Division of a and b is: \", c)\n"
   ]
  },
  {
   "cell_type": "code",
   "execution_count": 44,
   "id": "e81d50e7",
   "metadata": {},
   "outputs": [
    {
     "name": "stdout",
     "output_type": "stream",
     "text": [
      "Division of num1 and num2 is:  15.5\n"
     ]
    }
   ],
   "source": [
    "num1 = 155\n",
    "num2 = 10\n",
    "c = num1 / num2\n",
    "print (\"Division of num1 and num2 is: \", c)"
   ]
  },
  {
   "cell_type": "code",
   "execution_count": 46,
   "id": "d302e458",
   "metadata": {},
   "outputs": [
    {
     "name": "stdout",
     "output_type": "stream",
     "text": [
      "Division of num1 and num2 is:  15\n"
     ]
    }
   ],
   "source": [
    "## floor division\n",
    "num1 = 158\n",
    "num2 = 10\n",
    "c = num1 // num2\n",
    "print (\"Division of num1 and num2 is: \", c)"
   ]
  },
  {
   "cell_type": "code",
   "execution_count": 49,
   "id": "c9ae64fd",
   "metadata": {},
   "outputs": [
    {
     "name": "stdout",
     "output_type": "stream",
     "text": [
      "Modulus of a and b is:  1\n"
     ]
    }
   ],
   "source": [
    "c = b % a\n",
    "print (\"Modulus of a and b is: \", c)\n"
   ]
  },
  {
   "cell_type": "code",
   "execution_count": 50,
   "id": "a641e2af",
   "metadata": {},
   "outputs": [
    {
     "name": "stdout",
     "output_type": "stream",
     "text": [
      "Exponent of a and b is:  100000\n"
     ]
    }
   ],
   "source": [
    "c = 10 ** 5\n",
    "print (\"Exponent of a and b is: \", c)\n"
   ]
  },
  {
   "cell_type": "code",
   "execution_count": 51,
   "id": "19118bad",
   "metadata": {},
   "outputs": [
    {
     "name": "stdout",
     "output_type": "stream",
     "text": [
      "30.5\n"
     ]
    }
   ],
   "source": [
    "# possible\n",
    "a = 10\n",
    "b = 20.5\n",
    "print(a + b)"
   ]
  },
  {
   "cell_type": "code",
   "execution_count": 52,
   "id": "03c6f30b",
   "metadata": {},
   "outputs": [
    {
     "ename": "TypeError",
     "evalue": "unsupported operand type(s) for +: 'int' and 'str'",
     "output_type": "error",
     "traceback": [
      "\u001b[1;31m---------------------------------------------------------------------------\u001b[0m",
      "\u001b[1;31mTypeError\u001b[0m                                 Traceback (most recent call last)",
      "\u001b[1;32m~\\AppData\\Local\\Temp\\ipykernel_10028\\2075100067.py\u001b[0m in \u001b[0;36m<module>\u001b[1;34m\u001b[0m\n\u001b[0;32m      2\u001b[0m \u001b[0ma\u001b[0m \u001b[1;33m=\u001b[0m \u001b[1;36m10\u001b[0m\u001b[1;33m\u001b[0m\u001b[1;33m\u001b[0m\u001b[0m\n\u001b[0;32m      3\u001b[0m \u001b[0mb\u001b[0m \u001b[1;33m=\u001b[0m \u001b[1;34m'string1'\u001b[0m\u001b[1;33m\u001b[0m\u001b[1;33m\u001b[0m\u001b[0m\n\u001b[1;32m----> 4\u001b[1;33m \u001b[0mprint\u001b[0m\u001b[1;33m(\u001b[0m\u001b[0ma\u001b[0m \u001b[1;33m+\u001b[0m \u001b[0mb\u001b[0m\u001b[1;33m)\u001b[0m\u001b[1;33m\u001b[0m\u001b[1;33m\u001b[0m\u001b[0m\n\u001b[0m",
      "\u001b[1;31mTypeError\u001b[0m: unsupported operand type(s) for +: 'int' and 'str'"
     ]
    }
   ],
   "source": [
    "# not possible\n",
    "a = 10\n",
    "b = 'string1'\n",
    "print(a + b)"
   ]
  },
  {
   "cell_type": "markdown",
   "id": "0d651dd6",
   "metadata": {},
   "source": [
    "## Indentation and comment"
   ]
  },
  {
   "cell_type": "markdown",
   "id": "f51cc045",
   "metadata": {},
   "source": [
    "It is a code block (body of a function, loop, etc.) starts with indentation.\n",
    "Generally, four whitespaces are used for indentation and are preferred over tabs.\n",
    "\n",
    "Comment: A Python comment is a line of text that appears in a program but is not executed by the program."
   ]
  },
  {
   "cell_type": "code",
   "execution_count": null,
   "id": "01c79ee5",
   "metadata": {},
   "outputs": [],
   "source": [
    "a, b = 20, 50\n",
    "if a > b:\n",
    "    print('Hi')\n",
    "print('Done')"
   ]
  },
  {
   "cell_type": "markdown",
   "id": "d89779ef",
   "metadata": {},
   "source": [
    "## Relational Operators"
   ]
  },
  {
   "cell_type": "code",
   "execution_count": 57,
   "id": "a9cb27db",
   "metadata": {},
   "outputs": [],
   "source": [
    "a = 10\n",
    "b = 10"
   ]
  },
  {
   "cell_type": "code",
   "execution_count": 56,
   "id": "d58fdd4c",
   "metadata": {},
   "outputs": [
    {
     "data": {
      "text/plain": [
       "False"
      ]
     },
     "execution_count": 56,
     "metadata": {},
     "output_type": "execute_result"
    }
   ],
   "source": [
    "a==b"
   ]
  },
  {
   "cell_type": "code",
   "execution_count": 58,
   "id": "0e6f0822",
   "metadata": {},
   "outputs": [
    {
     "name": "stdout",
     "output_type": "stream",
     "text": [
      "hi\n"
     ]
    }
   ],
   "source": [
    "if a == b:\n",
    "    print('hi')\n",
    "else:\n",
    "    print('hello')"
   ]
  },
  {
   "cell_type": "code",
   "execution_count": 59,
   "id": "9b8b5278",
   "metadata": {},
   "outputs": [
    {
     "name": "stdout",
     "output_type": "stream",
     "text": [
      "a and b are equal\n"
     ]
    }
   ],
   "source": [
    "if a == b:\n",
    "    print('a and b are equal')\n",
    "else:\n",
    "    print('they are not equal')"
   ]
  },
  {
   "cell_type": "code",
   "execution_count": null,
   "id": "bf1fac83",
   "metadata": {},
   "outputs": [],
   "source": [
    "if (a == b):\n",
    "    print (\"a is equal to b\")\n",
    "else: \n",
    "    print (\"a is not equal to b\")"
   ]
  },
  {
   "cell_type": "code",
   "execution_count": null,
   "id": "61ea63f3",
   "metadata": {},
   "outputs": [],
   "source": [
    "if ( a != b ):\n",
    "    print (\"a is not equal to b\")\n",
    "else:\n",
    "    print (\"a is equal to b\")"
   ]
  },
  {
   "cell_type": "code",
   "execution_count": null,
   "id": "36e77934",
   "metadata": {},
   "outputs": [],
   "source": [
    "if ( a < b ):\n",
    "    print (\"a is less than b\")\n",
    "else:\n",
    "    print (\"a is not less than b\")"
   ]
  },
  {
   "cell_type": "code",
   "execution_count": null,
   "id": "5c65ce45",
   "metadata": {},
   "outputs": [],
   "source": [
    "if ( a > b ):\n",
    "    print (\"a is greater than b\")\n",
    "else:\n",
    "    print (\"a is not greater than b\")"
   ]
  },
  {
   "cell_type": "code",
   "execution_count": null,
   "id": "0c10d948",
   "metadata": {},
   "outputs": [],
   "source": [
    "if ( a <= b ):\n",
    "    print (\"a is either less than or equal to b\")\n",
    "else:\n",
    "    print (\"a is neither less than nor equal to b\")"
   ]
  },
  {
   "cell_type": "code",
   "execution_count": null,
   "id": "911ed5c3",
   "metadata": {},
   "outputs": [],
   "source": [
    "if ( b >= a ):\n",
    "    print (\"b is either greater than or equal to b\")\n",
    "else:\n",
    "    print (\"b is neither greater than nor equal to b\")"
   ]
  },
  {
   "cell_type": "code",
   "execution_count": 60,
   "id": "22120aac",
   "metadata": {},
   "outputs": [
    {
     "name": "stdout",
     "output_type": "stream",
     "text": [
      "X is:  True\n",
      "Y is:  False\n"
     ]
    }
   ],
   "source": [
    "# simple demo of return value by == operator\n",
    "\n",
    "a=0\n",
    "b=10\n",
    "x=(a==0)\n",
    "y=(b==100)\n",
    "print(\"X is: \",x) \n",
    "print(\"Y is: \",y)"
   ]
  },
  {
   "cell_type": "code",
   "execution_count": 62,
   "id": "a70499ec",
   "metadata": {},
   "outputs": [
    {
     "name": "stdout",
     "output_type": "stream",
     "text": [
      "101\n"
     ]
    }
   ],
   "source": [
    "a = 100\n",
    "a = a + 1\n",
    "print(a)"
   ]
  },
  {
   "cell_type": "markdown",
   "id": "6c4c621b",
   "metadata": {},
   "source": [
    "## Logical Operators"
   ]
  },
  {
   "cell_type": "code",
   "execution_count": 63,
   "id": "151fd811",
   "metadata": {},
   "outputs": [
    {
     "name": "stdout",
     "output_type": "stream",
     "text": [
      "True\n",
      "False\n",
      "False\n",
      "None\n",
      "False\n"
     ]
    }
   ],
   "source": [
    "print(True and True)\n",
    "print(True and False)\n",
    "print(False and False)\n",
    "print(True and None)\n",
    "print(False and None)"
   ]
  },
  {
   "cell_type": "code",
   "execution_count": 64,
   "id": "bc600c97",
   "metadata": {},
   "outputs": [
    {
     "name": "stdout",
     "output_type": "stream",
     "text": [
      "True\n",
      "True\n",
      "False\n",
      "True\n",
      "None\n"
     ]
    }
   ],
   "source": [
    "print(True or True)\n",
    "print(True or False)\n",
    "print(False or False)\n",
    "print(True or None)\n",
    "print(False or None)"
   ]
  },
  {
   "cell_type": "code",
   "execution_count": 65,
   "id": "5382c79b",
   "metadata": {},
   "outputs": [
    {
     "name": "stdout",
     "output_type": "stream",
     "text": [
      "False\n",
      "True\n",
      "True\n"
     ]
    }
   ],
   "source": [
    "print(not True)\n",
    "print(not False)\n",
    "print(not None)"
   ]
  },
  {
   "cell_type": "markdown",
   "id": "4bd8ccf2",
   "metadata": {},
   "source": [
    "## Bitwise Operators"
   ]
  },
  {
   "cell_type": "code",
   "execution_count": 70,
   "id": "d061ae2c",
   "metadata": {},
   "outputs": [
    {
     "name": "stdout",
     "output_type": "stream",
     "text": [
      "0\n",
      "10\n"
     ]
    }
   ],
   "source": [
    "print(2 & 4)  ## 10 & 100  --> 000\n",
    "print(10 & 11) ## 1010 & 1011 --> 1010"
   ]
  },
  {
   "cell_type": "code",
   "execution_count": 71,
   "id": "1d6a0c88",
   "metadata": {},
   "outputs": [
    {
     "name": "stdout",
     "output_type": "stream",
     "text": [
      "7\n",
      "26\n"
     ]
    }
   ],
   "source": [
    "print(5 | 6)  ## 101 | 110 -->111\n",
    "print(10 | 16) ## 1010 & 10000 --> 11010"
   ]
  },
  {
   "cell_type": "code",
   "execution_count": 72,
   "id": "838152fe",
   "metadata": {},
   "outputs": [
    {
     "name": "stdout",
     "output_type": "stream",
     "text": [
      "-9\n"
     ]
    }
   ],
   "source": [
    "print(~8) ## ~1000 -> 11001 (-1-8)"
   ]
  },
  {
   "cell_type": "code",
   "execution_count": 73,
   "id": "93415bf7",
   "metadata": {},
   "outputs": [
    {
     "name": "stdout",
     "output_type": "stream",
     "text": [
      "3\n"
     ]
    }
   ],
   "source": [
    "print(5 ^ 6) ## 101 ^ 110 --> 011"
   ]
  },
  {
   "cell_type": "code",
   "execution_count": 76,
   "id": "59e9b74e",
   "metadata": {},
   "outputs": [
    {
     "name": "stdout",
     "output_type": "stream",
     "text": [
      "2\n"
     ]
    }
   ],
   "source": [
    "print(5>>1) ## 101 --> 0010\n"
   ]
  },
  {
   "cell_type": "code",
   "execution_count": 78,
   "id": "8918b76a",
   "metadata": {},
   "outputs": [
    {
     "name": "stdout",
     "output_type": "stream",
     "text": [
      "40\n"
     ]
    }
   ],
   "source": [
    "print(10<<2) ## 1010 --> 10100"
   ]
  },
  {
   "cell_type": "markdown",
   "id": "22a952d1",
   "metadata": {},
   "source": [
    "## Ternary Operator"
   ]
  },
  {
   "cell_type": "code",
   "execution_count": null,
   "id": "5da93acd",
   "metadata": {},
   "outputs": [],
   "source": [
    "a, b = 20, 30\n",
    "large = a if a>b else b\n",
    "print(large)"
   ]
  },
  {
   "cell_type": "markdown",
   "id": "ee300f14",
   "metadata": {},
   "source": [
    "## Membership Operators"
   ]
  },
  {
   "cell_type": "code",
   "execution_count": 79,
   "id": "87e6aa9d",
   "metadata": {},
   "outputs": [
    {
     "name": "stdout",
     "output_type": "stream",
     "text": [
      "a is present in list1\n"
     ]
    }
   ],
   "source": [
    "list1 = [1, 2, 3, 4, 5 ]\n",
    "a = 1\n",
    "if ( a in list1):\n",
    "    print (\"a is present in list1\")\n",
    "else:\n",
    "    print (\"a is not present in list1\")"
   ]
  },
  {
   "cell_type": "code",
   "execution_count": 80,
   "id": "8c3c51fc",
   "metadata": {},
   "outputs": [
    {
     "data": {
      "text/plain": [
       "True"
      ]
     },
     "execution_count": 80,
     "metadata": {},
     "output_type": "execute_result"
    }
   ],
   "source": [
    "'10' in '100'"
   ]
  },
  {
   "cell_type": "code",
   "execution_count": 81,
   "id": "16d2b6ce",
   "metadata": {},
   "outputs": [
    {
     "data": {
      "text/plain": [
       "False"
      ]
     },
     "execution_count": 81,
     "metadata": {},
     "output_type": "execute_result"
    }
   ],
   "source": [
    "'101' in '1000'"
   ]
  },
  {
   "cell_type": "code",
   "execution_count": 82,
   "id": "b428d2fa",
   "metadata": {},
   "outputs": [
    {
     "ename": "TypeError",
     "evalue": "argument of type 'int' is not iterable",
     "output_type": "error",
     "traceback": [
      "\u001b[1;31m---------------------------------------------------------------------------\u001b[0m",
      "\u001b[1;31mTypeError\u001b[0m                                 Traceback (most recent call last)",
      "\u001b[1;32m~\\AppData\\Local\\Temp\\ipykernel_10028\\3916461219.py\u001b[0m in \u001b[0;36m<module>\u001b[1;34m\u001b[0m\n\u001b[1;32m----> 1\u001b[1;33m \u001b[1;36m10\u001b[0m \u001b[1;32min\u001b[0m \u001b[1;36m100\u001b[0m\u001b[1;33m\u001b[0m\u001b[1;33m\u001b[0m\u001b[0m\n\u001b[0m",
      "\u001b[1;31mTypeError\u001b[0m: argument of type 'int' is not iterable"
     ]
    }
   ],
   "source": [
    "10 in 100"
   ]
  },
  {
   "cell_type": "code",
   "execution_count": null,
   "id": "8610d958",
   "metadata": {},
   "outputs": [],
   "source": [
    "a = 1\n",
    "if ( a in list1):\n",
    "    print (\"a is present in list1\")\n",
    "else:\n",
    "    print (\"a is not present in list1\")"
   ]
  },
  {
   "cell_type": "code",
   "execution_count": null,
   "id": "eaff2987",
   "metadata": {},
   "outputs": [],
   "source": [
    "a in list1"
   ]
  },
  {
   "cell_type": "code",
   "execution_count": null,
   "id": "71ddd11e",
   "metadata": {},
   "outputs": [],
   "source": [
    "b = 5\n",
    "if b not in list1:\n",
    "    print (\"b is not present in list1\")\n",
    "else:\n",
    "    print (\"b is present in list1\")"
   ]
  },
  {
   "cell_type": "code",
   "execution_count": null,
   "id": "310dda90",
   "metadata": {},
   "outputs": [],
   "source": [
    "b = 50\n",
    "if ( b not in list1):\n",
    "    print (\"b is not present in list1\")\n",
    "else:\n",
    "    print (\"b is present in list1\")"
   ]
  },
  {
   "cell_type": "code",
   "execution_count": 83,
   "id": "35dd8835",
   "metadata": {},
   "outputs": [
    {
     "data": {
      "text/plain": [
       "False"
      ]
     },
     "execution_count": 83,
     "metadata": {},
     "output_type": "execute_result"
    }
   ],
   "source": [
    "('d' in 'Deloitte') and ('D' in 'Deloitte')"
   ]
  },
  {
   "cell_type": "code",
   "execution_count": null,
   "id": "8672cb52",
   "metadata": {},
   "outputs": [],
   "source": [
    "# 'd' in 'deloitte' \n",
    "\n",
    "# 10 in 20\n",
    "str = 'str'\n",
    "str in 'string'"
   ]
  },
  {
   "cell_type": "markdown",
   "id": "303b889a",
   "metadata": {},
   "source": [
    "## Identity Operators"
   ]
  },
  {
   "cell_type": "code",
   "execution_count": 84,
   "id": "a55fba7b",
   "metadata": {},
   "outputs": [],
   "source": [
    "a = 20\n",
    "b = 20\n",
    "c = 200"
   ]
  },
  {
   "cell_type": "code",
   "execution_count": 85,
   "id": "ecb5d68d",
   "metadata": {},
   "outputs": [
    {
     "data": {
      "text/plain": [
       "2197738908560"
      ]
     },
     "execution_count": 85,
     "metadata": {},
     "output_type": "execute_result"
    }
   ],
   "source": [
    "id(a)"
   ]
  },
  {
   "cell_type": "code",
   "execution_count": 86,
   "id": "fdaab579",
   "metadata": {},
   "outputs": [
    {
     "data": {
      "text/plain": [
       "2197738908560"
      ]
     },
     "execution_count": 86,
     "metadata": {},
     "output_type": "execute_result"
    }
   ],
   "source": [
    "id(b)"
   ]
  },
  {
   "cell_type": "code",
   "execution_count": 87,
   "id": "2d76c688",
   "metadata": {},
   "outputs": [
    {
     "data": {
      "text/plain": [
       "2197739102864"
      ]
     },
     "execution_count": 87,
     "metadata": {},
     "output_type": "execute_result"
    }
   ],
   "source": [
    "id(c)"
   ]
  },
  {
   "cell_type": "code",
   "execution_count": 88,
   "id": "53c46c4f",
   "metadata": {},
   "outputs": [
    {
     "data": {
      "text/plain": [
       "True"
      ]
     },
     "execution_count": 88,
     "metadata": {},
     "output_type": "execute_result"
    }
   ],
   "source": [
    "a is b"
   ]
  },
  {
   "cell_type": "code",
   "execution_count": 89,
   "id": "278a0bcf",
   "metadata": {},
   "outputs": [
    {
     "data": {
      "text/plain": [
       "False"
      ]
     },
     "execution_count": 89,
     "metadata": {},
     "output_type": "execute_result"
    }
   ],
   "source": [
    "a is c"
   ]
  },
  {
   "cell_type": "code",
   "execution_count": 90,
   "id": "d13df472",
   "metadata": {},
   "outputs": [
    {
     "data": {
      "text/plain": [
       "False"
      ]
     },
     "execution_count": 90,
     "metadata": {},
     "output_type": "execute_result"
    }
   ],
   "source": [
    "a is not b"
   ]
  },
  {
   "cell_type": "code",
   "execution_count": 91,
   "id": "d4a09505",
   "metadata": {},
   "outputs": [
    {
     "data": {
      "text/plain": [
       "True"
      ]
     },
     "execution_count": 91,
     "metadata": {},
     "output_type": "execute_result"
    }
   ],
   "source": [
    "a is not c"
   ]
  },
  {
   "cell_type": "code",
   "execution_count": null,
   "id": "04c1849b",
   "metadata": {},
   "outputs": [],
   "source": [
    "if (a is b):\n",
    "    print (\"a and b are equal\")\n",
    "else:\n",
    "    print (\"a and b are not equal\")\n"
   ]
  },
  {
   "cell_type": "code",
   "execution_count": null,
   "id": "6aec7e5b",
   "metadata": {},
   "outputs": [],
   "source": [
    "if (id(a) == id(b)):\n",
    "    print (\"a and b have same identity\")\n",
    "else:\n",
    "    print (\"a and b do not have same identity\")"
   ]
  },
  {
   "cell_type": "code",
   "execution_count": null,
   "id": "69bb6221",
   "metadata": {},
   "outputs": [],
   "source": [
    "if ( a is c ):\n",
    "    print (\"a and c have same identity\")\n",
    "else:\n",
    "    print (\"a and c do not have same identity\")"
   ]
  },
  {
   "cell_type": "code",
   "execution_count": null,
   "id": "f4a0d3f3",
   "metadata": {},
   "outputs": [],
   "source": [
    "if ( a is not c ):\n",
    "    print (\"a and c do not have same identity\")\n",
    "else:\n",
    "    print (\"a and c have same identity\")"
   ]
  },
  {
   "cell_type": "code",
   "execution_count": null,
   "id": "66cd88b8",
   "metadata": {},
   "outputs": [],
   "source": [
    "l1 = [1, 2, 3]\n",
    "l2 = [1, 2, 3]\n",
    "# l2 = [3, 2, 1]\n",
    "print(l1 is l2)"
   ]
  },
  {
   "cell_type": "code",
   "execution_count": null,
   "id": "5b0b5306",
   "metadata": {},
   "outputs": [],
   "source": [
    "id(l1)"
   ]
  },
  {
   "cell_type": "code",
   "execution_count": null,
   "id": "e321884a",
   "metadata": {},
   "outputs": [],
   "source": [
    "id(l2)"
   ]
  },
  {
   "cell_type": "code",
   "execution_count": null,
   "id": "03bb4cc7",
   "metadata": {},
   "outputs": [],
   "source": [
    "s1 = {1, 2, 3}\n",
    "s2 = {1, 2, 3}\n",
    "# s2 = {3, 2, 1}\n",
    "print(s1 is s2)\n"
   ]
  },
  {
   "cell_type": "markdown",
   "id": "8f504548",
   "metadata": {},
   "source": [
    "## PRECEDENCE"
   ]
  },
  {
   "cell_type": "markdown",
   "id": "1e1bc089",
   "metadata": {},
   "source": [
    "- P – Parentheses\n",
    "- E – Exponentiation\n",
    "- M – Multiplication     (Multiplication and division have the same precedence)\n",
    "- D – Division\n",
    "- A – Addition     (Addition and subtraction have the same precedence)\n",
    "- S – Subtraction"
   ]
  },
  {
   "cell_type": "code",
   "execution_count": 92,
   "id": "3f72ed24",
   "metadata": {},
   "outputs": [],
   "source": [
    "a = (3**2 + 5 * (20/5) * 4) - 10"
   ]
  },
  {
   "cell_type": "code",
   "execution_count": 93,
   "id": "ea95599b",
   "metadata": {},
   "outputs": [
    {
     "data": {
      "text/plain": [
       "79.0"
      ]
     },
     "execution_count": 93,
     "metadata": {},
     "output_type": "execute_result"
    }
   ],
   "source": [
    "a"
   ]
  },
  {
   "cell_type": "code",
   "execution_count": null,
   "id": "499babcb",
   "metadata": {},
   "outputs": [],
   "source": []
  }
 ],
 "metadata": {
  "kernelspec": {
   "display_name": "Python 3 (ipykernel)",
   "language": "python",
   "name": "python3"
  },
  "language_info": {
   "codemirror_mode": {
    "name": "ipython",
    "version": 3
   },
   "file_extension": ".py",
   "mimetype": "text/x-python",
   "name": "python",
   "nbconvert_exporter": "python",
   "pygments_lexer": "ipython3",
   "version": "3.9.13"
  }
 },
 "nbformat": 4,
 "nbformat_minor": 5
}
