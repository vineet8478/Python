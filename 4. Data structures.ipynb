{
 "cells": [
  {
   "cell_type": "code",
   "execution_count": null,
   "id": "4e4f40b6",
   "metadata": {},
   "outputs": [],
   "source": [
    "# 1. insert 10, 20, and 100 in the below list and print the sorted list\n",
    "l1 = [1, 24, 36, 50, 60]\n",
    "\n"
   ]
  },
  {
   "cell_type": "code",
   "execution_count": null,
   "id": "fd7881e9",
   "metadata": {},
   "outputs": [],
   "source": [
    "# 2. merge below given tuples into a single list, also discard the duplicate elements \n",
    "    #and sort them in ascending order\n",
    "t1 = (10, 20, 30, 40, 50, 60, 70)\n",
    "t2 = (50, 60, 70, 80, 90, 100)\n"
   ]
  },
  {
   "cell_type": "code",
   "execution_count": null,
   "id": "7e48bef5",
   "metadata": {},
   "outputs": [],
   "source": [
    "# 3. retrieve 5 from the below list\n",
    "l1 = [1, 2, 3, 4, [1, 2, 3, [9, 5]]]"
   ]
  },
  {
   "cell_type": "code",
   "execution_count": null,
   "id": "17689f4a",
   "metadata": {},
   "outputs": [],
   "source": [
    "# 4. convert a tuple into list and print a list"
   ]
  },
  {
   "cell_type": "code",
   "execution_count": null,
   "id": "b3b07435",
   "metadata": {},
   "outputs": [],
   "source": [
    "# 5. create a new tuple by index-wise subtraction of tuples\n",
    "# sample input: \n",
    "# t1 = (10, 20, 30, 40, 50)\n",
    "# t2 = (1, 2, 3, 4, 5)\n",
    "\n",
    "# sample output\n",
    "# t3 = (9, 18, 27, 36, 45)\n",
    "\n"
   ]
  },
  {
   "cell_type": "code",
   "execution_count": null,
   "id": "93ec724c",
   "metadata": {},
   "outputs": [],
   "source": [
    "# 6. retrieve 77 from below dictionary\n",
    "d1 = {1:[10, 20, {'A': 11, 'B':20, 'C':77}]}\n"
   ]
  },
  {
   "cell_type": "code",
   "execution_count": null,
   "id": "7f9b9549",
   "metadata": {},
   "outputs": [],
   "source": [
    "# 7. consider below list and fetch [10, 7, 4, 1] and prepare another list \n",
    "\n",
    "l1 = [1, 2, 3, 4, 5, 6, 7, 8, 9, 10]\n"
   ]
  },
  {
   "cell_type": "code",
   "execution_count": 1,
   "id": "0c88b16a",
   "metadata": {},
   "outputs": [],
   "source": [
    "# 8. print the strings which has a letter 'a' or 'A' in it (without using loop)\n",
    "l1 = ['Amit', 'Baban', 'Dishi', 'Lily', 'John', 'Akshit', 'Priyanka']\n",
    "\n"
   ]
  },
  {
   "cell_type": "code",
   "execution_count": null,
   "id": "cebdc8e4",
   "metadata": {},
   "outputs": [],
   "source": [
    "# 9. print the keys of below dictionary if corresponding value is 5000 or above  \n",
    "d1 = {1:1000, 2:2000, 3:3000, 4:4000, 5:5000, 6:6000, 7:7000}\n"
   ]
  },
  {
   "cell_type": "code",
   "execution_count": 10,
   "id": "db7fa28c",
   "metadata": {},
   "outputs": [],
   "source": [
    "# 10. # accept the values from user and prepare a dictionary as shown below:\n",
    "# {10:'IT', 20:'Account', 30:'consulting', 40: Audit, 50:'Tax'}\n",
    "\n"
   ]
  },
  {
   "cell_type": "code",
   "execution_count": 2,
   "id": "396890e2",
   "metadata": {},
   "outputs": [],
   "source": [
    "## 11. Accept a string from user and calculate the frequency of characters\n"
   ]
  },
  {
   "cell_type": "code",
   "execution_count": null,
   "id": "f5560caf",
   "metadata": {},
   "outputs": [],
   "source": [
    "## 12. Write a function for taking a list an parameter and return\n",
    "#  a value occuring with maximum frequency as well as frequency\n",
    "\n"
   ]
  },
  {
   "cell_type": "code",
   "execution_count": null,
   "id": "4134b094",
   "metadata": {},
   "outputs": [],
   "source": [
    "## 13. consider a list given below:\n",
    "\n",
    "l1 = [100, 1000, [10, 20, 30, [50, 60], [70, 80], 15, 25], (90, 200, 500), 2000]\n",
    "\n",
    "# retrieve 20\n",
    "\n",
    "\n",
    "#retrieve [50, 60]\n",
    "\n",
    "\n",
    "# retrieve 25\n",
    "\n",
    "\n",
    "# retrieve 200\n",
    "\n",
    "\n",
    "# retrieve 80"
   ]
  },
  {
   "cell_type": "code",
   "execution_count": null,
   "id": "deba9dea",
   "metadata": {},
   "outputs": [],
   "source": [
    "# 14.  consider the below given dictionary:\n",
    "\n",
    "d1 = {'a': [1,2,3], 'b':{1:'One', 10:'Ten'}, \n",
    "      'c':[10, 20, 30, 40, 50], \n",
    "      'd':{'e':{100:('a', 'c', 'f')}}}\n",
    "\n",
    "\n",
    "# retrieve 'a'\n",
    "\n",
    "\n",
    "# retrieve [20, 30]\n",
    "\n",
    "\n",
    "# retrieve 'Ten'\n",
    "\n",
    "\n",
    "# retrive 3"
   ]
  }
 ],
 "metadata": {
  "kernelspec": {
   "display_name": "Python 3 (ipykernel)",
   "language": "python",
   "name": "python3"
  },
  "language_info": {
   "codemirror_mode": {
    "name": "ipython",
    "version": 3
   },
   "file_extension": ".py",
   "mimetype": "text/x-python",
   "name": "python",
   "nbconvert_exporter": "python",
   "pygments_lexer": "ipython3",
   "version": "3.9.13"
  }
 },
 "nbformat": 4,
 "nbformat_minor": 5
}
