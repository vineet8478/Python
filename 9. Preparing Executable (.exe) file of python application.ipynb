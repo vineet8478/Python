{
 "cells": [
  {
   "cell_type": "markdown",
   "id": "d6fc9a6a",
   "metadata": {},
   "source": [
    "### Step 1"
   ]
  },
  {
   "cell_type": "code",
   "execution_count": null,
   "id": "715aee84",
   "metadata": {
    "scrolled": true
   },
   "outputs": [],
   "source": [
    "!pip install pyinstaller "
   ]
  },
  {
   "cell_type": "markdown",
   "id": "44362192",
   "metadata": {},
   "source": [
    "### Step 2"
   ]
  },
  {
   "cell_type": "code",
   "execution_count": 1,
   "id": "14247814",
   "metadata": {},
   "outputs": [
    {
     "data": {
      "text/plain": [
       "'C:\\\\Users\\\\dbhabad\\\\FY23 P10 AA\\\\Week2'"
      ]
     },
     "execution_count": 1,
     "metadata": {},
     "output_type": "execute_result"
    }
   ],
   "source": [
    "# check current working directory and place python application \n",
    "# (.py file and/or folder of all the related files in the folder)\n",
    "\n",
    "import os\n",
    "os.getcwd()"
   ]
  },
  {
   "cell_type": "code",
   "execution_count": 3,
   "id": "e8e89a87",
   "metadata": {},
   "outputs": [],
   "source": [
    "# sample code\n",
    "import datetime as dt\n",
    "\n",
    "t1 = dt.datetime.now()\n",
    "write_data = 'File appended at: ' + str(t1)\n",
    "# print(write_data)\n",
    "with open(r'C:\\\\Users\\\\dbhabad\\\\FY23 P10 AA\\\\Week2\\exe_demo.txt', 'a') as f1:\n",
    "    f1.write(write_data)\n",
    "    f1.write('\\n')"
   ]
  },
  {
   "cell_type": "markdown",
   "id": "a1e45108",
   "metadata": {},
   "source": [
    "### Step 3"
   ]
  },
  {
   "cell_type": "code",
   "execution_count": null,
   "id": "d4f0930b",
   "metadata": {},
   "outputs": [],
   "source": [
    "# open python powershell and run below command\n",
    "\n",
    "# for single file\n",
    "pyinstaller --onefile 'file_name.py'\n",
    "\n",
    "# for complete folder\n",
    "# pyinstaller --onedir 'file_name.py'"
   ]
  }
 ],
 "metadata": {
  "kernelspec": {
   "display_name": "Python 3 (ipykernel)",
   "language": "python",
   "name": "python3"
  },
  "language_info": {
   "codemirror_mode": {
    "name": "ipython",
    "version": 3
   },
   "file_extension": ".py",
   "mimetype": "text/x-python",
   "name": "python",
   "nbconvert_exporter": "python",
   "pygments_lexer": "ipython3",
   "version": "3.9.13"
  }
 },
 "nbformat": 4,
 "nbformat_minor": 5
}
