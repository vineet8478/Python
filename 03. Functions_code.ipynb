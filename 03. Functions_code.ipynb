{
 "cells": [
  {
   "cell_type": "markdown",
   "id": "1077c299",
   "metadata": {},
   "source": [
    "## Functions"
   ]
  },
  {
   "cell_type": "code",
   "execution_count": 1,
   "id": "771da064",
   "metadata": {},
   "outputs": [],
   "source": [
    "# simplest function\n",
    "\n",
    "def display():\n",
    "    print(\"Printed inside a function\")"
   ]
  },
  {
   "cell_type": "code",
   "execution_count": 2,
   "id": "ed687112",
   "metadata": {},
   "outputs": [
    {
     "name": "stdout",
     "output_type": "stream",
     "text": [
      "<class 'function'>\n"
     ]
    }
   ],
   "source": [
    "# function is also an object in python\n",
    "\n",
    "print(type(display))"
   ]
  },
  {
   "cell_type": "code",
   "execution_count": 3,
   "id": "b4f2256c",
   "metadata": {},
   "outputs": [
    {
     "name": "stdout",
     "output_type": "stream",
     "text": [
      "Printed inside a function\n"
     ]
    }
   ],
   "source": [
    "# function call\n",
    "display()"
   ]
  },
  {
   "cell_type": "code",
   "execution_count": 4,
   "id": "cc1ee7dd",
   "metadata": {},
   "outputs": [],
   "source": [
    "# function to check whether given number is even or odd\n",
    "def evenodd(x):\n",
    "    if (x%2==0):\n",
    "        print(\"even\")\n",
    "    else:\n",
    "        print(\"odd\")"
   ]
  },
  {
   "cell_type": "code",
   "execution_count": 5,
   "id": "79560d37",
   "metadata": {},
   "outputs": [
    {
     "name": "stdout",
     "output_type": "stream",
     "text": [
      "odd\n"
     ]
    }
   ],
   "source": [
    "evenodd(13)"
   ]
  },
  {
   "cell_type": "code",
   "execution_count": 6,
   "id": "bcad26a6",
   "metadata": {},
   "outputs": [
    {
     "ename": "TypeError",
     "evalue": "evenodd() missing 1 required positional argument: 'x'",
     "output_type": "error",
     "traceback": [
      "\u001b[1;31m---------------------------------------------------------------------------\u001b[0m",
      "\u001b[1;31mTypeError\u001b[0m                                 Traceback (most recent call last)",
      "\u001b[1;32m~\\AppData\\Local\\Temp\\ipykernel_6804\\3664092441.py\u001b[0m in \u001b[0;36m<module>\u001b[1;34m\u001b[0m\n\u001b[1;32m----> 1\u001b[1;33m \u001b[0mevenodd\u001b[0m\u001b[1;33m(\u001b[0m\u001b[1;33m)\u001b[0m\u001b[1;33m\u001b[0m\u001b[1;33m\u001b[0m\u001b[0m\n\u001b[0m",
      "\u001b[1;31mTypeError\u001b[0m: evenodd() missing 1 required positional argument: 'x'"
     ]
    }
   ],
   "source": [
    "evenodd()"
   ]
  },
  {
   "cell_type": "code",
   "execution_count": 8,
   "id": "ee8e6207",
   "metadata": {},
   "outputs": [
    {
     "name": "stdout",
     "output_type": "stream",
     "text": [
      "even\n"
     ]
    }
   ],
   "source": [
    "evenodd(10)"
   ]
  },
  {
   "cell_type": "code",
   "execution_count": 9,
   "id": "0ac92d79",
   "metadata": {},
   "outputs": [],
   "source": [
    "def summation(a, b):\n",
    "    c = a + b\n",
    "    print(\"Addition is: \", c)"
   ]
  },
  {
   "cell_type": "code",
   "execution_count": 10,
   "id": "30a40898",
   "metadata": {},
   "outputs": [
    {
     "name": "stdout",
     "output_type": "stream",
     "text": [
      "Addition is:  30\n"
     ]
    }
   ],
   "source": [
    "x = summation(10, 20)"
   ]
  },
  {
   "cell_type": "code",
   "execution_count": 11,
   "id": "ac3a67fc",
   "metadata": {},
   "outputs": [
    {
     "name": "stdout",
     "output_type": "stream",
     "text": [
      "None\n"
     ]
    }
   ],
   "source": [
    "print(x)"
   ]
  },
  {
   "cell_type": "code",
   "execution_count": 23,
   "id": "1d458101",
   "metadata": {},
   "outputs": [],
   "source": [
    "def summation(a, b):\n",
    "    c = a + b\n",
    "    return c, a, b\n"
   ]
  },
  {
   "cell_type": "code",
   "execution_count": 24,
   "id": "ecacdeaa",
   "metadata": {
    "scrolled": true
   },
   "outputs": [],
   "source": [
    "x, y, z = summation(10, 20)"
   ]
  },
  {
   "cell_type": "code",
   "execution_count": 25,
   "id": "27898001",
   "metadata": {},
   "outputs": [
    {
     "name": "stdout",
     "output_type": "stream",
     "text": [
      "30 10 20\n"
     ]
    }
   ],
   "source": [
    "print(x, y, z)"
   ]
  },
  {
   "cell_type": "code",
   "execution_count": null,
   "id": "403a4338",
   "metadata": {},
   "outputs": [],
   "source": []
  },
  {
   "cell_type": "code",
   "execution_count": 26,
   "id": "cd0dba23",
   "metadata": {},
   "outputs": [],
   "source": [
    "# function with parameter and return value\n",
    "def square(x):\n",
    "    return x**2"
   ]
  },
  {
   "cell_type": "code",
   "execution_count": null,
   "id": "81734edb",
   "metadata": {},
   "outputs": [],
   "source": []
  },
  {
   "cell_type": "code",
   "execution_count": 27,
   "id": "8d606f67",
   "metadata": {},
   "outputs": [
    {
     "data": {
      "text/plain": [
       "144"
      ]
     },
     "execution_count": 27,
     "metadata": {},
     "output_type": "execute_result"
    }
   ],
   "source": [
    "square(12)"
   ]
  },
  {
   "cell_type": "code",
   "execution_count": 42,
   "id": "53670c21",
   "metadata": {},
   "outputs": [],
   "source": [
    "# with default arguments\n",
    "def myfunc( x=100, y=50):\n",
    "    print(x)\n",
    "    print(y)"
   ]
  },
  {
   "cell_type": "code",
   "execution_count": 43,
   "id": "e7b0a4f2",
   "metadata": {},
   "outputs": [
    {
     "name": "stdout",
     "output_type": "stream",
     "text": [
      "10\n",
      "50\n"
     ]
    }
   ],
   "source": [
    "myfunc(10)"
   ]
  },
  {
   "cell_type": "code",
   "execution_count": 44,
   "id": "cb5b7aab",
   "metadata": {},
   "outputs": [
    {
     "name": "stdout",
     "output_type": "stream",
     "text": [
      "10\n",
      "100\n"
     ]
    }
   ],
   "source": [
    "myfunc(10, 100)"
   ]
  },
  {
   "cell_type": "code",
   "execution_count": 45,
   "id": "225d362b",
   "metadata": {},
   "outputs": [
    {
     "name": "stdout",
     "output_type": "stream",
     "text": [
      "100\n",
      "50\n"
     ]
    }
   ],
   "source": [
    "myfunc()"
   ]
  },
  {
   "cell_type": "code",
   "execution_count": null,
   "id": "9c762f28",
   "metadata": {},
   "outputs": [],
   "source": [
    "def myfunc(x, y=50):\n",
    "    return x+y"
   ]
  },
  {
   "cell_type": "code",
   "execution_count": null,
   "id": "8276ce47",
   "metadata": {},
   "outputs": [],
   "source": [
    "myfunc(10, 20)"
   ]
  },
  {
   "cell_type": "code",
   "execution_count": null,
   "id": "abc84acb",
   "metadata": {},
   "outputs": [],
   "source": [
    "myfunc(10)"
   ]
  },
  {
   "cell_type": "code",
   "execution_count": 46,
   "id": "99251244",
   "metadata": {},
   "outputs": [],
   "source": [
    "def fun2(name,msg='welcome'):\n",
    "    print('hello',name,msg)"
   ]
  },
  {
   "cell_type": "code",
   "execution_count": 47,
   "id": "208f7394",
   "metadata": {},
   "outputs": [
    {
     "name": "stdout",
     "output_type": "stream",
     "text": [
      "hello Dnyanesh welcome\n"
     ]
    }
   ],
   "source": [
    "fun2('Dnyanesh')"
   ]
  },
  {
   "cell_type": "code",
   "execution_count": 48,
   "id": "e7f54b6e",
   "metadata": {},
   "outputs": [
    {
     "ename": "SyntaxError",
     "evalue": "non-default argument follows default argument (3931448188.py, line 2)",
     "output_type": "error",
     "traceback": [
      "\u001b[1;36m  File \u001b[1;32m\"C:\\Users\\dbhabad\\AppData\\Local\\Temp\\ipykernel_6804\\3931448188.py\"\u001b[1;36m, line \u001b[1;32m2\u001b[0m\n\u001b[1;33m    def wrong_func(msg='welcome', name):\u001b[0m\n\u001b[1;37m                                      ^\u001b[0m\n\u001b[1;31mSyntaxError\u001b[0m\u001b[1;31m:\u001b[0m non-default argument follows default argument\n"
     ]
    }
   ],
   "source": [
    "# not allowed\n",
    "def wrong_func(msg='welcome', name):\n",
    "    print('hello',name,msg)"
   ]
  },
  {
   "cell_type": "code",
   "execution_count": 49,
   "id": "a4164759",
   "metadata": {},
   "outputs": [
    {
     "name": "stdout",
     "output_type": "stream",
     "text": [
      "hello Dnyanesh welcome\n"
     ]
    }
   ],
   "source": [
    "# default arguments\n",
    "fun2('Dnyanesh')"
   ]
  },
  {
   "cell_type": "code",
   "execution_count": 50,
   "id": "5b7f667e",
   "metadata": {},
   "outputs": [
    {
     "name": "stdout",
     "output_type": "stream",
     "text": [
      "hello Dnyanesh welcome\n"
     ]
    }
   ],
   "source": [
    "fun2('Dnyanesh')"
   ]
  },
  {
   "cell_type": "code",
   "execution_count": 51,
   "id": "8ea63704",
   "metadata": {},
   "outputs": [
    {
     "name": "stdout",
     "output_type": "stream",
     "text": [
      "hello Dnyanesh Good morning\n"
     ]
    }
   ],
   "source": [
    "# positional arguments\n",
    "fun2(\"Dnyanesh\", 'Good morning')"
   ]
  },
  {
   "cell_type": "code",
   "execution_count": 52,
   "id": "1e8ebd0d",
   "metadata": {},
   "outputs": [
    {
     "name": "stdout",
     "output_type": "stream",
     "text": [
      "hello Good morning Dnyanesh\n"
     ]
    }
   ],
   "source": [
    "fun2('Good morning', \"Dnyanesh\")"
   ]
  },
  {
   "cell_type": "code",
   "execution_count": 53,
   "id": "29f924b4",
   "metadata": {},
   "outputs": [
    {
     "name": "stdout",
     "output_type": "stream",
     "text": [
      "hello Dnyanesh Good morning\n"
     ]
    }
   ],
   "source": [
    "fun2(name = 'Dnyanesh', msg = 'Good morning')"
   ]
  },
  {
   "cell_type": "code",
   "execution_count": 54,
   "id": "4e1f8145",
   "metadata": {},
   "outputs": [
    {
     "name": "stdout",
     "output_type": "stream",
     "text": [
      "hello Dnyanesh Good morning\n"
     ]
    }
   ],
   "source": [
    "fun2( msg = 'Good morning', name = 'Dnyanesh')"
   ]
  },
  {
   "cell_type": "code",
   "execution_count": 55,
   "id": "12f67be5",
   "metadata": {},
   "outputs": [],
   "source": [
    "def fun2(x, y=100):\n",
    "    print('x: ', x)\n",
    "    print('y: ', y)"
   ]
  },
  {
   "cell_type": "code",
   "execution_count": 56,
   "id": "e7467524",
   "metadata": {},
   "outputs": [
    {
     "name": "stdout",
     "output_type": "stream",
     "text": [
      "x:  10\n",
      "y:  20\n"
     ]
    }
   ],
   "source": [
    "# keyword arguments\n",
    "fun2(10, y=20) "
   ]
  },
  {
   "cell_type": "code",
   "execution_count": 57,
   "id": "01d3e478",
   "metadata": {},
   "outputs": [
    {
     "ename": "SyntaxError",
     "evalue": "positional argument follows keyword argument (150721597.py, line 2)",
     "output_type": "error",
     "traceback": [
      "\u001b[1;36m  File \u001b[1;32m\"C:\\Users\\dbhabad\\AppData\\Local\\Temp\\ipykernel_6804\\150721597.py\"\u001b[1;36m, line \u001b[1;32m2\u001b[0m\n\u001b[1;33m    fun2(y=20, 10)\u001b[0m\n\u001b[1;37m                 ^\u001b[0m\n\u001b[1;31mSyntaxError\u001b[0m\u001b[1;31m:\u001b[0m positional argument follows keyword argument\n"
     ]
    }
   ],
   "source": [
    "# keyword arguments\n",
    "fun2(y=20, 10) "
   ]
  },
  {
   "cell_type": "code",
   "execution_count": null,
   "id": "65fb43c6",
   "metadata": {},
   "outputs": [],
   "source": [
    "fun2(10, 20)\n",
    "print()\n",
    "fun2(20, 10)"
   ]
  },
  {
   "cell_type": "code",
   "execution_count": null,
   "id": "1c46d01d",
   "metadata": {},
   "outputs": [],
   "source": [
    "def person(name, city, sport):\n",
    "    print(\"Name of the person is: \", name)\n",
    "    print('City of the person is: ', city)\n",
    "    print('Favourite sport is: ', sport)"
   ]
  },
  {
   "cell_type": "code",
   "execution_count": null,
   "id": "8f3e7c45",
   "metadata": {},
   "outputs": [],
   "source": [
    "# mixed (keyword arguments at the end) \n",
    "person('Amar', sport='Cricket', city='Delhi') #works"
   ]
  },
  {
   "cell_type": "code",
   "execution_count": null,
   "id": "c7414520",
   "metadata": {},
   "outputs": [],
   "source": [
    "# mixed (keyword arguments in the beginning) \n",
    "person(name = 'Amar', sport='Cricket', 'Delhi') # doesn't work"
   ]
  },
  {
   "cell_type": "markdown",
   "id": "686f11ac",
   "metadata": {},
   "source": [
    "## Built in functions"
   ]
  },
  {
   "cell_type": "code",
   "execution_count": 58,
   "id": "550b8594",
   "metadata": {},
   "outputs": [
    {
     "data": {
      "text/plain": [
       "10"
      ]
     },
     "execution_count": 58,
     "metadata": {},
     "output_type": "execute_result"
    }
   ],
   "source": [
    "min(10,20,30)"
   ]
  },
  {
   "cell_type": "code",
   "execution_count": 59,
   "id": "c92b05c4",
   "metadata": {},
   "outputs": [
    {
     "data": {
      "text/plain": [
       "500"
      ]
     },
     "execution_count": 59,
     "metadata": {},
     "output_type": "execute_result"
    }
   ],
   "source": [
    "max(100,300,500,200)"
   ]
  },
  {
   "cell_type": "code",
   "execution_count": 60,
   "id": "f2b5c7cb",
   "metadata": {},
   "outputs": [
    {
     "data": {
      "text/plain": [
       "8"
      ]
     },
     "execution_count": 60,
     "metadata": {},
     "output_type": "execute_result"
    }
   ],
   "source": [
    "len('Deloitte')"
   ]
  },
  {
   "cell_type": "code",
   "execution_count": 61,
   "id": "e6986332",
   "metadata": {},
   "outputs": [
    {
     "data": {
      "text/plain": [
       "6"
      ]
     },
     "execution_count": 61,
     "metadata": {},
     "output_type": "execute_result"
    }
   ],
   "source": [
    "len([1, 2, 3, 4, 5, 6])"
   ]
  },
  {
   "cell_type": "code",
   "execution_count": 62,
   "id": "b9058b28",
   "metadata": {},
   "outputs": [
    {
     "data": {
      "text/plain": [
       "4"
      ]
     },
     "execution_count": 62,
     "metadata": {},
     "output_type": "execute_result"
    }
   ],
   "source": [
    "len((100, 200, 600, 1000))"
   ]
  },
  {
   "cell_type": "code",
   "execution_count": 63,
   "id": "3e395557",
   "metadata": {},
   "outputs": [
    {
     "data": {
      "text/plain": [
       "3"
      ]
     },
     "execution_count": 63,
     "metadata": {},
     "output_type": "execute_result"
    }
   ],
   "source": [
    "d1 = {1: 'One', 2: 'Two', 3: 'Three'}\n",
    "len(d1)"
   ]
  },
  {
   "cell_type": "code",
   "execution_count": 68,
   "id": "124e3ac7",
   "metadata": {},
   "outputs": [
    {
     "data": {
      "text/plain": [
       "'One'"
      ]
     },
     "execution_count": 68,
     "metadata": {},
     "output_type": "execute_result"
    }
   ],
   "source": [
    "d1[1]"
   ]
  },
  {
   "cell_type": "markdown",
   "id": "bf6dbada",
   "metadata": {},
   "source": [
    "## Passing variable number of arguments"
   ]
  },
  {
   "cell_type": "markdown",
   "id": "5d524917",
   "metadata": {},
   "source": [
    "#### Positional Arguments"
   ]
  },
  {
   "cell_type": "code",
   "execution_count": 69,
   "id": "93b7425e",
   "metadata": {},
   "outputs": [],
   "source": [
    "# sum_integers_args.py\n",
    "def add_numbers(*params):\n",
    "    total = 0\n",
    "    total_values = len(params)\n",
    "    print(total_values)\n",
    "    print(params)\n",
    "    print(type(params))\n",
    "    for x in params:\n",
    "        total += x\n",
    "    return total"
   ]
  },
  {
   "cell_type": "code",
   "execution_count": 70,
   "id": "b40d2c80",
   "metadata": {},
   "outputs": [
    {
     "name": "stdout",
     "output_type": "stream",
     "text": [
      "3\n",
      "(1, 2, 3)\n",
      "<class 'tuple'>\n",
      "6\n"
     ]
    }
   ],
   "source": [
    "sum = add_numbers(1, 2, 3)\n",
    "print(sum)"
   ]
  },
  {
   "cell_type": "code",
   "execution_count": 71,
   "id": "d69a7a11",
   "metadata": {},
   "outputs": [
    {
     "name": "stdout",
     "output_type": "stream",
     "text": [
      "6\n",
      "(1, 2, 3, 4, 5, 6)\n",
      "<class 'tuple'>\n",
      "21\n"
     ]
    }
   ],
   "source": [
    "sum = add_numbers(1, 2, 3, 4, 5, 6)\n",
    "print(sum)"
   ]
  },
  {
   "cell_type": "code",
   "execution_count": null,
   "id": "68df8f5c",
   "metadata": {},
   "outputs": [],
   "source": [
    "def demo_sum(a, b, c=100):\n",
    "    print(a + b + c)"
   ]
  },
  {
   "cell_type": "code",
   "execution_count": null,
   "id": "dca51272",
   "metadata": {},
   "outputs": [],
   "source": [
    "# works\n",
    "\n",
    "my_list = [10, 20]\n",
    "demo_sum(*my_list)"
   ]
  },
  {
   "cell_type": "code",
   "execution_count": null,
   "id": "93108fed",
   "metadata": {},
   "outputs": [],
   "source": [
    "## output ??????????\n",
    "\n",
    "my_list = [10, 20, 30]\n",
    "demo_sum(*my_list)"
   ]
  },
  {
   "cell_type": "markdown",
   "id": "94b7d364",
   "metadata": {},
   "source": [
    "#### Keyword Arguments"
   ]
  },
  {
   "cell_type": "code",
   "execution_count": 72,
   "id": "668a66be",
   "metadata": {},
   "outputs": [],
   "source": [
    "def display(**emp):\n",
    "    print('Input data   :', emp)\n",
    "    print('Type of input:', type(emp))\n",
    "    print('Keys are     :', emp.keys())\n",
    "    print('Values are   :', emp.values())\n",
    "    print('Name         :', emp['name'])\n",
    "    print('Age          :', emp['age'])\n",
    "    print('City         :', emp['city'])"
   ]
  },
  {
   "cell_type": "code",
   "execution_count": 73,
   "id": "6a95b63d",
   "metadata": {},
   "outputs": [
    {
     "name": "stdout",
     "output_type": "stream",
     "text": [
      "Input data   : {'name': 'Amar', 'age': 32, 'city': 'Delhi'}\n",
      "Type of input: <class 'dict'>\n",
      "Keys are     : dict_keys(['name', 'age', 'city'])\n",
      "Values are   : dict_values(['Amar', 32, 'Delhi'])\n",
      "Name         : Amar\n",
      "Age          : 32\n",
      "City         : Delhi\n"
     ]
    }
   ],
   "source": [
    "display(name=\"Amar\", age=32, city=\"Delhi\")"
   ]
  },
  {
   "cell_type": "code",
   "execution_count": 74,
   "id": "730cb6f2",
   "metadata": {},
   "outputs": [],
   "source": [
    "# passing varying positional and keyword arguments\n",
    "\n",
    "\n",
    "def display(*numbers, **emp):\n",
    "    print(emp)\n",
    "    print(numbers)\n",
    "    print(type(emp))\n",
    "    print(emp.keys())\n",
    "    print(emp.values())\n",
    "    for key in emp.keys():\n",
    "        print(emp[key])\n",
    "    print(emp['name'])\n",
    "    print(emp['age'])\n",
    "    print(emp['city'])"
   ]
  },
  {
   "cell_type": "code",
   "execution_count": 75,
   "id": "a5a2620b",
   "metadata": {},
   "outputs": [
    {
     "name": "stdout",
     "output_type": "stream",
     "text": [
      "{'name': 'Amar', 'age': 32, 'city': 'Delhi'}\n",
      "(30, 40, 50, 60, 70)\n",
      "<class 'dict'>\n",
      "dict_keys(['name', 'age', 'city'])\n",
      "dict_values(['Amar', 32, 'Delhi'])\n",
      "Amar\n",
      "32\n",
      "Delhi\n",
      "Amar\n",
      "32\n",
      "Delhi\n"
     ]
    }
   ],
   "source": [
    "display(30, 40, 50, 60, 70, name=\"Amar\", age=32, city=\"Delhi\")"
   ]
  },
  {
   "cell_type": "code",
   "execution_count": 76,
   "id": "43841156",
   "metadata": {},
   "outputs": [],
   "source": [
    "def display(*args, **kwargs):\n",
    "    print('Name of the employee is: ', args[0])\n",
    "    print('Designation of the employee is: ', args[1])\n",
    "    print('Salary of the employee is: ', args[2])\n",
    "    \n",
    "    print('City of the employee is: ', kwargs['city'])\n",
    "    print('Departmant of the employee is: ', kwargs['dept'])\n",
    "    print('Date of Joining of the employee is: ', kwargs['Doj'])"
   ]
  },
  {
   "cell_type": "code",
   "execution_count": 77,
   "id": "9b44216c",
   "metadata": {},
   "outputs": [
    {
     "name": "stdout",
     "output_type": "stream",
     "text": [
      "Name of the employee is:  Ajit\n",
      "Designation of the employee is:  manager\n",
      "Salary of the employee is:  15000\n",
      "City of the employee is:  Mumbai\n",
      "Departmant of the employee is:  Account\n",
      "Date of Joining of the employee is:  01/01/2022\n"
     ]
    }
   ],
   "source": [
    "display('Ajit', 'manager', 15000, city='Mumbai', dept='Account', Doj='01/01/2022')"
   ]
  },
  {
   "cell_type": "code",
   "execution_count": 78,
   "id": "51bd1808",
   "metadata": {},
   "outputs": [
    {
     "name": "stdout",
     "output_type": "stream",
     "text": [
      "Welcome\n",
      "Welcome\n"
     ]
    }
   ],
   "source": [
    "# creating another reference to the function\n",
    "\n",
    "def show():\n",
    "    print('Welcome')\n",
    "    \n",
    "display = show\n",
    "\n",
    "show()\n",
    "display()"
   ]
  },
  {
   "cell_type": "code",
   "execution_count": null,
   "id": "39483da1",
   "metadata": {},
   "outputs": [],
   "source": [
    "# find HCF of two numbers\n",
    "\n",
    "def hcf(a, b):\n",
    "    min_num = min(a,b)\n",
    "    for i in range(min_num, 0, -1):\n",
    "        if i == 1:\n",
    "            return -1\n",
    "        if a%i == 0 and b%i == 0:\n",
    "            return i\n",
    "hcf(105, 11)"
   ]
  },
  {
   "cell_type": "markdown",
   "id": "15c72dd7",
   "metadata": {},
   "source": [
    "## Generator function"
   ]
  },
  {
   "cell_type": "code",
   "execution_count": 79,
   "id": "1d14827b",
   "metadata": {},
   "outputs": [],
   "source": [
    "def simpleGeneratorFun():\n",
    "    yield 1            \n",
    "    yield 2            \n",
    "    yield 3  "
   ]
  },
  {
   "cell_type": "code",
   "execution_count": 80,
   "id": "849d15ab",
   "metadata": {},
   "outputs": [
    {
     "data": {
      "text/plain": [
       "<generator object simpleGeneratorFun at 0x000002AA20412040>"
      ]
     },
     "execution_count": 80,
     "metadata": {},
     "output_type": "execute_result"
    }
   ],
   "source": [
    "simpleGeneratorFun()"
   ]
  },
  {
   "cell_type": "code",
   "execution_count": 81,
   "id": "05b30d86",
   "metadata": {},
   "outputs": [
    {
     "name": "stdout",
     "output_type": "stream",
     "text": [
      "1\n",
      "2\n",
      "3\n"
     ]
    }
   ],
   "source": [
    "def simpleGeneratorFun():\n",
    "    yield 1            \n",
    "    yield 2            \n",
    "    yield 3            \n",
    "\n",
    "    \n",
    "# Driver code to check above generator function\n",
    "for value in simpleGeneratorFun(): \n",
    "    print(value)"
   ]
  },
  {
   "cell_type": "code",
   "execution_count": 82,
   "id": "958fc324",
   "metadata": {},
   "outputs": [
    {
     "data": {
      "text/plain": [
       "1"
      ]
     },
     "execution_count": 82,
     "metadata": {},
     "output_type": "execute_result"
    }
   ],
   "source": [
    "y=simpleGeneratorFun()\n",
    "next(y)"
   ]
  },
  {
   "cell_type": "code",
   "execution_count": 83,
   "id": "17381474",
   "metadata": {},
   "outputs": [
    {
     "data": {
      "text/plain": [
       "generator"
      ]
     },
     "execution_count": 83,
     "metadata": {},
     "output_type": "execute_result"
    }
   ],
   "source": [
    "type(y)"
   ]
  },
  {
   "cell_type": "code",
   "execution_count": 84,
   "id": "878b0e57",
   "metadata": {},
   "outputs": [
    {
     "data": {
      "text/plain": [
       "2"
      ]
     },
     "execution_count": 84,
     "metadata": {},
     "output_type": "execute_result"
    }
   ],
   "source": [
    "next(y)"
   ]
  },
  {
   "cell_type": "code",
   "execution_count": 85,
   "id": "17a3c74a",
   "metadata": {},
   "outputs": [
    {
     "data": {
      "text/plain": [
       "3"
      ]
     },
     "execution_count": 85,
     "metadata": {},
     "output_type": "execute_result"
    }
   ],
   "source": [
    "next(y)"
   ]
  },
  {
   "cell_type": "code",
   "execution_count": 86,
   "id": "87a56a9b",
   "metadata": {},
   "outputs": [
    {
     "ename": "StopIteration",
     "evalue": "",
     "output_type": "error",
     "traceback": [
      "\u001b[1;31m---------------------------------------------------------------------------\u001b[0m",
      "\u001b[1;31mStopIteration\u001b[0m                             Traceback (most recent call last)",
      "\u001b[1;32m~\\AppData\\Local\\Temp\\ipykernel_6804\\1131913922.py\u001b[0m in \u001b[0;36m<module>\u001b[1;34m\u001b[0m\n\u001b[1;32m----> 1\u001b[1;33m \u001b[0mnext\u001b[0m\u001b[1;33m(\u001b[0m\u001b[0my\u001b[0m\u001b[1;33m)\u001b[0m\u001b[1;33m\u001b[0m\u001b[1;33m\u001b[0m\u001b[0m\n\u001b[0m",
      "\u001b[1;31mStopIteration\u001b[0m: "
     ]
    }
   ],
   "source": [
    "next(y)"
   ]
  },
  {
   "cell_type": "code",
   "execution_count": 87,
   "id": "871bccab",
   "metadata": {},
   "outputs": [
    {
     "name": "stdout",
     "output_type": "stream",
     "text": [
      "<generator object simpleGeneratorFun at 0x000002AA20412EB0>\n",
      "<class 'generator'>\n",
      "[1, 2, 3]\n"
     ]
    }
   ],
   "source": [
    "x=simpleGeneratorFun()\n",
    "print(x)\n",
    "print(type(x))\n",
    "print(list(x))"
   ]
  },
  {
   "cell_type": "code",
   "execution_count": 90,
   "id": "0dd1dfeb",
   "metadata": {},
   "outputs": [],
   "source": [
    "def mygenerator():\n",
    "    print('First item')\n",
    "    yield 10\n",
    "\n",
    "    return\n",
    "\n",
    "    print('Second item')\n",
    "    yield 20\n",
    "\n",
    "    print('Last item')\n",
    "    yield 30"
   ]
  },
  {
   "cell_type": "code",
   "execution_count": 91,
   "id": "d4b7d294",
   "metadata": {},
   "outputs": [
    {
     "name": "stdout",
     "output_type": "stream",
     "text": [
      "First item\n"
     ]
    },
    {
     "data": {
      "text/plain": [
       "10"
      ]
     },
     "execution_count": 91,
     "metadata": {},
     "output_type": "execute_result"
    }
   ],
   "source": [
    "new1=mygenerator()\n",
    "next(new1)"
   ]
  },
  {
   "cell_type": "code",
   "execution_count": 92,
   "id": "60efe0b2",
   "metadata": {},
   "outputs": [
    {
     "ename": "StopIteration",
     "evalue": "",
     "output_type": "error",
     "traceback": [
      "\u001b[1;31m---------------------------------------------------------------------------\u001b[0m",
      "\u001b[1;31mStopIteration\u001b[0m                             Traceback (most recent call last)",
      "\u001b[1;32m~\\AppData\\Local\\Temp\\ipykernel_6804\\2450327391.py\u001b[0m in \u001b[0;36m<module>\u001b[1;34m\u001b[0m\n\u001b[1;32m----> 1\u001b[1;33m \u001b[0mnext\u001b[0m\u001b[1;33m(\u001b[0m\u001b[0mnew1\u001b[0m\u001b[1;33m)\u001b[0m\u001b[1;33m\u001b[0m\u001b[1;33m\u001b[0m\u001b[0m\n\u001b[0m",
      "\u001b[1;31mStopIteration\u001b[0m: "
     ]
    }
   ],
   "source": [
    "next(new1)"
   ]
  },
  {
   "cell_type": "code",
   "execution_count": null,
   "id": "f3679210",
   "metadata": {},
   "outputs": [],
   "source": [
    "y=mygenerator()\n",
    "print(list(y))"
   ]
  },
  {
   "cell_type": "code",
   "execution_count": 93,
   "id": "1c773d05",
   "metadata": {},
   "outputs": [],
   "source": [
    "#Use For Loop with Generator Function\n",
    "def get_sequence_upto(x):\n",
    "    for i in range(2, x):\n",
    "        yield i"
   ]
  },
  {
   "cell_type": "code",
   "execution_count": 94,
   "id": "a9cac0c8",
   "metadata": {},
   "outputs": [
    {
     "data": {
      "text/plain": [
       "2"
      ]
     },
     "execution_count": 94,
     "metadata": {},
     "output_type": "execute_result"
    }
   ],
   "source": [
    "seq = get_sequence_upto(5) \n",
    "next(seq)"
   ]
  },
  {
   "cell_type": "code",
   "execution_count": 95,
   "id": "7c156375",
   "metadata": {},
   "outputs": [
    {
     "data": {
      "text/plain": [
       "3"
      ]
     },
     "execution_count": 95,
     "metadata": {},
     "output_type": "execute_result"
    }
   ],
   "source": [
    "next(seq)"
   ]
  },
  {
   "cell_type": "code",
   "execution_count": 96,
   "id": "36ee5dac",
   "metadata": {},
   "outputs": [
    {
     "data": {
      "text/plain": [
       "4"
      ]
     },
     "execution_count": 96,
     "metadata": {},
     "output_type": "execute_result"
    }
   ],
   "source": [
    "next(seq)"
   ]
  },
  {
   "cell_type": "code",
   "execution_count": 97,
   "id": "43603f36",
   "metadata": {},
   "outputs": [
    {
     "ename": "StopIteration",
     "evalue": "",
     "output_type": "error",
     "traceback": [
      "\u001b[1;31m---------------------------------------------------------------------------\u001b[0m",
      "\u001b[1;31mStopIteration\u001b[0m                             Traceback (most recent call last)",
      "\u001b[1;32m~\\AppData\\Local\\Temp\\ipykernel_6804\\451434857.py\u001b[0m in \u001b[0;36m<module>\u001b[1;34m\u001b[0m\n\u001b[1;32m----> 1\u001b[1;33m \u001b[0mnext\u001b[0m\u001b[1;33m(\u001b[0m\u001b[0mseq\u001b[0m\u001b[1;33m)\u001b[0m\u001b[1;33m\u001b[0m\u001b[1;33m\u001b[0m\u001b[0m\n\u001b[0m",
      "\u001b[1;31mStopIteration\u001b[0m: "
     ]
    }
   ],
   "source": [
    "next(seq)"
   ]
  },
  {
   "cell_type": "code",
   "execution_count": null,
   "id": "ecd7d825",
   "metadata": {},
   "outputs": [],
   "source": [
    "next(seq)"
   ]
  },
  {
   "cell_type": "code",
   "execution_count": null,
   "id": "1a6b495a",
   "metadata": {},
   "outputs": [],
   "source": [
    "next(seq)"
   ]
  },
  {
   "cell_type": "code",
   "execution_count": null,
   "id": "00451716",
   "metadata": {},
   "outputs": [],
   "source": [
    "# square of sequence of values\n",
    "def square_of_sequence(x):\n",
    "    for i in range(x):\n",
    "        yield i*i   "
   ]
  },
  {
   "cell_type": "code",
   "execution_count": null,
   "id": "64f5daf3",
   "metadata": {},
   "outputs": [],
   "source": [
    "s=square_of_sequence(40)\n",
    "print(list(s))"
   ]
  },
  {
   "cell_type": "code",
   "execution_count": null,
   "id": "a1a2cd8b",
   "metadata": {},
   "outputs": [],
   "source": []
  }
 ],
 "metadata": {
  "kernelspec": {
   "display_name": "Python 3 (ipykernel)",
   "language": "python",
   "name": "python3"
  },
  "language_info": {
   "codemirror_mode": {
    "name": "ipython",
    "version": 3
   },
   "file_extension": ".py",
   "mimetype": "text/x-python",
   "name": "python",
   "nbconvert_exporter": "python",
   "pygments_lexer": "ipython3",
   "version": "3.9.13"
  }
 },
 "nbformat": 4,
 "nbformat_minor": 5
}
